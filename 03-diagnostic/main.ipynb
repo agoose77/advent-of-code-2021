{
 "cells": [
  {
   "cell_type": "code",
   "execution_count": 1,
   "id": "19f71f47-3533-4307-becd-ee93a59a8c32",
   "metadata": {
    "execution": {
     "iopub.execute_input": "2021-12-08T13:48:14.477893Z",
     "iopub.status.busy": "2021-12-08T13:48:14.477272Z",
     "iopub.status.idle": "2021-12-08T13:48:14.483486Z",
     "shell.execute_reply": "2021-12-08T13:48:14.483149Z"
    },
    "papermill": {
     "duration": 0.032154,
     "end_time": "2021-12-08T13:48:14.483582",
     "exception": false,
     "start_time": "2021-12-08T13:48:14.451428",
     "status": "completed"
    },
    "tags": []
   },
   "outputs": [],
   "source": [
    "%config InteractiveShell.ast_node_interactivity=\"last_expr_or_assign\""
   ]
  },
  {
   "cell_type": "markdown",
   "id": "23c4c281-8c1c-4e48-ad06-173238f2fb4d",
   "metadata": {
    "papermill": {
     "duration": 0.020237,
     "end_time": "2021-12-08T13:48:14.523599",
     "exception": false,
     "start_time": "2021-12-08T13:48:14.503362",
     "status": "completed"
    },
    "tags": []
   },
   "source": [
    "# Day 3: Diagnostics\n",
    "The input for this problem is located at https://adventofcode.com/2021/day/3/input"
   ]
  },
  {
   "cell_type": "code",
   "execution_count": 2,
   "id": "d8fb0ae9",
   "metadata": {
    "execution": {
     "iopub.execute_input": "2021-12-08T13:48:14.567552Z",
     "iopub.status.busy": "2021-12-08T13:48:14.567174Z",
     "iopub.status.idle": "2021-12-08T13:48:14.673617Z",
     "shell.execute_reply": "2021-12-08T13:48:14.674316Z"
    },
    "papermill": {
     "duration": 0.131123,
     "end_time": "2021-12-08T13:48:14.674526",
     "exception": false,
     "start_time": "2021-12-08T13:48:14.543403",
     "status": "completed"
    },
    "tags": []
   },
   "outputs": [],
   "source": [
    "import numpy as np"
   ]
  },
  {
   "cell_type": "code",
   "execution_count": 3,
   "id": "86ac56d3",
   "metadata": {
    "execution": {
     "iopub.execute_input": "2021-12-08T13:48:14.720935Z",
     "iopub.status.busy": "2021-12-08T13:48:14.720562Z",
     "iopub.status.idle": "2021-12-08T13:48:14.722018Z",
     "shell.execute_reply": "2021-12-08T13:48:14.722303Z"
    },
    "papermill": {
     "duration": 0.025151,
     "end_time": "2021-12-08T13:48:14.722402",
     "exception": false,
     "start_time": "2021-12-08T13:48:14.697251",
     "status": "completed"
    },
    "tags": []
   },
   "outputs": [],
   "source": [
    "def bin_to_decimal(array: np.ndarray) -> int:\n",
    "    n_bits = array.shape[-1]\n",
    "    coefficient = (2 ** np.arange(n_bits))[::-1]\n",
    "    return np.sum(coefficient * array, axis=-1)"
   ]
  },
  {
   "cell_type": "code",
   "execution_count": 4,
   "id": "0a626d1b",
   "metadata": {
    "execution": {
     "iopub.execute_input": "2021-12-08T13:48:14.767329Z",
     "iopub.status.busy": "2021-12-08T13:48:14.766961Z",
     "iopub.status.idle": "2021-12-08T13:48:14.768588Z",
     "shell.execute_reply": "2021-12-08T13:48:14.768867Z"
    },
    "papermill": {
     "duration": 0.026787,
     "end_time": "2021-12-08T13:48:14.768963",
     "exception": false,
     "start_time": "2021-12-08T13:48:14.742176",
     "status": "completed"
    },
    "tags": []
   },
   "outputs": [],
   "source": [
    "def compute_power_consumption(indicator: np.ndarray) -> int:\n",
    "    n, n_bits = indicator.shape\n",
    "\n",
    "    gamma_bit = np.around(np.mean(indicator, axis=0)).astype(np.int64)\n",
    "    epsilon_bit = 1 - gamma_bit\n",
    "\n",
    "    return bin_to_decimal(epsilon_bit) * bin_to_decimal(gamma_bit)"
   ]
  },
  {
   "cell_type": "code",
   "execution_count": 5,
   "id": "66ae8ab6",
   "metadata": {
    "execution": {
     "iopub.execute_input": "2021-12-08T13:48:14.812621Z",
     "iopub.status.busy": "2021-12-08T13:48:14.812187Z",
     "iopub.status.idle": "2021-12-08T13:48:14.814200Z",
     "shell.execute_reply": "2021-12-08T13:48:14.813847Z"
    },
    "papermill": {
     "duration": 0.025611,
     "end_time": "2021-12-08T13:48:14.814281",
     "exception": false,
     "start_time": "2021-12-08T13:48:14.788670",
     "status": "completed"
    },
    "tags": []
   },
   "outputs": [],
   "source": [
    "def most_common_value(array: np.ndarray) -> np.ndarray:\n",
    "    return np.floor(0.5 + array.mean(axis=0)).astype(array.dtype)"
   ]
  },
  {
   "cell_type": "code",
   "execution_count": 6,
   "id": "031e0c4b",
   "metadata": {
    "execution": {
     "iopub.execute_input": "2021-12-08T13:48:14.857895Z",
     "iopub.status.busy": "2021-12-08T13:48:14.857533Z",
     "iopub.status.idle": "2021-12-08T13:48:14.859469Z",
     "shell.execute_reply": "2021-12-08T13:48:14.859149Z"
    },
    "papermill": {
     "duration": 0.025009,
     "end_time": "2021-12-08T13:48:14.859603",
     "exception": false,
     "start_time": "2021-12-08T13:48:14.834594",
     "status": "completed"
    },
    "tags": []
   },
   "outputs": [],
   "source": [
    "def least_common_value(array: np.ndarray) -> np.ndarray:\n",
    "    return 1 - most_common_value(array)"
   ]
  },
  {
   "cell_type": "code",
   "execution_count": 7,
   "id": "6908406c",
   "metadata": {
    "execution": {
     "iopub.execute_input": "2021-12-08T13:48:14.904654Z",
     "iopub.status.busy": "2021-12-08T13:48:14.904286Z",
     "iopub.status.idle": "2021-12-08T13:48:14.906133Z",
     "shell.execute_reply": "2021-12-08T13:48:14.905789Z"
    },
    "papermill": {
     "duration": 0.025624,
     "end_time": "2021-12-08T13:48:14.906210",
     "exception": false,
     "start_time": "2021-12-08T13:48:14.880586",
     "status": "completed"
    },
    "tags": []
   },
   "outputs": [],
   "source": [
    "def compute_life_support_rating(indicator: np.ndarray, criterion) -> int:\n",
    "    n, n_bits = indicator.shape\n",
    "\n",
    "    for i in range(n_bits):\n",
    "        bit = indicator[:, i]\n",
    "        indicator = indicator[bit == criterion(bit)]\n",
    "        if len(indicator) == 1:\n",
    "            return bin_to_decimal(indicator[0])\n",
    "    raise ValueError"
   ]
  },
  {
   "cell_type": "markdown",
   "id": "0599ac13-ef20-4bac-a843-9c842db04703",
   "metadata": {
    "papermill": {
     "duration": 0.021283,
     "end_time": "2021-12-08T13:48:14.948038",
     "exception": false,
     "start_time": "2021-12-08T13:48:14.926755",
     "status": "completed"
    },
    "tags": []
   },
   "source": [
    "Load input"
   ]
  },
  {
   "cell_type": "code",
   "execution_count": 8,
   "id": "e12d05b6-aa4e-41a4-8d49-9e2c07ba003c",
   "metadata": {
    "execution": {
     "iopub.execute_input": "2021-12-08T13:48:14.996562Z",
     "iopub.status.busy": "2021-12-08T13:48:14.996175Z",
     "iopub.status.idle": "2021-12-08T13:48:15.010669Z",
     "shell.execute_reply": "2021-12-08T13:48:15.010989Z"
    },
    "papermill": {
     "duration": 0.042037,
     "end_time": "2021-12-08T13:48:15.011112",
     "exception": false,
     "start_time": "2021-12-08T13:48:14.969075",
     "status": "completed"
    },
    "tags": []
   },
   "outputs": [
    {
     "data": {
      "text/plain": [
       "array([[0, 1, 0, ..., 0, 1, 0],\n",
       "       [0, 1, 1, ..., 1, 0, 0],\n",
       "       [1, 1, 0, ..., 1, 0, 1],\n",
       "       ...,\n",
       "       [0, 1, 0, ..., 1, 0, 0],\n",
       "       [0, 1, 1, ..., 1, 0, 0],\n",
       "       [0, 1, 0, ..., 1, 0, 1]])"
      ]
     },
     "execution_count": 8,
     "metadata": {},
     "output_type": "execute_result"
    }
   ],
   "source": [
    "indicator = np.genfromtxt(\"input.txt\", dtype=np.int64, delimiter=1, autostrip=True)"
   ]
  },
  {
   "cell_type": "code",
   "execution_count": 9,
   "id": "8d7bcb4e-58a7-471f-857c-906889454d08",
   "metadata": {
    "execution": {
     "iopub.execute_input": "2021-12-08T13:48:15.052819Z",
     "iopub.status.busy": "2021-12-08T13:48:15.052384Z",
     "iopub.status.idle": "2021-12-08T13:48:15.054301Z",
     "shell.execute_reply": "2021-12-08T13:48:15.054588Z"
    },
    "papermill": {
     "duration": 0.024938,
     "end_time": "2021-12-08T13:48:15.054688",
     "exception": false,
     "start_time": "2021-12-08T13:48:15.029750",
     "status": "completed"
    },
    "tags": []
   },
   "outputs": [
    {
     "data": {
      "text/plain": [
       "3895776"
      ]
     },
     "execution_count": 9,
     "metadata": {},
     "output_type": "execute_result"
    }
   ],
   "source": [
    "power_consumption = compute_power_consumption(indicator)"
   ]
  },
  {
   "cell_type": "code",
   "execution_count": 10,
   "id": "53dc09a0-8d12-4c7a-b55d-ef0f42f68235",
   "metadata": {
    "execution": {
     "iopub.execute_input": "2021-12-08T13:48:15.098355Z",
     "iopub.status.busy": "2021-12-08T13:48:15.097948Z",
     "iopub.status.idle": "2021-12-08T13:48:15.101241Z",
     "shell.execute_reply": "2021-12-08T13:48:15.100935Z"
    },
    "papermill": {
     "duration": 0.026466,
     "end_time": "2021-12-08T13:48:15.101325",
     "exception": false,
     "start_time": "2021-12-08T13:48:15.074859",
     "status": "completed"
    },
    "tags": []
   },
   "outputs": [
    {
     "data": {
      "text/plain": [
       "3982"
      ]
     },
     "execution_count": 10,
     "metadata": {},
     "output_type": "execute_result"
    }
   ],
   "source": [
    "oxygen_rating = compute_life_support_rating(indicator, most_common_value)\n",
    "co2_rating = compute_life_support_rating(indicator, least_common_value)"
   ]
  },
  {
   "cell_type": "code",
   "execution_count": 11,
   "id": "860a4d54-cbb4-4c29-aeb5-522923e35172",
   "metadata": {
    "execution": {
     "iopub.execute_input": "2021-12-08T13:48:15.147425Z",
     "iopub.status.busy": "2021-12-08T13:48:15.147044Z",
     "iopub.status.idle": "2021-12-08T13:48:15.149617Z",
     "shell.execute_reply": "2021-12-08T13:48:15.149244Z"
    },
    "papermill": {
     "duration": 0.02732,
     "end_time": "2021-12-08T13:48:15.149701",
     "exception": false,
     "start_time": "2021-12-08T13:48:15.122381",
     "status": "completed"
    },
    "tags": []
   },
   "outputs": [
    {
     "data": {
      "text/plain": [
       "7928162"
      ]
     },
     "execution_count": 11,
     "metadata": {},
     "output_type": "execute_result"
    }
   ],
   "source": [
    "oxygen_rating * co2_rating"
   ]
  }
 ],
 "metadata": {
  "jupytext": {
   "cell_metadata_filter": "-all",
   "executable": "/usr/bin/env python3",
   "main_language": "python",
   "notebook_metadata_filter": "-all"
  },
  "kernelspec": {
   "display_name": "Python 3 (ipykernel)",
   "language": "python",
   "name": "python3"
  },
  "language_info": {
   "codemirror_mode": {
    "name": "ipython",
    "version": 3
   },
   "file_extension": ".py",
   "mimetype": "text/x-python",
   "name": "python",
   "nbconvert_exporter": "python",
   "pygments_lexer": "ipython3",
   "version": "3.9.7"
  },
  "papermill": {
   "default_parameters": {},
   "duration": 1.759696,
   "end_time": "2021-12-08T13:48:15.276989",
   "environment_variables": {},
   "exception": null,
   "input_path": "03-diagnostic/main.ipynb",
   "output_path": "03-diagnostic/main.ipynb",
   "parameters": {},
   "start_time": "2021-12-08T13:48:13.517293",
   "version": "2.3.3"
  }
 },
 "nbformat": 4,
 "nbformat_minor": 5
}
