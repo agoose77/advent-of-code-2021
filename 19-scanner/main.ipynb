{
 "cells": [
  {
   "cell_type": "markdown",
   "id": "104aab3f-7060-40a9-be94-2d95ecf93311",
   "metadata": {},
   "source": [
    "# Day 19: Scanner\n",
    "The input for this problem is located at https://adventofcode.com/2021/day/19/input"
   ]
  },
  {
   "cell_type": "code",
   "execution_count": 1,
   "id": "756033ca-4204-4f3e-b8b5-3ec3271becfa",
   "metadata": {},
   "outputs": [],
   "source": [
    "import collections\n",
    "import dataclasses\n",
    "import itertools\n",
    "\n",
    "%load_ext numpy_html"
   ]
  },
  {
   "cell_type": "markdown",
   "id": "9fcf27cc-2f1a-4593-89b5-e17beb4bf1d9",
   "metadata": {},
   "source": [
    "We will start with a `Vector3` class to handle vectors"
   ]
  },
  {
   "cell_type": "code",
   "execution_count": 2,
   "id": "ebd65d8b-ebcb-47e9-a9cc-4971065046ba",
   "metadata": {},
   "outputs": [],
   "source": [
    "@dataclasses.dataclass(frozen=True)\n",
    "class Vector3:\n",
    "    x: int\n",
    "    y: int\n",
    "    z: int\n",
    "\n",
    "    def __add__(self, other):\n",
    "        if not isinstance(other, Vector3):\n",
    "            return NotImplemented\n",
    "\n",
    "        return Vector3(x=self.x + other.x, y=self.y + other.y, z=self.z + other.z)\n",
    "\n",
    "    def __sub__(self, other):\n",
    "        if not isinstance(other, Vector3):\n",
    "            return NotImplemented\n",
    "\n",
    "        return self + (-other)\n",
    "\n",
    "    def __neg__(self):\n",
    "        return Vector3(x=-self.x, y=-self.y, z=-self.z)\n",
    "\n",
    "    def __mul__(self, other):\n",
    "        if isinstance(other, Vector3):\n",
    "            return self.x * other.x + self.y * other.y + self.z * other.z\n",
    "        if isinstance(other, int):\n",
    "            return Vector3(self.x * other, self.y * other, self.z * other)\n",
    "        return NotImplemented\n",
    "\n",
    "    def cross(self, other):\n",
    "        return Vector3(\n",
    "            x=(self.y * other.z - self.z * other.y),\n",
    "            y=(self.z * other.x - self.x * other.z),\n",
    "            z=(self.x * other.y - self.y * other.x),\n",
    "        )\n",
    "\n",
    "    @property\n",
    "    def mag2(self) -> float:\n",
    "        return self.x ** 2 + self.y ** 2 + self.z ** 2"
   ]
  },
  {
   "cell_type": "code",
   "execution_count": 3,
   "id": "81991ade-b1c8-4428-b75a-99e340508486",
   "metadata": {},
   "outputs": [],
   "source": [
    "@dataclasses.dataclass(frozen=True)\n",
    "class Rotation:\n",
    "    u: Vector3\n",
    "    v: Vector3\n",
    "    w: Vector3\n",
    "\n",
    "    def __matmul__(self, other):\n",
    "        if not isinstance(other, Vector3):\n",
    "            return NotImplemented\n",
    "\n",
    "        return Vector3(self.u * other, self.v * other, self.w * other)"
   ]
  },
  {
   "cell_type": "code",
   "execution_count": 24,
   "id": "8f6e983d-b003-4128-83bc-b2cdc48f5bed",
   "metadata": {},
   "outputs": [],
   "source": [
    "@dataclasses.dataclass(frozen=True)\n",
    "class Transform:\n",
    "    translation: Vector3\n",
    "    rotation: Rotation\n",
    "\n",
    "    def __add__(self, other):\n",
    "        if not isinstance(other, Vector3):\n",
    "            return NotImplemented\n",
    "\n",
    "        return Transform(self.translation + other, self.rotation)\n",
    "\n",
    "    def __sub__(self, other):\n",
    "        if not isinstance(other, Vector3):\n",
    "            return NotImplemented\n",
    "\n",
    "        return self + (-other)\n",
    "\n",
    "    def __matmul__(self, other):\n",
    "        if not isinstance(other, Vector3):\n",
    "            return NotImplemented\n",
    "\n",
    "        return self.translation + self.rotation @ other"
   ]
  },
  {
   "cell_type": "markdown",
   "id": "851e6eeb-5836-41c2-b2f0-85958f25d13c",
   "metadata": {},
   "source": [
    "We can load the coordinates from our input and parse them into vectors"
   ]
  },
  {
   "cell_type": "code",
   "execution_count": 25,
   "id": "56dc6ef1-5194-4040-8760-48cb29a0acac",
   "metadata": {},
   "outputs": [],
   "source": [
    "coordinates = []\n",
    "\n",
    "with open(\"input.txt\") as f:\n",
    "    for line in f:\n",
    "        if line.startswith(\"---\"):\n",
    "            coordinates.append([])\n",
    "        elif line.strip():\n",
    "            x, y, z = map(int, line.split(\",\"))\n",
    "            coordinates[-1].append(Vector3(x, y, z))"
   ]
  },
  {
   "cell_type": "markdown",
   "id": "9381b31e-293e-459e-b0cc-1d1cb8e0632c",
   "metadata": {},
   "source": [
    "Now we want to be able to use a heuristic to find overlapping regions, and determine which points are common between them. We will create a `Graph` class that uses the transformation-invariant distance between nodes."
   ]
  },
  {
   "cell_type": "code",
   "execution_count": 26,
   "id": "dbb86135-7c4c-4b80-86e5-5063622fb10d",
   "metadata": {},
   "outputs": [],
   "source": [
    "@dataclasses.dataclass(frozen=True)\n",
    "class Graph:\n",
    "    edges_by_separation: dict[float, list[tuple[int, int]]]\n",
    "    separations_by_node: list[set[float]]"
   ]
  },
  {
   "cell_type": "markdown",
   "id": "d98cd9d2-af1b-4657-918b-ee9d0057b2ae",
   "metadata": {},
   "source": [
    "We build the graph by using a euclidean distance separation metric"
   ]
  },
  {
   "cell_type": "code",
   "execution_count": 27,
   "id": "aad2b775-5652-416f-ba68-3955af033b41",
   "metadata": {},
   "outputs": [],
   "source": [
    "def build_graph(points):\n",
    "    edges_by_separation = collections.defaultdict(list)\n",
    "    separations_by_node = collections.defaultdict(set)\n",
    "\n",
    "    n_points = len(points)\n",
    "    for i, j in itertools.combinations(range(n_points), 2):\n",
    "        separation = (points[i] - points[j]).mag2\n",
    "        edges_by_separation[separation].append((i, j))\n",
    "        separations_by_node[i].add(separation)\n",
    "        separations_by_node[j].add(separation)\n",
    "\n",
    "    return Graph(\n",
    "        edges_by_separation,\n",
    "        [separations_by_node[i] for i in range(n_points)],\n",
    "    )"
   ]
  },
  {
   "cell_type": "markdown",
   "id": "d3dfa2e9-a468-4874-b72b-21a378a1e384",
   "metadata": {},
   "source": [
    "Now, when we ultimately compute two local vectors that likely correspond to the same edge, we need to determine the valid transformation. We can do this most simply (and stupidly!) by generating the possible transforms."
   ]
  },
  {
   "cell_type": "code",
   "execution_count": 28,
   "id": "f3cab022-af41-44c7-86cc-5b6acea76d69",
   "metadata": {},
   "outputs": [],
   "source": [
    "canon = (1, 0, 0), (0, 1, 0), (0, 0, 1)"
   ]
  },
  {
   "cell_type": "code",
   "execution_count": 29,
   "id": "e9e0a746-5357-4cbe-afb8-114998c011b9",
   "metadata": {},
   "outputs": [],
   "source": [
    "def orientation_transforms():\n",
    "    for (s1, s2), (p, q) in itertools.product(\n",
    "        itertools.product([1, -1], repeat=2), itertools.permutations(canon, 2)\n",
    "    ):\n",
    "        # for a, b in itertools.\n",
    "        n1, n2 = Vector3(*p) * s1, Vector3(*q) * s2\n",
    "        if n1 * n2:\n",
    "            continue\n",
    "\n",
    "        n3 = n1.cross(n2)\n",
    "        yield Rotation(n1, n2, n3)"
   ]
  },
  {
   "cell_type": "markdown",
   "id": "0a5788a6-a151-4d7d-834d-cc889f0906d7",
   "metadata": {},
   "source": [
    "Now we can use these generated orientation matrices to compute the transform between the reference and the candidate"
   ]
  },
  {
   "cell_type": "code",
   "execution_count": 43,
   "id": "c10c6f42-9605-4089-9396-b3335ec01404",
   "metadata": {},
   "outputs": [],
   "source": [
    "def compute_possible_transform(reference, candidate, common_separations):\n",
    "    for d in common_separations:\n",
    "        for (i, j), (k, l) in itertools.product(\n",
    "            reference.graph.edges_by_separation[d],\n",
    "            candidate.graph.edges_by_separation[d],\n",
    "        ):\n",
    "            i_and_l = len(\n",
    "                reference.graph.separations_by_node[i]\n",
    "                & candidate.graph.separations_by_node[l]\n",
    "            )\n",
    "            j_and_l = len(\n",
    "                reference.graph.separations_by_node[j]\n",
    "                & candidate.graph.separations_by_node[l]\n",
    "            )\n",
    "\n",
    "            # We will take our relative vectors using the relative\n",
    "            # origins of u, and p.\n",
    "            # This means we want q and v to be the \"same\" node\n",
    "            # We can do this by finding the node in {u, v}\n",
    "            # which has the most similar separations.\n",
    "            # Here, we just switch the indices to guarantee this\n",
    "            if j_and_l < i_and_l:\n",
    "                i, j = j, i\n",
    "\n",
    "            u, v = reference.points[i], reference.points[j]\n",
    "            p, q = candidate.points[k], candidate.points[l]\n",
    "\n",
    "            v_u = v - u\n",
    "            q_p = q - p\n",
    "\n",
    "            for r_qp_vu in orientation_transforms():\n",
    "                if (r_qp_vu @ q_p) != v_u:\n",
    "                    continue\n",
    "\n",
    "                # Create new transform including translation\n",
    "                dr = v - r_qp_vu @ q\n",
    "                yield Transform(dr, r_qp_vu)"
   ]
  },
  {
   "cell_type": "code",
   "execution_count": 31,
   "id": "1d792fae-8106-4d2b-8c57-f8d0378c79b8",
   "metadata": {},
   "outputs": [],
   "source": [
    "@dataclasses.dataclass(frozen=True)\n",
    "class UnknownRegion:\n",
    "    graph: Graph\n",
    "    points: list[Vector3]"
   ]
  },
  {
   "cell_type": "code",
   "execution_count": 32,
   "id": "538feada-b9e5-491a-aa11-b1df3e10db9c",
   "metadata": {},
   "outputs": [],
   "source": [
    "@dataclasses.dataclass(frozen=True)\n",
    "class KnownRegion:\n",
    "    graph: Graph\n",
    "    points: list[Vector3]\n",
    "    origin: Vector3"
   ]
  },
  {
   "cell_type": "code",
   "execution_count": 44,
   "id": "ef34bb52-c099-44cb-8e6d-7bf4df186f16",
   "metadata": {},
   "outputs": [],
   "source": [
    "def update_knowledge(known, unknown):\n",
    "    candidates = (\n",
    "        (\n",
    "            reference,\n",
    "            candidate,\n",
    "            candidate.graph.edges_by_separation.keys()\n",
    "            & reference.graph.edges_by_separation.keys(),\n",
    "        )\n",
    "        for reference, candidate in itertools.product(known, unknown)\n",
    "    )\n",
    "\n",
    "    for reference, candidate, common_separations in sorted(\n",
    "        candidates, key=lambda x: len(x[2]), reverse=True\n",
    "    ):\n",
    "        # If we have at least 12 common beacons in each set,\n",
    "        # then common to both beacons we should have nCk(12, 2) distances\n",
    "        # corresponding to the number inter-beacon distances for each common\n",
    "        # beacon (2 beacons form an edge, 12 beacons)\n",
    "        # However, without ensuring uniqueness of our distance computation,\n",
    "        # we may see fewer separations\n",
    "        # if len(common_separations) < math.comb(12, 2):\n",
    "        #     continue\n",
    "\n",
    "        for transform in compute_possible_transform(\n",
    "            reference, candidate, common_separations\n",
    "        ):\n",
    "            new_points = [transform @ p for p in candidate.points]\n",
    "\n",
    "            if len(frozenset(reference.points) & frozenset(new_points)) < 12:\n",
    "                continue\n",
    "\n",
    "            region = KnownRegion(candidate.graph, new_points, transform.translation)\n",
    "            return known + [region], [n for n in unknown if n != candidate]\n",
    "    raise ValueError"
   ]
  },
  {
   "cell_type": "code",
   "execution_count": 45,
   "id": "582bca3e-b3ba-43e1-bc4b-bef4cab01dbe",
   "metadata": {
    "tags": []
   },
   "outputs": [],
   "source": [
    "known = [KnownRegion(build_graph(coordinates[0]), coordinates[0], Vector3(0, 0, 0))]\n",
    "unknown = [UnknownRegion(build_graph(p), p) for p in coordinates[1:]]\n",
    "\n",
    "i = 0\n",
    "while unknown:\n",
    "    known, unknown = update_knowledge(known, unknown)\n",
    "    i += 1"
   ]
  },
  {
   "cell_type": "markdown",
   "id": "34988878-88db-4564-a149-c3413e64e660",
   "metadata": {},
   "source": [
    "## Part 1"
   ]
  },
  {
   "cell_type": "code",
   "execution_count": 46,
   "id": "3e0f5d8c-1bfb-4fac-9a5f-48fe7c1e547b",
   "metadata": {},
   "outputs": [],
   "source": [
    "points = set()\n",
    "for n in known:\n",
    "    points.update(n.points)"
   ]
  },
  {
   "cell_type": "code",
   "execution_count": 47,
   "id": "75e8d992-d72b-40a6-a354-061d346ba4bc",
   "metadata": {},
   "outputs": [
    {
     "data": {
      "text/plain": [
       "79"
      ]
     },
     "execution_count": 47,
     "metadata": {},
     "output_type": "execute_result"
    }
   ],
   "source": [
    "len(points)"
   ]
  },
  {
   "cell_type": "markdown",
   "id": "8dcbf174-5da0-4bab-bbb8-6283058d12c1",
   "metadata": {},
   "source": [
    "## Part 2"
   ]
  },
  {
   "cell_type": "code",
   "execution_count": 48,
   "id": "5de29cbf-a138-444a-9998-2318e6e826bd",
   "metadata": {},
   "outputs": [],
   "source": [
    "def manhattan(this, that):\n",
    "    return abs(this.x - that.x) + abs(this.y - that.y) + abs(this.z - that.z)"
   ]
  },
  {
   "cell_type": "code",
   "execution_count": 40,
   "id": "74ad23ef-7aee-45ce-8812-e066ec0854a3",
   "metadata": {},
   "outputs": [],
   "source": [
    "separations_manhattan = [\n",
    "    manhattan(p, q) for p, q in itertools.combinations([n.origin for n in known], 2)\n",
    "]"
   ]
  },
  {
   "cell_type": "code",
   "execution_count": 41,
   "id": "db91b553-4b7c-4ba7-bc12-00cdd17cdb37",
   "metadata": {},
   "outputs": [
    {
     "data": {
      "text/plain": [
       "3621"
      ]
     },
     "execution_count": 41,
     "metadata": {},
     "output_type": "execute_result"
    }
   ],
   "source": [
    "max(separations_manhattan)"
   ]
  }
 ],
 "metadata": {
  "kernelspec": {
   "display_name": "Python 3 (ipykernel)",
   "language": "python",
   "name": "python3"
  },
  "language_info": {
   "codemirror_mode": {
    "name": "ipython",
    "version": 3
   },
   "file_extension": ".py",
   "mimetype": "text/x-python",
   "name": "python",
   "nbconvert_exporter": "python",
   "pygments_lexer": "ipython3",
   "version": "3.9.7"
  },
  "papermill": {
   "default_parameters": {},
   "duration": 3.067522,
   "end_time": "2021-12-08T13:48:29.482469",
   "environment_variables": {},
   "exception": null,
   "input_path": "08-segments/01-multi-pass.ipynb",
   "output_path": "08-segments/01-multi-pass.ipynb",
   "parameters": {},
   "start_time": "2021-12-08T13:48:26.414947",
   "version": "2.3.3"
  }
 },
 "nbformat": 4,
 "nbformat_minor": 5
}
