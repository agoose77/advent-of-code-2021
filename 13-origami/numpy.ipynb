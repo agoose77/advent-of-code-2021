{
 "cells": [
  {
   "cell_type": "markdown",
   "id": "104aab3f-7060-40a9-be94-2d95ecf93311",
   "metadata": {
    "papermill": {
     "duration": 0.031208,
     "end_time": "2021-12-08T13:48:27.629778",
     "exception": false,
     "start_time": "2021-12-08T13:48:27.598570",
     "status": "completed"
    },
    "tags": []
   },
   "source": [
    "# Day 13: Origami\n",
    "The input for this problem is located at https://adventofcode.com/2021/day/13/input"
   ]
  },
  {
   "cell_type": "code",
   "execution_count": 71,
   "id": "96f41394-ed6b-45b2-a8ae-6fac6c82f09b",
   "metadata": {},
   "outputs": [
    {
     "name": "stdout",
     "output_type": "stream",
     "text": [
      "The numpy_html extension is already loaded. To reload it, use:\n",
      "  %reload_ext numpy_html\n"
     ]
    }
   ],
   "source": [
    "%load_ext numpy_html"
   ]
  },
  {
   "cell_type": "code",
   "execution_count": 72,
   "id": "ad6c8678-677b-437d-beae-d76423411138",
   "metadata": {
    "lines_to_next_cell": 1,
    "papermill": {
     "duration": 0.035933,
     "end_time": "2021-12-08T13:48:27.700199",
     "exception": false,
     "start_time": "2021-12-08T13:48:27.664266",
     "status": "completed"
    },
    "tags": []
   },
   "outputs": [],
   "source": [
    "import re\n",
    "\n",
    "import matplotlib.pyplot as plt\n",
    "import numpy as np"
   ]
  },
  {
   "cell_type": "markdown",
   "id": "f31ef713-05ba-4867-83e1-e6a531069035",
   "metadata": {
    "papermill": {
     "duration": 0.033761,
     "end_time": "2021-12-08T13:48:27.771840",
     "exception": false,
     "start_time": "2021-12-08T13:48:27.738079",
     "status": "completed"
    },
    "tags": []
   },
   "source": [
    "Load the problem. We can do this more concisely, but it's fun to imagine a more general class of problem in which we need to handle runs of different inputs."
   ]
  },
  {
   "cell_type": "code",
   "execution_count": 73,
   "id": "15087aa7-b4d4-4c5a-b9ae-b79330a32546",
   "metadata": {},
   "outputs": [],
   "source": [
    "with open(\"input.txt\") as f:\n",
    "    source = f.read()"
   ]
  },
  {
   "cell_type": "code",
   "execution_count": 74,
   "id": "edd1fa48-dc54-45fa-8551-dd5c2b91d1f6",
   "metadata": {},
   "outputs": [],
   "source": [
    "source_dots, _, source_folds = source.partition(\"\\n\\n\")"
   ]
  },
  {
   "cell_type": "code",
   "execution_count": 75,
   "id": "33dc577e-4648-46c1-8670-0fbed88e5e36",
   "metadata": {},
   "outputs": [],
   "source": [
    "dots = [((int(i), int(j))) for i, j in re.findall(r\"(\\d+),(\\d+)\", source_dots)]\n",
    "folds = [((ax, int(i))) for ax, i in re.findall(r\"fold along (\\w)=(\\d+)\", source_folds)]"
   ]
  },
  {
   "cell_type": "code",
   "execution_count": 76,
   "id": "56037b30-6f69-40e0-8e65-16806edcf8fa",
   "metadata": {},
   "outputs": [],
   "source": [
    "j, i = zip(*dots)"
   ]
  },
  {
   "cell_type": "code",
   "execution_count": 77,
   "id": "c06de4cb-fefe-4f7a-aa32-ff474df143bb",
   "metadata": {},
   "outputs": [],
   "source": [
    "paper = np.zeros((max(i) + 1, max(j) + 1), dtype=np.bool_)"
   ]
  },
  {
   "cell_type": "code",
   "execution_count": 78,
   "id": "330dabf0-fc3b-403b-9011-0401820e3a2b",
   "metadata": {},
   "outputs": [],
   "source": [
    "np.add.at(paper, (i, j), 1)"
   ]
  },
  {
   "cell_type": "code",
   "execution_count": 171,
   "id": "53786538-14ac-4bb5-aba4-c1f02323a98d",
   "metadata": {},
   "outputs": [],
   "source": [
    "def fold0(paper, at):\n",
    "    left = paper[:at]\n",
    "    right = paper[at + 1 :]\n",
    "\n",
    "    δ = len(left) - len(right)\n",
    "\n",
    "    if δ < 0:\n",
    "        left = np.pad(left, [(-δ, 0), (0, 0)])\n",
    "    else:\n",
    "        right = np.pad(right, [(0, δ), (0, 0)])\n",
    "\n",
    "    return np.logical_or(\n",
    "        left,\n",
    "        right[::-1],\n",
    "    )"
   ]
  },
  {
   "cell_type": "code",
   "execution_count": 172,
   "id": "b83908ca-82dd-4c2e-bccb-5b704760eba2",
   "metadata": {},
   "outputs": [],
   "source": [
    "def fold(paper, axis, at):\n",
    "    if axis == \"y\":\n",
    "        return fold0(paper, at)\n",
    "    return fold0(paper.T, at).T"
   ]
  },
  {
   "cell_type": "code",
   "execution_count": 186,
   "id": "6e935e4c-2807-4141-82e0-a12853c16a4d",
   "metadata": {},
   "outputs": [
    {
     "data": {
      "text/plain": [
       "785"
      ]
     },
     "execution_count": 186,
     "metadata": {},
     "output_type": "execute_result"
    }
   ],
   "source": [
    "ax, ix = folds[0]\n",
    "fold(paper, ax, ix).sum()"
   ]
  },
  {
   "cell_type": "code",
   "execution_count": 187,
   "id": "4ba6add9-b1f7-4a0f-95ae-1eb1812b4e6b",
   "metadata": {},
   "outputs": [],
   "source": [
    "folded = paper\n",
    "for ax, ix in folds:\n",
    "    folded = fold(folded, ax, ix)"
   ]
  },
  {
   "cell_type": "code",
   "execution_count": 188,
   "id": "967c8203-c9d3-4f2e-93a6-0878fbe95888",
   "metadata": {},
   "outputs": [
    {
     "data": {
      "image/png": "[encoded data removed]",
      "text/plain": [
       "<Figure size 432x288 with 1 Axes>"
      ]
     },
     "metadata": {
      "needs_background": "light"
     },
     "output_type": "display_data"
    }
   ],
   "source": [
    "plt.imshow(folded, interpolation=\"none\");"
   ]
  }
 ],
 "metadata": {
  "kernelspec": {
   "display_name": "Python 3 (ipykernel)",
   "language": "python",
   "name": "python3"
  },
  "language_info": {
   "codemirror_mode": {
    "name": "ipython",
    "version": 3
   },
   "file_extension": ".py",
   "mimetype": "text/x-python",
   "name": "python",
   "nbconvert_exporter": "python",
   "pygments_lexer": "ipython3",
   "version": "3.9.7"
  },
  "papermill": {
   "default_parameters": {},
   "duration": 3.067522,
   "end_time": "2021-12-08T13:48:29.482469",
   "environment_variables": {},
   "exception": null,
   "input_path": "08-segments/01-multi-pass.ipynb",
   "output_path": "08-segments/01-multi-pass.ipynb",
   "parameters": {},
   "start_time": "2021-12-08T13:48:26.414947",
   "version": "2.3.3"
  }
 },
 "nbformat": 4,
 "nbformat_minor": 5
}
