{
 "cells": [
  {
   "cell_type": "markdown",
   "id": "104aab3f-7060-40a9-be94-2d95ecf93311",
   "metadata": {
    "papermill": {
     "duration": 0.031208,
     "end_time": "2021-12-08T13:48:27.629778",
     "exception": false,
     "start_time": "2021-12-08T13:48:27.598570",
     "status": "completed"
    },
    "tags": []
   },
   "source": [
    "# Day 13: Origami\n",
    "The input for this problem is located at https://adventofcode.com/2021/day/13/input"
   ]
  },
  {
   "cell_type": "code",
   "execution_count": 1,
   "id": "96f41394-ed6b-45b2-a8ae-6fac6c82f09b",
   "metadata": {},
   "outputs": [],
   "source": [
    "%load_ext numpy_html"
   ]
  },
  {
   "cell_type": "code",
   "execution_count": 2,
   "id": "ad6c8678-677b-437d-beae-d76423411138",
   "metadata": {
    "lines_to_next_cell": 1,
    "papermill": {
     "duration": 0.035933,
     "end_time": "2021-12-08T13:48:27.700199",
     "exception": false,
     "start_time": "2021-12-08T13:48:27.664266",
     "status": "completed"
    },
    "tags": []
   },
   "outputs": [],
   "source": [
    "import re\n",
    "\n",
    "import matplotlib.pyplot as plt"
   ]
  },
  {
   "cell_type": "markdown",
   "id": "f31ef713-05ba-4867-83e1-e6a531069035",
   "metadata": {
    "papermill": {
     "duration": 0.033761,
     "end_time": "2021-12-08T13:48:27.771840",
     "exception": false,
     "start_time": "2021-12-08T13:48:27.738079",
     "status": "completed"
    },
    "tags": []
   },
   "source": [
    "Load the problem. We can do this more concisely, but it's fun to imagine a more general class of problem in which we need to handle runs of different inputs."
   ]
  },
  {
   "cell_type": "code",
   "execution_count": 3,
   "id": "15087aa7-b4d4-4c5a-b9ae-b79330a32546",
   "metadata": {},
   "outputs": [],
   "source": [
    "with open(\"input.txt\") as f:\n",
    "    source = f.read()"
   ]
  },
  {
   "cell_type": "code",
   "execution_count": 4,
   "id": "edd1fa48-dc54-45fa-8551-dd5c2b91d1f6",
   "metadata": {},
   "outputs": [],
   "source": [
    "source_dots, _, source_folds = source.partition(\"\\n\\n\")"
   ]
  },
  {
   "cell_type": "code",
   "execution_count": 5,
   "id": "33dc577e-4648-46c1-8670-0fbed88e5e36",
   "metadata": {},
   "outputs": [],
   "source": [
    "dots = [((int(i), int(j))) for i, j in re.findall(r\"(\\d+),(\\d+)\", source_dots)]\n",
    "folds = [((ax, int(i))) for ax, i in re.findall(r\"fold along (\\w)=(\\d+)\", source_folds)]"
   ]
  },
  {
   "cell_type": "code",
   "execution_count": 6,
   "id": "b93d698b-eb4b-45af-898d-4bb870f38135",
   "metadata": {},
   "outputs": [],
   "source": [
    "def transpose(points):\n",
    "    for x, y in points:\n",
    "        yield y, x"
   ]
  },
  {
   "cell_type": "code",
   "execution_count": 7,
   "id": "cf7c3d76-c1b6-4e1b-98b1-79043abfb3f6",
   "metadata": {},
   "outputs": [],
   "source": [
    "def fold0(points, at):\n",
    "    for x, y in points:\n",
    "        if x > at:\n",
    "            yield 2 * at - x, y\n",
    "        elif x < at:\n",
    "            yield x, y"
   ]
  },
  {
   "cell_type": "code",
   "execution_count": 8,
   "id": "fc4b6b75-6880-42ef-8b6b-4481b50c52b4",
   "metadata": {},
   "outputs": [],
   "source": [
    "def fold(points, axis, at):\n",
    "    if axis == \"y\":\n",
    "        return transpose(fold0(transpose(points), at))\n",
    "    return fold0(points, at)"
   ]
  },
  {
   "cell_type": "code",
   "execution_count": 20,
   "id": "34ed8312-5657-464e-a772-fa804f27396a",
   "metadata": {},
   "outputs": [
    {
     "data": {
      "text/plain": [
       "785"
      ]
     },
     "execution_count": 20,
     "metadata": {},
     "output_type": "execute_result"
    }
   ],
   "source": [
    "len(set(fold(dots, *folds[0])))"
   ]
  },
  {
   "cell_type": "code",
   "execution_count": 9,
   "id": "ae9c0a58-7bc6-4308-af34-9e98b9308855",
   "metadata": {},
   "outputs": [],
   "source": [
    "points = dots\n",
    "for axis, at in folds:\n",
    "    points = fold(points, axis, at)"
   ]
  },
  {
   "cell_type": "code",
   "execution_count": 10,
   "id": "d2c545d4-1f75-443f-aa7d-f4747198b382",
   "metadata": {},
   "outputs": [],
   "source": [
    "def raster(points):\n",
    "    import numpy as np\n",
    "\n",
    "    x, y = np.array(list(points)).T\n",
    "    grid = np.zeros((y.max() + 1, x.max() + 1), dtype=np.bool_)\n",
    "    np.logical_or.at(grid, (y, x), 1)\n",
    "    return grid"
   ]
  },
  {
   "cell_type": "code",
   "execution_count": 11,
   "id": "a7c15b63-dc7a-4477-b64f-de86e51636ed",
   "metadata": {},
   "outputs": [
    {
     "data": {
      "image/png": "[encoded data removed]",
      "text/plain": [
       "<Figure size 432x288 with 1 Axes>"
      ]
     },
     "metadata": {
      "needs_background": "light"
     },
     "output_type": "display_data"
    }
   ],
   "source": [
    "plt.imshow(raster(points));"
   ]
  }
 ],
 "metadata": {
  "kernelspec": {
   "display_name": "Python 3 (ipykernel)",
   "language": "python",
   "name": "python3"
  },
  "language_info": {
   "codemirror_mode": {
    "name": "ipython",
    "version": 3
   },
   "file_extension": ".py",
   "mimetype": "text/x-python",
   "name": "python",
   "nbconvert_exporter": "python",
   "pygments_lexer": "ipython3",
   "version": "3.9.7"
  },
  "papermill": {
   "default_parameters": {},
   "duration": 3.067522,
   "end_time": "2021-12-08T13:48:29.482469",
   "environment_variables": {},
   "exception": null,
   "input_path": "08-segments/01-multi-pass.ipynb",
   "output_path": "08-segments/01-multi-pass.ipynb",
   "parameters": {},
   "start_time": "2021-12-08T13:48:26.414947",
   "version": "2.3.3"
  }
 },
 "nbformat": 4,
 "nbformat_minor": 5
}
