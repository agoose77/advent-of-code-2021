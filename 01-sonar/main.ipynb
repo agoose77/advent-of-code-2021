{
 "cells": [
  {
   "cell_type": "code",
   "execution_count": 1,
   "id": "f4656e9a-cfad-4d00-a0b5-fdbcfd23e54f",
   "metadata": {
    "execution": {
     "iopub.execute_input": "2021-12-08T13:48:10.747078Z",
     "iopub.status.busy": "2021-12-08T13:48:10.746734Z",
     "iopub.status.idle": "2021-12-08T13:48:10.755746Z",
     "shell.execute_reply": "2021-12-08T13:48:10.755360Z"
    },
    "papermill": {
     "duration": 0.027995,
     "end_time": "2021-12-08T13:48:10.755832",
     "exception": false,
     "start_time": "2021-12-08T13:48:10.727837",
     "status": "completed"
    },
    "tags": []
   },
   "outputs": [],
   "source": [
    "%config InteractiveShell.ast_node_interactivity=\"last_expr_or_assign\""
   ]
  },
  {
   "cell_type": "markdown",
   "id": "a7742e86-916e-4cbc-a474-288b15c2ed08",
   "metadata": {
    "papermill": {
     "duration": 0.012293,
     "end_time": "2021-12-08T13:48:10.780629",
     "exception": false,
     "start_time": "2021-12-08T13:48:10.768336",
     "status": "completed"
    },
    "tags": []
   },
   "source": [
    "# Day 1: Sonar Sweep\n",
    "The input for this problem is located at https://adventofcode.com/2021/day/1/input"
   ]
  },
  {
   "cell_type": "code",
   "execution_count": 2,
   "id": "db87c026-156e-483f-afba-e36827a036c9",
   "metadata": {
    "execution": {
     "iopub.execute_input": "2021-12-08T13:48:10.808615Z",
     "iopub.status.busy": "2021-12-08T13:48:10.808244Z",
     "iopub.status.idle": "2021-12-08T13:48:10.927710Z",
     "shell.execute_reply": "2021-12-08T13:48:10.927993Z"
    },
    "papermill": {
     "duration": 0.135297,
     "end_time": "2021-12-08T13:48:10.928105",
     "exception": false,
     "start_time": "2021-12-08T13:48:10.792808",
     "status": "completed"
    },
    "tags": []
   },
   "outputs": [],
   "source": [
    "import numpy as np"
   ]
  },
  {
   "cell_type": "markdown",
   "id": "429224c0-d7b8-4592-acac-79b6af2681cd",
   "metadata": {
    "papermill": {
     "duration": 0.012867,
     "end_time": "2021-12-08T13:48:10.953960",
     "exception": false,
     "start_time": "2021-12-08T13:48:10.941093",
     "status": "completed"
    },
    "tags": []
   },
   "source": [
    "Load the puzzle input"
   ]
  },
  {
   "cell_type": "code",
   "execution_count": 3,
   "id": "b7c5d0df-3de9-4d09-8574-a369fff7a180",
   "metadata": {
    "execution": {
     "iopub.execute_input": "2021-12-08T13:48:10.989054Z",
     "iopub.status.busy": "2021-12-08T13:48:10.988687Z",
     "iopub.status.idle": "2021-12-08T13:48:10.990705Z",
     "shell.execute_reply": "2021-12-08T13:48:10.990356Z"
    },
    "papermill": {
     "duration": 0.024554,
     "end_time": "2021-12-08T13:48:10.990784",
     "exception": false,
     "start_time": "2021-12-08T13:48:10.966230",
     "status": "completed"
    },
    "tags": []
   },
   "outputs": [
    {
     "data": {
      "text/plain": [
       "array([ 182,  188,  204, ..., 2568, 2576, 2583])"
      ]
     },
     "execution_count": 3,
     "metadata": {},
     "output_type": "execute_result"
    }
   ],
   "source": [
    "depths = np.loadtxt(\"input.txt\", dtype=np.int64)"
   ]
  },
  {
   "cell_type": "markdown",
   "id": "56dd58ad-cbc6-42d5-b6fd-1248189bc48f",
   "metadata": {
    "papermill": {
     "duration": 0.012682,
     "end_time": "2021-12-08T13:48:11.015605",
     "exception": false,
     "start_time": "2021-12-08T13:48:11.002923",
     "status": "completed"
    },
    "tags": []
   },
   "source": [
    "Compute the pairwise-increasing depths"
   ]
  },
  {
   "cell_type": "code",
   "execution_count": 4,
   "id": "391a85ea-264d-4e0e-8cb1-e9ac3b2dc1e7",
   "metadata": {
    "execution": {
     "iopub.execute_input": "2021-12-08T13:48:11.045294Z",
     "iopub.status.busy": "2021-12-08T13:48:11.044903Z",
     "iopub.status.idle": "2021-12-08T13:48:11.047096Z",
     "shell.execute_reply": "2021-12-08T13:48:11.046815Z"
    },
    "papermill": {
     "duration": 0.018643,
     "end_time": "2021-12-08T13:48:11.047177",
     "exception": false,
     "start_time": "2021-12-08T13:48:11.028534",
     "status": "completed"
    },
    "tags": []
   },
   "outputs": [
    {
     "data": {
      "text/plain": [
       "1215"
      ]
     },
     "execution_count": 4,
     "metadata": {},
     "output_type": "execute_result"
    }
   ],
   "source": [
    "single_increasing = np.sum(depths[1:] > depths[:-1])"
   ]
  },
  {
   "cell_type": "markdown",
   "id": "a001b57a-2411-4c60-8aaa-20cbded3a68f",
   "metadata": {
    "papermill": {
     "duration": 0.014096,
     "end_time": "2021-12-08T13:48:11.074161",
     "exception": false,
     "start_time": "2021-12-08T13:48:11.060065",
     "status": "completed"
    },
    "tags": []
   },
   "source": [
    "Compute the pairwise-increasing sliding windows"
   ]
  },
  {
   "cell_type": "code",
   "execution_count": 5,
   "id": "64409014-5a63-466a-be35-ff47e08b6ec9",
   "metadata": {
    "execution": {
     "iopub.execute_input": "2021-12-08T13:48:11.105503Z",
     "iopub.status.busy": "2021-12-08T13:48:11.104626Z",
     "iopub.status.idle": "2021-12-08T13:48:11.108148Z",
     "shell.execute_reply": "2021-12-08T13:48:11.107848Z"
    },
    "papermill": {
     "duration": 0.020278,
     "end_time": "2021-12-08T13:48:11.108226",
     "exception": false,
     "start_time": "2021-12-08T13:48:11.087948",
     "status": "completed"
    },
    "tags": []
   },
   "outputs": [
    {
     "data": {
      "text/plain": [
       "1150"
      ]
     },
     "execution_count": 5,
     "metadata": {},
     "output_type": "execute_result"
    }
   ],
   "source": [
    "triples_sum = np.lib.stride_tricks.sliding_window_view(depths, 3).sum(axis=-1)\n",
    "triple_increasing = np.sum(triples_sum[1:] > triples_sum[:-1])"
   ]
  }
 ],
 "metadata": {
  "jupytext": {
   "cell_metadata_filter": "-all",
   "executable": "/usr/bin/env python3",
   "main_language": "python",
   "notebook_metadata_filter": "-all"
  },
  "kernelspec": {
   "display_name": "Python 3 (ipykernel)",
   "language": "python",
   "name": "python3"
  },
  "language_info": {
   "codemirror_mode": {
    "name": "ipython",
    "version": 3
   },
   "file_extension": ".py",
   "mimetype": "text/x-python",
   "name": "python",
   "nbconvert_exporter": "python",
   "pygments_lexer": "ipython3",
   "version": "3.9.7"
  },
  "papermill": {
   "default_parameters": {},
   "duration": 1.56816,
   "end_time": "2021-12-08T13:48:11.228005",
   "environment_variables": {},
   "exception": null,
   "input_path": "01-sonar/main.ipynb",
   "output_path": "01-sonar/main.ipynb",
   "parameters": {},
   "start_time": "2021-12-08T13:48:09.659845",
   "version": "2.3.3"
  }
 },
 "nbformat": 4,
 "nbformat_minor": 5
}
