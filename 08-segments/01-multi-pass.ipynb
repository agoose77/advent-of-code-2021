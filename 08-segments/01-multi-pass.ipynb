{
 "cells": [
  {
   "cell_type": "code",
   "execution_count": 1,
   "id": "f32468db-21ad-482e-a4a0-9c8c59cd1202",
   "metadata": {
    "execution": {
     "iopub.execute_input": "2021-12-08T13:48:27.559411Z",
     "iopub.status.busy": "2021-12-08T13:48:27.559049Z",
     "iopub.status.idle": "2021-12-08T13:48:27.567293Z",
     "shell.execute_reply": "2021-12-08T13:48:27.567595Z"
    },
    "papermill": {
     "duration": 0.050151,
     "end_time": "2021-12-08T13:48:27.567786",
     "exception": false,
     "start_time": "2021-12-08T13:48:27.517635",
     "status": "completed"
    },
    "tags": []
   },
   "outputs": [],
   "source": [
    "%config InteractiveShell.ast_node_interactivity=\"last_expr_or_assign\""
   ]
  },
  {
   "cell_type": "markdown",
   "id": "104aab3f-7060-40a9-be94-2d95ecf93311",
   "metadata": {
    "papermill": {
     "duration": 0.031208,
     "end_time": "2021-12-08T13:48:27.629778",
     "exception": false,
     "start_time": "2021-12-08T13:48:27.598570",
     "status": "completed"
    },
    "tags": []
   },
   "source": [
    "# Day 8: Rewiring \n",
    "The input for this problem is located at https://adventofcode.com/2021/day/8/input"
   ]
  },
  {
   "cell_type": "code",
   "execution_count": 2,
   "id": "67f240cc-0a6c-4a17-b443-655ad70b29d0",
   "metadata": {
    "execution": {
     "iopub.execute_input": "2021-12-08T13:48:27.698851Z",
     "iopub.status.busy": "2021-12-08T13:48:27.698483Z",
     "iopub.status.idle": "2021-12-08T13:48:27.699832Z",
     "shell.execute_reply": "2021-12-08T13:48:27.700100Z"
    },
    "papermill": {
     "duration": 0.035933,
     "end_time": "2021-12-08T13:48:27.700199",
     "exception": false,
     "start_time": "2021-12-08T13:48:27.664266",
     "status": "completed"
    },
    "tags": []
   },
   "outputs": [],
   "source": [
    "import collections\n",
    "import itertools"
   ]
  },
  {
   "cell_type": "markdown",
   "id": "f31ef713-05ba-4867-83e1-e6a531069035",
   "metadata": {
    "papermill": {
     "duration": 0.033761,
     "end_time": "2021-12-08T13:48:27.771840",
     "exception": false,
     "start_time": "2021-12-08T13:48:27.738079",
     "status": "completed"
    },
    "tags": []
   },
   "source": [
    "Load the problem"
   ]
  },
  {
   "cell_type": "code",
   "execution_count": 3,
   "id": "ed7ae9ba-3f30-498d-9a36-8b63e06d5877",
   "metadata": {
    "execution": {
     "iopub.execute_input": "2021-12-08T13:48:27.845080Z",
     "iopub.status.busy": "2021-12-08T13:48:27.844576Z",
     "iopub.status.idle": "2021-12-08T13:48:27.846351Z",
     "shell.execute_reply": "2021-12-08T13:48:27.846666Z"
    },
    "papermill": {
     "duration": 0.038577,
     "end_time": "2021-12-08T13:48:27.846774",
     "exception": false,
     "start_time": "2021-12-08T13:48:27.808197",
     "status": "completed"
    },
    "tags": []
   },
   "outputs": [],
   "source": [
    "def parse_segments(segments):\n",
    "    return tuple(frozenset(s) for s in segments.split())"
   ]
  },
  {
   "cell_type": "code",
   "execution_count": 4,
   "id": "a51003f8-a861-4d31-b962-3f58f400b5dc",
   "metadata": {
    "execution": {
     "iopub.execute_input": "2021-12-08T13:48:27.931747Z",
     "iopub.status.busy": "2021-12-08T13:48:27.931249Z",
     "iopub.status.idle": "2021-12-08T13:48:27.934094Z",
     "shell.execute_reply": "2021-12-08T13:48:27.933673Z"
    },
    "papermill": {
     "duration": 0.052905,
     "end_time": "2021-12-08T13:48:27.934197",
     "exception": false,
     "start_time": "2021-12-08T13:48:27.881292",
     "status": "completed"
    },
    "tags": []
   },
   "outputs": [],
   "source": [
    "with open(\"input.txt\") as f:\n",
    "    puzzle = [((w := parse_segments(l))[:10], w[11:]) for l in f.readlines()]"
   ]
  },
  {
   "cell_type": "markdown",
   "id": "384a0e1d-d509-45af-90b7-6874542532b5",
   "metadata": {
    "papermill": {
     "duration": 0.03447,
     "end_time": "2021-12-08T13:48:28.001819",
     "exception": false,
     "start_time": "2021-12-08T13:48:27.967349",
     "status": "completed"
    },
    "tags": []
   },
   "source": [
    "Build a mapping of segments to digits"
   ]
  },
  {
   "cell_type": "code",
   "execution_count": 5,
   "id": "bf1068e2-2b97-461f-bc29-a7a4d7e3d8b8",
   "metadata": {
    "execution": {
     "iopub.execute_input": "2021-12-08T13:48:28.086031Z",
     "iopub.status.busy": "2021-12-08T13:48:28.085558Z",
     "iopub.status.idle": "2021-12-08T13:48:28.088151Z",
     "shell.execute_reply": "2021-12-08T13:48:28.088629Z"
    },
    "papermill": {
     "duration": 0.052509,
     "end_time": "2021-12-08T13:48:28.088782",
     "exception": false,
     "start_time": "2021-12-08T13:48:28.036273",
     "status": "completed"
    },
    "tags": []
   },
   "outputs": [
    {
     "data": {
      "text/plain": [
       "{0: frozenset({'a', 'b', 'c', 'e', 'f', 'g'}),\n",
       " 1: frozenset({'c', 'f'}),\n",
       " 2: frozenset({'a', 'c', 'd', 'e', 'g'}),\n",
       " 3: frozenset({'a', 'c', 'd', 'f', 'g'}),\n",
       " 4: frozenset({'b', 'c', 'd', 'f'}),\n",
       " 5: frozenset({'a', 'b', 'd', 'f', 'g'}),\n",
       " 6: frozenset({'a', 'b', 'd', 'e', 'f', 'g'}),\n",
       " 7: frozenset({'a', 'c', 'f'}),\n",
       " 8: frozenset({'a', 'b', 'c', 'd', 'e', 'f', 'g'}),\n",
       " 9: frozenset({'a', 'b', 'c', 'd', 'f', 'g'})}"
      ]
     },
     "execution_count": 5,
     "metadata": {},
     "output_type": "execute_result"
    }
   ],
   "source": [
    "SEGMENTS_TO_DIGIT = {\n",
    "    frozenset(k): v\n",
    "    for k, v in {\n",
    "        \"abcefg\": 0,\n",
    "        \"cf\": 1,\n",
    "        \"acdeg\": 2,\n",
    "        \"acdfg\": 3,\n",
    "        \"bcdf\": 4,\n",
    "        \"abdfg\": 5,\n",
    "        \"abdefg\": 6,\n",
    "        \"acf\": 7,\n",
    "        \"abcdefg\": 8,\n",
    "        \"abcdfg\": 9,\n",
    "    }.items()\n",
    "}\n",
    "DIGIT_TO_SEGMENTS = {v: k for k, v in SEGMENTS_TO_DIGIT.items()}"
   ]
  },
  {
   "cell_type": "markdown",
   "id": "79add654-1b36-48f0-bc8d-be14e04c48d2",
   "metadata": {
    "papermill": {
     "duration": 0.036457,
     "end_time": "2021-12-08T13:48:28.175225",
     "exception": false,
     "start_time": "2021-12-08T13:48:28.138768",
     "status": "completed"
    },
    "tags": []
   },
   "source": [
    "Disambiguate pairs of segments using the 6-character patterns."
   ]
  },
  {
   "cell_type": "code",
   "execution_count": 6,
   "id": "74778b42-ec68-4d25-a908-9932d591e284",
   "metadata": {
    "execution": {
     "iopub.execute_input": "2021-12-08T13:48:28.258984Z",
     "iopub.status.busy": "2021-12-08T13:48:28.258595Z",
     "iopub.status.idle": "2021-12-08T13:48:28.260446Z",
     "shell.execute_reply": "2021-12-08T13:48:28.260732Z"
    },
    "papermill": {
     "duration": 0.042828,
     "end_time": "2021-12-08T13:48:28.260872",
     "exception": false,
     "start_time": "2021-12-08T13:48:28.218044",
     "status": "completed"
    },
    "tags": []
   },
   "outputs": [],
   "source": [
    "def disambiguate_pairs(cf, bd, eg, patterns):\n",
    "    abcefg = None\n",
    "    abcdfg = None\n",
    "    abdefg = None\n",
    "    for pattern in patterns:\n",
    "        if len(pattern) != 6:\n",
    "            continue\n",
    "\n",
    "        # Either ABDEFG, ABCDFG, or ABCEFG\n",
    "        if len(pattern & bd) != 2:\n",
    "            abcefg = pattern\n",
    "        elif len(pattern & eg) != 2:\n",
    "            abcdfg = pattern\n",
    "        else:\n",
    "            abdefg = pattern\n",
    "\n",
    "    e = abcefg - abcdfg\n",
    "    g = eg - e\n",
    "\n",
    "    d = abdefg - abcefg\n",
    "    b = bd - d\n",
    "\n",
    "    c = abcefg - abdefg\n",
    "    f = cf - c\n",
    "\n",
    "    return c, f, b, d, e, g"
   ]
  },
  {
   "cell_type": "markdown",
   "id": "fd57a010-c145-49b4-93bb-0bee99591749",
   "metadata": {
    "papermill": {
     "duration": 0.034635,
     "end_time": "2021-12-08T13:48:28.329647",
     "exception": false,
     "start_time": "2021-12-08T13:48:28.295012",
     "status": "completed"
    },
    "tags": []
   },
   "source": [
    "Determine mapping from pattern segments to canonical segments"
   ]
  },
  {
   "cell_type": "code",
   "execution_count": 7,
   "id": "91c6391b-d855-4276-a195-8ec12f99467b",
   "metadata": {
    "execution": {
     "iopub.execute_input": "2021-12-08T13:48:28.407267Z",
     "iopub.status.busy": "2021-12-08T13:48:28.406863Z",
     "iopub.status.idle": "2021-12-08T13:48:28.408230Z",
     "shell.execute_reply": "2021-12-08T13:48:28.408513Z"
    },
    "papermill": {
     "duration": 0.044652,
     "end_time": "2021-12-08T13:48:28.408618",
     "exception": false,
     "start_time": "2021-12-08T13:48:28.363966",
     "status": "completed"
    },
    "tags": []
   },
   "outputs": [],
   "source": [
    "def determine_segment_map(patterns):\n",
    "    pattern_by_length = {len(s): s for s in patterns}\n",
    "\n",
    "    # Find unique digits by lengths\n",
    "    cf = pattern_by_length[2]\n",
    "    acf = pattern_by_length[3]\n",
    "    bcdf = pattern_by_length[4]\n",
    "    abcdefg = pattern_by_length[7]\n",
    "\n",
    "    # Determime segments given by solved digits\n",
    "    a = acf - cf\n",
    "    bd = bcdf - acf\n",
    "    eg = abcdefg - bcdf - a\n",
    "\n",
    "    # Search for N-1 patterns to uniquely determine free\n",
    "    # segments\n",
    "    c, f, b, d, e, g = disambiguate_pairs(cf, bd, eg, patterns)\n",
    "\n",
    "    return {\n",
    "        set(k).pop(): v\n",
    "        for k, v in {\n",
    "            a: \"a\",\n",
    "            b: \"b\",\n",
    "            c: \"c\",\n",
    "            d: \"d\",\n",
    "            e: \"e\",\n",
    "            f: \"f\",\n",
    "            g: \"g\",\n",
    "        }.items()\n",
    "    }"
   ]
  },
  {
   "cell_type": "markdown",
   "id": "0707f83d-ec1f-4f5b-bd2a-9eb25a243d68",
   "metadata": {
    "papermill": {
     "duration": 0.040217,
     "end_time": "2021-12-08T13:48:28.482788",
     "exception": false,
     "start_time": "2021-12-08T13:48:28.442571",
     "status": "completed"
    },
    "tags": []
   },
   "source": [
    "Translate between pattern encoding and canonical segments"
   ]
  },
  {
   "cell_type": "code",
   "execution_count": 8,
   "id": "c0bae3e5-6c05-4511-8837-1b69f53aeed4",
   "metadata": {
    "execution": {
     "iopub.execute_input": "2021-12-08T13:48:28.558117Z",
     "iopub.status.busy": "2021-12-08T13:48:28.557760Z",
     "iopub.status.idle": "2021-12-08T13:48:28.559348Z",
     "shell.execute_reply": "2021-12-08T13:48:28.559780Z"
    },
    "papermill": {
     "duration": 0.041279,
     "end_time": "2021-12-08T13:48:28.559943",
     "exception": false,
     "start_time": "2021-12-08T13:48:28.518664",
     "status": "completed"
    },
    "tags": []
   },
   "outputs": [],
   "source": [
    "def translate_segments(segments, mapping):\n",
    "    return frozenset({mapping[x] for x in segments})"
   ]
  },
  {
   "cell_type": "markdown",
   "id": "b74c4808-6e69-4338-a081-a0574467bb07",
   "metadata": {
    "papermill": {
     "duration": 0.033081,
     "end_time": "2021-12-08T13:48:28.625606",
     "exception": false,
     "start_time": "2021-12-08T13:48:28.592525",
     "status": "completed"
    },
    "tags": []
   },
   "source": [
    "Decode output digits by determining the segment map"
   ]
  },
  {
   "cell_type": "code",
   "execution_count": 9,
   "id": "a126fee6-eda3-44f7-bc48-5e117ed05c79",
   "metadata": {
    "execution": {
     "iopub.execute_input": "2021-12-08T13:48:28.700218Z",
     "iopub.status.busy": "2021-12-08T13:48:28.699885Z",
     "iopub.status.idle": "2021-12-08T13:48:28.701683Z",
     "shell.execute_reply": "2021-12-08T13:48:28.701354Z"
    },
    "papermill": {
     "duration": 0.040217,
     "end_time": "2021-12-08T13:48:28.701757",
     "exception": false,
     "start_time": "2021-12-08T13:48:28.661540",
     "status": "completed"
    },
    "tags": []
   },
   "outputs": [],
   "source": [
    "def determine_digits(patterns, outputs):\n",
    "    encoding = determine_segment_map(patterns)\n",
    "\n",
    "    digits = []\n",
    "    for segments_coded in outputs:\n",
    "        segments = translate_segments(segments_coded, encoding)\n",
    "        digits.append(SEGMENTS_TO_DIGIT[segments])\n",
    "    return digits"
   ]
  },
  {
   "cell_type": "markdown",
   "id": "1733bd83-055c-4c58-83a3-a68c79696e93",
   "metadata": {
    "papermill": {
     "duration": 0.033023,
     "end_time": "2021-12-08T13:48:28.765438",
     "exception": false,
     "start_time": "2021-12-08T13:48:28.732415",
     "status": "completed"
    },
    "tags": []
   },
   "source": [
    "Compute the results!"
   ]
  },
  {
   "cell_type": "code",
   "execution_count": 10,
   "id": "00bda864-7bf4-4407-8e40-c731da007079",
   "metadata": {
    "execution": {
     "iopub.execute_input": "2021-12-08T13:48:28.846831Z",
     "iopub.status.busy": "2021-12-08T13:48:28.833245Z",
     "iopub.status.idle": "2021-12-08T13:48:28.849050Z",
     "shell.execute_reply": "2021-12-08T13:48:28.848700Z"
    },
    "papermill": {
     "duration": 0.051591,
     "end_time": "2021-12-08T13:48:28.849131",
     "exception": false,
     "start_time": "2021-12-08T13:48:28.797540",
     "status": "completed"
    },
    "scrolled": true,
    "tags": []
   },
   "outputs": [
    {
     "data": {
      "text/plain": [
       "[[3, 1, 5, 0],\n",
       " [5, 3, 6, 0],\n",
       " [7, 0, 6, 9],\n",
       " [0, 3, 8, 5],\n",
       " [2, 3, 0, 3],\n",
       " [3, 2, 7, 3],\n",
       " [7, 1, 1, 8],\n",
       " [8, 6, 2, 9],\n",
       " [3, 0, 1, 9],\n",
       " [8, 3, 4, 4],\n",
       " [5, 2, 8, 2],\n",
       " [9, 8, 5, 9],\n",
       " [6, 2, 0, 4],\n",
       " [7, 8, 1, 4],\n",
       " [7, 4, 3, 3],\n",
       " [3, 2, 3, 7],\n",
       " [9, 6, 2, 0],\n",
       " [1, 5, 0, 4],\n",
       " [3, 9, 3, 2],\n",
       " [8, 4, 9, 3],\n",
       " [4, 8, 6, 2],\n",
       " [9, 4, 5, 4],\n",
       " [7, 9, 9, 7],\n",
       " [6, 2, 2, 3],\n",
       " [2, 1, 9, 3],\n",
       " [1, 5, 5, 9],\n",
       " [2, 8, 5, 8],\n",
       " [7, 3, 6, 3],\n",
       " [6, 1, 4, 1],\n",
       " [4, 1, 2, 9],\n",
       " [0, 9, 5, 1],\n",
       " [6, 6, 0, 5],\n",
       " [2, 2, 8, 6],\n",
       " [1, 4, 4, 9],\n",
       " [9, 9, 9, 6],\n",
       " [3, 0, 4, 5],\n",
       " [9, 2, 2, 5],\n",
       " [3, 9, 5, 1],\n",
       " [1, 8, 5, 7],\n",
       " [6, 7, 7, 9],\n",
       " [4, 2, 2, 0],\n",
       " [0, 6, 2, 4],\n",
       " [9, 1, 7, 8],\n",
       " [5, 1, 9, 9],\n",
       " [1, 0, 2, 6],\n",
       " [4, 2, 9, 3],\n",
       " [3, 5, 8, 7],\n",
       " [5, 8, 8, 4],\n",
       " [3, 4, 5, 5],\n",
       " [7, 0, 7, 5],\n",
       " [8, 6, 0, 9],\n",
       " [0, 2, 8, 7],\n",
       " [3, 0, 0, 3],\n",
       " [0, 7, 8, 9],\n",
       " [9, 8, 2, 3],\n",
       " [4, 9, 7, 2],\n",
       " [3, 9, 5, 3],\n",
       " [5, 5, 5, 3],\n",
       " [6, 2, 0, 8],\n",
       " [8, 3, 2, 1],\n",
       " [2, 1, 7, 3],\n",
       " [9, 4, 4, 8],\n",
       " [5, 2, 8, 4],\n",
       " [5, 0, 4, 4],\n",
       " [6, 9, 9, 9],\n",
       " [1, 5, 4, 6],\n",
       " [2, 6, 0, 1],\n",
       " [9, 4, 0, 4],\n",
       " [2, 0, 3, 5],\n",
       " [6, 6, 2, 3],\n",
       " [8, 5, 9, 1],\n",
       " [2, 4, 4, 4],\n",
       " [0, 5, 7, 7],\n",
       " [6, 2, 6, 0],\n",
       " [5, 2, 7, 1],\n",
       " [6, 0, 1, 6],\n",
       " [9, 3, 2, 3],\n",
       " [0, 0, 8, 6],\n",
       " [0, 2, 1, 7],\n",
       " [0, 6, 3, 7],\n",
       " [1, 6, 4, 8],\n",
       " [3, 2, 7, 5],\n",
       " [7, 1, 7, 1],\n",
       " [2, 8, 2, 7],\n",
       " [7, 0, 4, 7],\n",
       " [5, 3, 1, 0],\n",
       " [2, 8, 0, 5],\n",
       " [5, 1, 7, 7],\n",
       " [1, 8, 0, 9],\n",
       " [3, 9, 4, 2],\n",
       " [1, 1, 0, 8],\n",
       " [2, 1, 6, 6],\n",
       " [0, 0, 9, 6],\n",
       " [0, 8, 4, 8],\n",
       " [3, 6, 6, 1],\n",
       " [8, 9, 7, 4],\n",
       " [0, 6, 4, 4],\n",
       " [5, 6, 7, 2],\n",
       " [8, 8, 6, 2],\n",
       " [7, 1, 9, 8],\n",
       " [5, 6, 3, 1],\n",
       " [1, 6, 0, 2],\n",
       " [0, 7, 3, 3],\n",
       " [0, 6, 6, 2],\n",
       " [8, 5, 7, 7],\n",
       " [8, 3, 4, 0],\n",
       " [0, 2, 0, 3],\n",
       " [1, 7, 0, 5],\n",
       " [6, 2, 6, 2],\n",
       " [7, 0, 7, 7],\n",
       " [0, 1, 9, 8],\n",
       " [2, 5, 2, 6],\n",
       " [2, 8, 2, 1],\n",
       " [1, 5, 1, 9],\n",
       " [6, 4, 4, 3],\n",
       " [7, 3, 1, 6],\n",
       " [1, 0, 1, 8],\n",
       " [3, 1, 7, 4],\n",
       " [5, 9, 2, 3],\n",
       " [4, 9, 8, 3],\n",
       " [6, 6, 2, 5],\n",
       " [3, 1, 1, 3],\n",
       " [2, 6, 6, 1],\n",
       " [3, 7, 2, 5],\n",
       " [0, 3, 9, 2],\n",
       " [9, 8, 2, 8],\n",
       " [0, 0, 2, 9],\n",
       " [4, 1, 3, 0],\n",
       " [9, 7, 7, 6],\n",
       " [8, 9, 9, 7],\n",
       " [4, 1, 9, 8],\n",
       " [8, 2, 7, 2],\n",
       " [6, 0, 4, 1],\n",
       " [0, 3, 2, 6],\n",
       " [3, 1, 2, 7],\n",
       " [0, 5, 4, 2],\n",
       " [8, 9, 5, 1],\n",
       " [2, 4, 4, 6],\n",
       " [8, 8, 0, 0],\n",
       " [2, 6, 0, 7],\n",
       " [2, 7, 1, 5],\n",
       " [5, 0, 6, 3],\n",
       " [3, 3, 6, 6],\n",
       " [8, 3, 1, 9],\n",
       " [0, 7, 1, 5],\n",
       " [5, 2, 0, 0],\n",
       " [3, 7, 4, 1],\n",
       " [6, 2, 2, 7],\n",
       " [0, 4, 4, 6],\n",
       " [4, 7, 5, 8],\n",
       " [0, 1, 7, 1],\n",
       " [1, 2, 5, 4],\n",
       " [2, 5, 2, 5],\n",
       " [6, 7, 2, 3],\n",
       " [8, 2, 2, 9],\n",
       " [8, 3, 4, 3],\n",
       " [8, 1, 1, 4],\n",
       " [5, 7, 9, 6],\n",
       " [4, 6, 3, 0],\n",
       " [0, 7, 5, 7],\n",
       " [3, 4, 1, 6],\n",
       " [3, 8, 7, 7],\n",
       " [2, 9, 6, 7],\n",
       " [2, 0, 0, 4],\n",
       " [1, 7, 1, 5],\n",
       " [2, 7, 9, 8],\n",
       " [7, 3, 2, 1],\n",
       " [1, 8, 9, 2],\n",
       " [4, 9, 0, 8],\n",
       " [5, 3, 9, 2],\n",
       " [5, 9, 4, 8],\n",
       " [0, 5, 3, 8],\n",
       " [7, 8, 5, 0],\n",
       " [9, 6, 2, 9],\n",
       " [3, 3, 5, 3],\n",
       " [1, 8, 4, 1],\n",
       " [0, 1, 3, 1],\n",
       " [5, 5, 8, 9],\n",
       " [3, 1, 1, 3],\n",
       " [6, 8, 8, 9],\n",
       " [3, 4, 9, 5],\n",
       " [2, 8, 1, 1],\n",
       " [1, 2, 8, 0],\n",
       " [2, 4, 5, 2],\n",
       " [1, 9, 3, 0],\n",
       " [0, 4, 9, 3],\n",
       " [7, 2, 0, 4],\n",
       " [5, 9, 9, 7],\n",
       " [8, 0, 1, 9],\n",
       " [8, 3, 2, 2],\n",
       " [2, 6, 9, 4],\n",
       " [4, 3, 0, 5],\n",
       " [4, 6, 1, 9],\n",
       " [8, 7, 7, 5],\n",
       " [5, 4, 4, 4],\n",
       " [4, 0, 6, 5],\n",
       " [7, 1, 0, 1],\n",
       " [7, 4, 4, 0],\n",
       " [6, 4, 0, 8],\n",
       " [5, 6, 9, 6]]"
      ]
     },
     "execution_count": 10,
     "metadata": {},
     "output_type": "execute_result"
    }
   ],
   "source": [
    "digits = [determine_digits(p, o) for p, o in puzzle]"
   ]
  },
  {
   "cell_type": "markdown",
   "id": "8cd3602c-5333-4af0-8d74-fadddc83d4fb",
   "metadata": {
    "papermill": {
     "duration": 0.03509,
     "end_time": "2021-12-08T13:48:28.918095",
     "exception": false,
     "start_time": "2021-12-08T13:48:28.883005",
     "status": "completed"
    },
    "tags": []
   },
   "source": [
    "Let's compute the aggregate frequencies"
   ]
  },
  {
   "cell_type": "code",
   "execution_count": 11,
   "id": "10b59863-c3f6-4082-a4f2-d6b7980ab9f7",
   "metadata": {
    "execution": {
     "iopub.execute_input": "2021-12-08T13:48:28.991593Z",
     "iopub.status.busy": "2021-12-08T13:48:28.991267Z",
     "iopub.status.idle": "2021-12-08T13:48:28.993563Z",
     "shell.execute_reply": "2021-12-08T13:48:28.993195Z"
    },
    "papermill": {
     "duration": 0.040474,
     "end_time": "2021-12-08T13:48:28.993664",
     "exception": false,
     "start_time": "2021-12-08T13:48:28.953190",
     "status": "completed"
    },
    "tags": []
   },
   "outputs": [
    {
     "data": {
      "text/plain": [
       "Counter({3: 84, 1: 84, 5: 74, 0: 86, 6: 74, 7: 75, 9: 77, 8: 74, 2: 95, 4: 77})"
      ]
     },
     "execution_count": 11,
     "metadata": {},
     "output_type": "execute_result"
    }
   ],
   "source": [
    "digit_frequencies = collections.Counter(itertools.chain.from_iterable(digits))"
   ]
  },
  {
   "cell_type": "code",
   "execution_count": 12,
   "id": "f0359fa0-4b9e-4875-8e0c-fbe546a9d9ed",
   "metadata": {
    "execution": {
     "iopub.execute_input": "2021-12-08T13:48:29.064872Z",
     "iopub.status.busy": "2021-12-08T13:48:29.064505Z",
     "iopub.status.idle": "2021-12-08T13:48:29.066363Z",
     "shell.execute_reply": "2021-12-08T13:48:29.066628Z"
    },
    "papermill": {
     "duration": 0.040777,
     "end_time": "2021-12-08T13:48:29.066730",
     "exception": false,
     "start_time": "2021-12-08T13:48:29.025953",
     "status": "completed"
    },
    "tags": []
   },
   "outputs": [
    {
     "data": {
      "text/plain": [
       "310"
      ]
     },
     "execution_count": 12,
     "metadata": {},
     "output_type": "execute_result"
    }
   ],
   "source": [
    "(\n",
    "    digit_frequencies[1]\n",
    "    + digit_frequencies[4]\n",
    "    + digit_frequencies[7]\n",
    "    + digit_frequencies[8]\n",
    ")"
   ]
  },
  {
   "cell_type": "markdown",
   "id": "9f7e227a-d6f2-410c-b43d-f5c5fffe7bda",
   "metadata": {
    "papermill": {
     "duration": 0.036006,
     "end_time": "2021-12-08T13:48:29.138501",
     "exception": false,
     "start_time": "2021-12-08T13:48:29.102495",
     "status": "completed"
    },
    "tags": []
   },
   "source": [
    "We need to convert our digits to integers (in base 10) before we can compute the total output value"
   ]
  },
  {
   "cell_type": "code",
   "execution_count": 13,
   "id": "8acd174d-0c33-4f70-a307-14a25cc7df86",
   "metadata": {
    "execution": {
     "iopub.execute_input": "2021-12-08T13:48:29.215293Z",
     "iopub.status.busy": "2021-12-08T13:48:29.214941Z",
     "iopub.status.idle": "2021-12-08T13:48:29.216768Z",
     "shell.execute_reply": "2021-12-08T13:48:29.216481Z"
    },
    "papermill": {
     "duration": 0.042068,
     "end_time": "2021-12-08T13:48:29.216860",
     "exception": false,
     "start_time": "2021-12-08T13:48:29.174792",
     "status": "completed"
    },
    "tags": []
   },
   "outputs": [],
   "source": [
    "def digits_to_int(digits):\n",
    "    return sum((x * 10 ** i for i, x in enumerate(reversed(digits))))"
   ]
  },
  {
   "cell_type": "code",
   "execution_count": 14,
   "id": "72683ed6-7b71-4ff3-bd8b-9b38f658d97c",
   "metadata": {
    "execution": {
     "iopub.execute_input": "2021-12-08T13:48:29.298693Z",
     "iopub.status.busy": "2021-12-08T13:48:29.298275Z",
     "iopub.status.idle": "2021-12-08T13:48:29.301663Z",
     "shell.execute_reply": "2021-12-08T13:48:29.301107Z"
    },
    "papermill": {
     "duration": 0.048398,
     "end_time": "2021-12-08T13:48:29.301766",
     "exception": false,
     "start_time": "2021-12-08T13:48:29.253368",
     "status": "completed"
    },
    "tags": []
   },
   "outputs": [
    {
     "data": {
      "text/plain": [
       "915941"
      ]
     },
     "execution_count": 14,
     "metadata": {},
     "output_type": "execute_result"
    }
   ],
   "source": [
    "output_total = sum([digits_to_int(d) for d in digits])"
   ]
  }
 ],
 "metadata": {
  "kernelspec": {
   "display_name": "Python 3 (ipykernel)",
   "language": "python",
   "name": "python3"
  },
  "language_info": {
   "codemirror_mode": {
    "name": "ipython",
    "version": 3
   },
   "file_extension": ".py",
   "mimetype": "text/x-python",
   "name": "python",
   "nbconvert_exporter": "python",
   "pygments_lexer": "ipython3",
   "version": "3.9.7"
  },
  "papermill": {
   "default_parameters": {},
   "duration": 3.067522,
   "end_time": "2021-12-08T13:48:29.482469",
   "environment_variables": {},
   "exception": null,
   "input_path": "08-segments/01-multi-pass.ipynb",
   "output_path": "08-segments/01-multi-pass.ipynb",
   "parameters": {},
   "start_time": "2021-12-08T13:48:26.414947",
   "version": "2.3.3"
  }
 },
 "nbformat": 4,
 "nbformat_minor": 5
}
