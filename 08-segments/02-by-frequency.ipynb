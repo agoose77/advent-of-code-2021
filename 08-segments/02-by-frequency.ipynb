{
 "cells": [
  {
   "cell_type": "code",
   "execution_count": 1,
   "id": "c9f4d12c-c8cb-43b9-8c02-9486519f2c64",
   "metadata": {},
   "outputs": [],
   "source": [
    "%config InteractiveShell.ast_node_interactivity=\"last_expr_or_assign\""
   ]
  },
  {
   "cell_type": "code",
   "execution_count": 2,
   "id": "3301a3e4-ab56-4c4c-a360-491256a1e4da",
   "metadata": {},
   "outputs": [],
   "source": [
    "import collections\n",
    "import itertools\n",
    "import string"
   ]
  },
  {
   "cell_type": "markdown",
   "id": "41e4a17f-4b1e-4ff8-9fbf-b17ee7310a45",
   "metadata": {},
   "source": [
    "Load the problem"
   ]
  },
  {
   "cell_type": "code",
   "execution_count": 3,
   "id": "ed7ae9ba-3f30-498d-9a36-8b63e06d5877",
   "metadata": {},
   "outputs": [],
   "source": [
    "def parse_segments(segments):\n",
    "    return tuple(frozenset(s) for s in segments.split())"
   ]
  },
  {
   "cell_type": "code",
   "execution_count": 4,
   "id": "a51003f8-a861-4d31-b962-3f58f400b5dc",
   "metadata": {},
   "outputs": [],
   "source": [
    "with open(\"input.txt\") as f:\n",
    "    puzzle = [((w := parse_segments(l))[:10], w[11:]) for l in f.readlines()]"
   ]
  },
  {
   "cell_type": "markdown",
   "id": "4bd35a7c-9df7-4a94-9515-1528d34a3285",
   "metadata": {},
   "source": [
    "Build a mapping of segments to digits"
   ]
  },
  {
   "cell_type": "code",
   "execution_count": 5,
   "id": "0af1ef81-ceb6-46f9-8eab-a41fc249085d",
   "metadata": {},
   "outputs": [
    {
     "data": {
      "text/plain": [
       "{0: frozenset({'a', 'b', 'c', 'e', 'f', 'g'}),\n",
       " 1: frozenset({'c', 'f'}),\n",
       " 2: frozenset({'a', 'c', 'd', 'e', 'g'}),\n",
       " 3: frozenset({'a', 'c', 'd', 'f', 'g'}),\n",
       " 4: frozenset({'b', 'c', 'd', 'f'}),\n",
       " 5: frozenset({'a', 'b', 'd', 'f', 'g'}),\n",
       " 6: frozenset({'a', 'b', 'd', 'e', 'f', 'g'}),\n",
       " 7: frozenset({'a', 'c', 'f'}),\n",
       " 8: frozenset({'a', 'b', 'c', 'd', 'e', 'f', 'g'}),\n",
       " 9: frozenset({'a', 'b', 'c', 'd', 'f', 'g'})}"
      ]
     },
     "execution_count": 5,
     "metadata": {},
     "output_type": "execute_result"
    }
   ],
   "source": [
    "SEGMENTS_TO_DIGIT = {\n",
    "    frozenset(k): v\n",
    "    for k, v in {\n",
    "        \"abcefg\": 0,\n",
    "        \"cf\": 1,\n",
    "        \"acdeg\": 2,\n",
    "        \"acdfg\": 3,\n",
    "        \"bcdf\": 4,\n",
    "        \"abdfg\": 5,\n",
    "        \"abdefg\": 6,\n",
    "        \"acf\": 7,\n",
    "        \"abcdefg\": 8,\n",
    "        \"abcdfg\": 9,\n",
    "    }.items()\n",
    "}\n",
    "DIGIT_TO_SEGMENTS = {v: k for k, v in SEGMENTS_TO_DIGIT.items()}"
   ]
  },
  {
   "cell_type": "markdown",
   "id": "c4f8a2a0-37d6-4098-9c74-73bea28f8ecb",
   "metadata": {},
   "source": [
    "With a random pattern, only unordered properties are invariant. One such property is the segment frequencies:"
   ]
  },
  {
   "cell_type": "code",
   "execution_count": 6,
   "id": "cdc9f945-8a25-43d8-8885-f35b378d3370",
   "metadata": {},
   "outputs": [
    {
     "data": {
      "text/plain": [
       "Counter({'g': 7, 'c': 8, 'e': 4, 'a': 8, 'f': 9, 'b': 6, 'd': 7})"
      ]
     },
     "execution_count": 6,
     "metadata": {},
     "output_type": "execute_result"
    }
   ],
   "source": [
    "CANONICAL_SEGMENT_FREQUENCIES = collections.Counter(\n",
    "    itertools.chain.from_iterable(DIGIT_TO_SEGMENTS.values())\n",
    ")"
   ]
  },
  {
   "cell_type": "markdown",
   "id": "25c4925f-b630-4788-b6d7-f275d9184a48",
   "metadata": {},
   "source": [
    "Interestingly, when we treat each frequency as a score and take the sum for each digit, we observe a uniquely valued set:"
   ]
  },
  {
   "cell_type": "code",
   "execution_count": 7,
   "id": "e18ee963-0242-4b48-b367-1a18e6e386c6",
   "metadata": {},
   "outputs": [
    {
     "data": {
      "text/plain": [
       "{42: 0, 17: 1, 34: 2, 39: 3, 30: 4, 37: 5, 41: 6, 25: 7, 49: 8, 45: 9}"
      ]
     },
     "execution_count": 7,
     "metadata": {},
     "output_type": "execute_result"
    }
   ],
   "source": [
    "DIGIT_TO_SCORE = {\n",
    "    sum([CANONICAL_SEGMENT_FREQUENCIES[s] for s in segments]): i\n",
    "    for i, segments in DIGIT_TO_SEGMENTS.items()\n",
    "}"
   ]
  },
  {
   "cell_type": "markdown",
   "id": "b6632302-7f60-44f2-a73e-91ea28896b7c",
   "metadata": {},
   "source": [
    "This can be used to determine the true digits by building a frequency table for each set of patterns:"
   ]
  },
  {
   "cell_type": "markdown",
   "id": "5c4408af-1c93-4299-98a0-2d6918c86f59",
   "metadata": {},
   "source": [
    "Compute the results!"
   ]
  },
  {
   "cell_type": "code",
   "execution_count": 8,
   "id": "93f0108e-1c6b-4767-b096-daf6b7f50ec8",
   "metadata": {},
   "outputs": [],
   "source": [
    "def determine_digits(patterns, outputs):\n",
    "    segment_frequencies = collections.Counter(itertools.chain.from_iterable(patterns))\n",
    "\n",
    "    output_scores = [\n",
    "        sum([segment_frequencies[s] for s in segments]) for segments in outputs\n",
    "    ]\n",
    "\n",
    "    return tuple([DIGIT_TO_SCORE[x] for x in output_scores])"
   ]
  },
  {
   "cell_type": "code",
   "execution_count": 9,
   "id": "69572969-ead4-4991-b00a-704759dc7551",
   "metadata": {
    "scrolled": true,
    "tags": []
   },
   "outputs": [
    {
     "data": {
      "text/plain": [
       "[(3, 1, 5, 0),\n",
       " (5, 3, 6, 0),\n",
       " (7, 0, 6, 9),\n",
       " (0, 3, 8, 5),\n",
       " (2, 3, 0, 3),\n",
       " (3, 2, 7, 3),\n",
       " (7, 1, 1, 8),\n",
       " (8, 6, 2, 9),\n",
       " (3, 0, 1, 9),\n",
       " (8, 3, 4, 4),\n",
       " (5, 2, 8, 2),\n",
       " (9, 8, 5, 9),\n",
       " (6, 2, 0, 4),\n",
       " (7, 8, 1, 4),\n",
       " (7, 4, 3, 3),\n",
       " (3, 2, 3, 7),\n",
       " (9, 6, 2, 0),\n",
       " (1, 5, 0, 4),\n",
       " (3, 9, 3, 2),\n",
       " (8, 4, 9, 3),\n",
       " (4, 8, 6, 2),\n",
       " (9, 4, 5, 4),\n",
       " (7, 9, 9, 7),\n",
       " (6, 2, 2, 3),\n",
       " (2, 1, 9, 3),\n",
       " (1, 5, 5, 9),\n",
       " (2, 8, 5, 8),\n",
       " (7, 3, 6, 3),\n",
       " (6, 1, 4, 1),\n",
       " (4, 1, 2, 9),\n",
       " (0, 9, 5, 1),\n",
       " (6, 6, 0, 5),\n",
       " (2, 2, 8, 6),\n",
       " (1, 4, 4, 9),\n",
       " (9, 9, 9, 6),\n",
       " (3, 0, 4, 5),\n",
       " (9, 2, 2, 5),\n",
       " (3, 9, 5, 1),\n",
       " (1, 8, 5, 7),\n",
       " (6, 7, 7, 9),\n",
       " (4, 2, 2, 0),\n",
       " (0, 6, 2, 4),\n",
       " (9, 1, 7, 8),\n",
       " (5, 1, 9, 9),\n",
       " (1, 0, 2, 6),\n",
       " (4, 2, 9, 3),\n",
       " (3, 5, 8, 7),\n",
       " (5, 8, 8, 4),\n",
       " (3, 4, 5, 5),\n",
       " (7, 0, 7, 5),\n",
       " (8, 6, 0, 9),\n",
       " (0, 2, 8, 7),\n",
       " (3, 0, 0, 3),\n",
       " (0, 7, 8, 9),\n",
       " (9, 8, 2, 3),\n",
       " (4, 9, 7, 2),\n",
       " (3, 9, 5, 3),\n",
       " (5, 5, 5, 3),\n",
       " (6, 2, 0, 8),\n",
       " (8, 3, 2, 1),\n",
       " (2, 1, 7, 3),\n",
       " (9, 4, 4, 8),\n",
       " (5, 2, 8, 4),\n",
       " (5, 0, 4, 4),\n",
       " (6, 9, 9, 9),\n",
       " (1, 5, 4, 6),\n",
       " (2, 6, 0, 1),\n",
       " (9, 4, 0, 4),\n",
       " (2, 0, 3, 5),\n",
       " (6, 6, 2, 3),\n",
       " (8, 5, 9, 1),\n",
       " (2, 4, 4, 4),\n",
       " (0, 5, 7, 7),\n",
       " (6, 2, 6, 0),\n",
       " (5, 2, 7, 1),\n",
       " (6, 0, 1, 6),\n",
       " (9, 3, 2, 3),\n",
       " (0, 0, 8, 6),\n",
       " (0, 2, 1, 7),\n",
       " (0, 6, 3, 7),\n",
       " (1, 6, 4, 8),\n",
       " (3, 2, 7, 5),\n",
       " (7, 1, 7, 1),\n",
       " (2, 8, 2, 7),\n",
       " (7, 0, 4, 7),\n",
       " (5, 3, 1, 0),\n",
       " (2, 8, 0, 5),\n",
       " (5, 1, 7, 7),\n",
       " (1, 8, 0, 9),\n",
       " (3, 9, 4, 2),\n",
       " (1, 1, 0, 8),\n",
       " (2, 1, 6, 6),\n",
       " (0, 0, 9, 6),\n",
       " (0, 8, 4, 8),\n",
       " (3, 6, 6, 1),\n",
       " (8, 9, 7, 4),\n",
       " (0, 6, 4, 4),\n",
       " (5, 6, 7, 2),\n",
       " (8, 8, 6, 2),\n",
       " (7, 1, 9, 8),\n",
       " (5, 6, 3, 1),\n",
       " (1, 6, 0, 2),\n",
       " (0, 7, 3, 3),\n",
       " (0, 6, 6, 2),\n",
       " (8, 5, 7, 7),\n",
       " (8, 3, 4, 0),\n",
       " (0, 2, 0, 3),\n",
       " (1, 7, 0, 5),\n",
       " (6, 2, 6, 2),\n",
       " (7, 0, 7, 7),\n",
       " (0, 1, 9, 8),\n",
       " (2, 5, 2, 6),\n",
       " (2, 8, 2, 1),\n",
       " (1, 5, 1, 9),\n",
       " (6, 4, 4, 3),\n",
       " (7, 3, 1, 6),\n",
       " (1, 0, 1, 8),\n",
       " (3, 1, 7, 4),\n",
       " (5, 9, 2, 3),\n",
       " (4, 9, 8, 3),\n",
       " (6, 6, 2, 5),\n",
       " (3, 1, 1, 3),\n",
       " (2, 6, 6, 1),\n",
       " (3, 7, 2, 5),\n",
       " (0, 3, 9, 2),\n",
       " (9, 8, 2, 8),\n",
       " (0, 0, 2, 9),\n",
       " (4, 1, 3, 0),\n",
       " (9, 7, 7, 6),\n",
       " (8, 9, 9, 7),\n",
       " (4, 1, 9, 8),\n",
       " (8, 2, 7, 2),\n",
       " (6, 0, 4, 1),\n",
       " (0, 3, 2, 6),\n",
       " (3, 1, 2, 7),\n",
       " (0, 5, 4, 2),\n",
       " (8, 9, 5, 1),\n",
       " (2, 4, 4, 6),\n",
       " (8, 8, 0, 0),\n",
       " (2, 6, 0, 7),\n",
       " (2, 7, 1, 5),\n",
       " (5, 0, 6, 3),\n",
       " (3, 3, 6, 6),\n",
       " (8, 3, 1, 9),\n",
       " (0, 7, 1, 5),\n",
       " (5, 2, 0, 0),\n",
       " (3, 7, 4, 1),\n",
       " (6, 2, 2, 7),\n",
       " (0, 4, 4, 6),\n",
       " (4, 7, 5, 8),\n",
       " (0, 1, 7, 1),\n",
       " (1, 2, 5, 4),\n",
       " (2, 5, 2, 5),\n",
       " (6, 7, 2, 3),\n",
       " (8, 2, 2, 9),\n",
       " (8, 3, 4, 3),\n",
       " (8, 1, 1, 4),\n",
       " (5, 7, 9, 6),\n",
       " (4, 6, 3, 0),\n",
       " (0, 7, 5, 7),\n",
       " (3, 4, 1, 6),\n",
       " (3, 8, 7, 7),\n",
       " (2, 9, 6, 7),\n",
       " (2, 0, 0, 4),\n",
       " (1, 7, 1, 5),\n",
       " (2, 7, 9, 8),\n",
       " (7, 3, 2, 1),\n",
       " (1, 8, 9, 2),\n",
       " (4, 9, 0, 8),\n",
       " (5, 3, 9, 2),\n",
       " (5, 9, 4, 8),\n",
       " (0, 5, 3, 8),\n",
       " (7, 8, 5, 0),\n",
       " (9, 6, 2, 9),\n",
       " (3, 3, 5, 3),\n",
       " (1, 8, 4, 1),\n",
       " (0, 1, 3, 1),\n",
       " (5, 5, 8, 9),\n",
       " (3, 1, 1, 3),\n",
       " (6, 8, 8, 9),\n",
       " (3, 4, 9, 5),\n",
       " (2, 8, 1, 1),\n",
       " (1, 2, 8, 0),\n",
       " (2, 4, 5, 2),\n",
       " (1, 9, 3, 0),\n",
       " (0, 4, 9, 3),\n",
       " (7, 2, 0, 4),\n",
       " (5, 9, 9, 7),\n",
       " (8, 0, 1, 9),\n",
       " (8, 3, 2, 2),\n",
       " (2, 6, 9, 4),\n",
       " (4, 3, 0, 5),\n",
       " (4, 6, 1, 9),\n",
       " (8, 7, 7, 5),\n",
       " (5, 4, 4, 4),\n",
       " (4, 0, 6, 5),\n",
       " (7, 1, 0, 1),\n",
       " (7, 4, 4, 0),\n",
       " (6, 4, 0, 8),\n",
       " (5, 6, 9, 6)]"
      ]
     },
     "execution_count": 9,
     "metadata": {},
     "output_type": "execute_result"
    }
   ],
   "source": [
    "digits = [determine_digits(p, o) for p, o in puzzle]"
   ]
  },
  {
   "cell_type": "markdown",
   "id": "65063b8a-25c3-4b31-858d-c38bce82ac39",
   "metadata": {},
   "source": [
    "Let's compute the aggregate frequencies"
   ]
  },
  {
   "cell_type": "code",
   "execution_count": 10,
   "id": "96d29a89-e66a-4310-b9ae-0d348e895500",
   "metadata": {},
   "outputs": [
    {
     "data": {
      "text/plain": [
       "Counter({3: 84, 1: 84, 5: 74, 0: 86, 6: 74, 7: 75, 9: 77, 8: 74, 2: 95, 4: 77})"
      ]
     },
     "execution_count": 10,
     "metadata": {},
     "output_type": "execute_result"
    }
   ],
   "source": [
    "digit_frequencies = collections.Counter(itertools.chain.from_iterable(digits))"
   ]
  },
  {
   "cell_type": "markdown",
   "id": "095e9c8b-88ec-45d6-b8ab-a9430cf067bc",
   "metadata": {},
   "source": [
    "We need to convert our digits to integers (in base 10) before we can compute the total output value"
   ]
  },
  {
   "cell_type": "code",
   "execution_count": 11,
   "id": "96467cda-d5c4-4dd6-82c7-c4de4307002e",
   "metadata": {},
   "outputs": [],
   "source": [
    "def digits_to_int(digits):\n",
    "    return sum((x * 10 ** i for i, x in enumerate(reversed(digits))))"
   ]
  },
  {
   "cell_type": "code",
   "execution_count": 12,
   "id": "034c68d5-bcce-419a-9b24-60ec0ca3ca63",
   "metadata": {},
   "outputs": [
    {
     "data": {
      "text/plain": [
       "915941"
      ]
     },
     "execution_count": 12,
     "metadata": {},
     "output_type": "execute_result"
    }
   ],
   "source": [
    "output_total = sum([digits_to_int(d) for d in digits])"
   ]
  }
 ],
 "metadata": {
  "kernelspec": {
   "display_name": "Python 3 (ipykernel)",
   "language": "python",
   "name": "python3"
  },
  "language_info": {
   "codemirror_mode": {
    "name": "ipython",
    "version": 3
   },
   "file_extension": ".py",
   "mimetype": "text/x-python",
   "name": "python",
   "nbconvert_exporter": "python",
   "pygments_lexer": "ipython3",
   "version": "3.9.7"
  }
 },
 "nbformat": 4,
 "nbformat_minor": 5
}
