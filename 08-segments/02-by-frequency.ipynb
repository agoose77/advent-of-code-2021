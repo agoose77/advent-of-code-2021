{
 "cells": [
  {
   "cell_type": "code",
   "execution_count": 1,
   "id": "a3e97247-915f-4e3e-9fd7-7bba43665d78",
   "metadata": {
    "papermill": {
     "duration": 0.049261,
     "end_time": "2021-12-08T13:48:31.012893",
     "exception": false,
     "start_time": "2021-12-08T13:48:30.963632",
     "status": "completed"
    },
    "tags": []
   },
   "outputs": [],
   "source": [
    "%config InteractiveShell.ast_node_interactivity=\"last_expr_or_assign\""
   ]
  },
  {
   "cell_type": "markdown",
   "id": "828049ae-6724-4751-811c-6611837c0e1c",
   "metadata": {
    "papermill": {
     "duration": 0.030748,
     "end_time": "2021-12-08T13:48:31.079625",
     "exception": false,
     "start_time": "2021-12-08T13:48:31.048877",
     "status": "completed"
    },
    "tags": []
   },
   "source": [
    "# Day 8: Rewiring\n",
    "The input for this problem is located at https://adventofcode.com/2021/day/8/input"
   ]
  },
  {
   "cell_type": "code",
   "execution_count": 2,
   "id": "3301a3e4-ab56-4c4c-a360-491256a1e4da",
   "metadata": {
    "lines_to_next_cell": 1,
    "papermill": {
     "duration": 0.034514,
     "end_time": "2021-12-08T13:48:31.146042",
     "exception": false,
     "start_time": "2021-12-08T13:48:31.111528",
     "status": "completed"
    },
    "tags": []
   },
   "outputs": [],
   "source": [
    "import collections\n",
    "import itertools"
   ]
  },
  {
   "cell_type": "markdown",
   "id": "41e4a17f-4b1e-4ff8-9fbf-b17ee7310a45",
   "metadata": {
    "papermill": {
     "duration": 0.028929,
     "end_time": "2021-12-08T13:48:31.203110",
     "exception": false,
     "start_time": "2021-12-08T13:48:31.174181",
     "status": "completed"
    },
    "tags": []
   },
   "source": [
    "Load the problem"
   ]
  },
  {
   "cell_type": "code",
   "execution_count": 12,
   "id": "a51003f8-a861-4d31-b962-3f58f400b5dc",
   "metadata": {
    "papermill": {
     "duration": 0.045454,
     "end_time": "2021-12-08T13:48:31.359223",
     "exception": false,
     "start_time": "2021-12-08T13:48:31.313769",
     "status": "completed"
    },
    "tags": []
   },
   "outputs": [],
   "source": [
    "with open(\"input.txt\") as f:\n",
    "    puzzle = [((w := line.split())[:10], w[11:]) for line in f.readlines()]"
   ]
  },
  {
   "cell_type": "markdown",
   "id": "4bd35a7c-9df7-4a94-9515-1528d34a3285",
   "metadata": {
    "papermill": {
     "duration": 0.028789,
     "end_time": "2021-12-08T13:48:31.418065",
     "exception": false,
     "start_time": "2021-12-08T13:48:31.389276",
     "status": "completed"
    },
    "tags": []
   },
   "source": [
    "Build a mapping of segments to digits"
   ]
  },
  {
   "cell_type": "code",
   "execution_count": 4,
   "id": "0af1ef81-ceb6-46f9-8eab-a41fc249085d",
   "metadata": {
    "papermill": {
     "duration": 0.038663,
     "end_time": "2021-12-08T13:48:31.484208",
     "exception": false,
     "start_time": "2021-12-08T13:48:31.445545",
     "status": "completed"
    },
    "tags": []
   },
   "outputs": [
    {
     "data": {
      "text/plain": [
       "{0: 'abcefg',\n",
       " 1: 'cf',\n",
       " 2: 'acdeg',\n",
       " 3: 'acdfg',\n",
       " 4: 'bcdf',\n",
       " 5: 'abdfg',\n",
       " 6: 'abdefg',\n",
       " 7: 'acf',\n",
       " 8: 'abcdefg',\n",
       " 9: 'abcdfg'}"
      ]
     },
     "execution_count": 4,
     "metadata": {},
     "output_type": "execute_result"
    }
   ],
   "source": [
    "SEGMENTS_TO_DIGIT = {\n",
    "    \"abcefg\": 0,\n",
    "    \"cf\": 1,\n",
    "    \"acdeg\": 2,\n",
    "    \"acdfg\": 3,\n",
    "    \"bcdf\": 4,\n",
    "    \"abdfg\": 5,\n",
    "    \"abdefg\": 6,\n",
    "    \"acf\": 7,\n",
    "    \"abcdefg\": 8,\n",
    "    \"abcdfg\": 9,\n",
    "}\n",
    "DIGIT_TO_SEGMENTS = {v: k for k, v in SEGMENTS_TO_DIGIT.items()}"
   ]
  },
  {
   "cell_type": "markdown",
   "id": "c4f8a2a0-37d6-4098-9c74-73bea28f8ecb",
   "metadata": {
    "papermill": {
     "duration": 0.029075,
     "end_time": "2021-12-08T13:48:31.540929",
     "exception": false,
     "start_time": "2021-12-08T13:48:31.511854",
     "status": "completed"
    },
    "tags": []
   },
   "source": [
    "With a random pattern, only unordered properties are invariant. One such property is the segment frequencies:"
   ]
  },
  {
   "cell_type": "code",
   "execution_count": 5,
   "id": "cdc9f945-8a25-43d8-8885-f35b378d3370",
   "metadata": {
    "papermill": {
     "duration": 0.036025,
     "end_time": "2021-12-08T13:48:31.606121",
     "exception": false,
     "start_time": "2021-12-08T13:48:31.570096",
     "status": "completed"
    },
    "tags": []
   },
   "outputs": [
    {
     "data": {
      "text/plain": [
       "Counter({'a': 8, 'b': 6, 'c': 8, 'e': 4, 'f': 9, 'g': 7, 'd': 7})"
      ]
     },
     "execution_count": 5,
     "metadata": {},
     "output_type": "execute_result"
    }
   ],
   "source": [
    "CANONICAL_SEGMENT_FREQUENCIES = collections.Counter(\n",
    "    itertools.chain.from_iterable(DIGIT_TO_SEGMENTS.values())\n",
    ")"
   ]
  },
  {
   "cell_type": "markdown",
   "id": "25c4925f-b630-4788-b6d7-f275d9184a48",
   "metadata": {
    "papermill": {
     "duration": 0.034014,
     "end_time": "2021-12-08T13:48:31.670722",
     "exception": false,
     "start_time": "2021-12-08T13:48:31.636708",
     "status": "completed"
    },
    "tags": []
   },
   "source": [
    "Interestingly, when we treat each frequency as a score and take the sum for each digit, we observe a uniquely valued set:"
   ]
  },
  {
   "cell_type": "code",
   "execution_count": 6,
   "id": "e18ee963-0242-4b48-b367-1a18e6e386c6",
   "metadata": {
    "papermill": {
     "duration": 0.03839,
     "end_time": "2021-12-08T13:48:31.743768",
     "exception": false,
     "start_time": "2021-12-08T13:48:31.705378",
     "status": "completed"
    },
    "tags": []
   },
   "outputs": [
    {
     "data": {
      "text/plain": [
       "{42: 0, 17: 1, 34: 2, 39: 3, 30: 4, 37: 5, 41: 6, 25: 7, 49: 8, 45: 9}"
      ]
     },
     "execution_count": 6,
     "metadata": {},
     "output_type": "execute_result"
    }
   ],
   "source": [
    "DIGIT_TO_SCORE = {\n",
    "    sum([CANONICAL_SEGMENT_FREQUENCIES[s] for s in segments]): i\n",
    "    for i, segments in DIGIT_TO_SEGMENTS.items()\n",
    "}"
   ]
  },
  {
   "cell_type": "markdown",
   "id": "b6632302-7f60-44f2-a73e-91ea28896b7c",
   "metadata": {
    "papermill": {
     "duration": 0.032245,
     "end_time": "2021-12-08T13:48:31.808476",
     "exception": false,
     "start_time": "2021-12-08T13:48:31.776231",
     "status": "completed"
    },
    "tags": []
   },
   "source": [
    "This can be used to determine the true digits by building a frequency table for each set of patterns:"
   ]
  },
  {
   "cell_type": "markdown",
   "id": "5c4408af-1c93-4299-98a0-2d6918c86f59",
   "metadata": {
    "papermill": {
     "duration": 0.035358,
     "end_time": "2021-12-08T13:48:31.877023",
     "exception": false,
     "start_time": "2021-12-08T13:48:31.841665",
     "status": "completed"
    },
    "tags": []
   },
   "source": [
    "Compute the results!"
   ]
  },
  {
   "cell_type": "code",
   "execution_count": 7,
   "id": "93f0108e-1c6b-4767-b096-daf6b7f50ec8",
   "metadata": {
    "papermill": {
     "duration": 0.039099,
     "end_time": "2021-12-08T13:48:31.949368",
     "exception": false,
     "start_time": "2021-12-08T13:48:31.910269",
     "status": "completed"
    },
    "tags": []
   },
   "outputs": [],
   "source": [
    "def determine_digits(patterns, outputs):\n",
    "    segment_frequencies = collections.Counter(itertools.chain.from_iterable(patterns))\n",
    "\n",
    "    output_scores = [\n",
    "        sum([segment_frequencies[s] for s in segments]) for segments in outputs\n",
    "    ]\n",
    "\n",
    "    return tuple([DIGIT_TO_SCORE[x] for x in output_scores])"
   ]
  },
  {
   "cell_type": "code",
   "execution_count": 8,
   "id": "69572969-ead4-4991-b00a-704759dc7551",
   "metadata": {
    "papermill": {
     "duration": 0.056947,
     "end_time": "2021-12-08T13:48:32.039765",
     "exception": false,
     "start_time": "2021-12-08T13:48:31.982818",
     "status": "completed"
    },
    "scrolled": true,
    "tags": []
   },
   "outputs": [
    {
     "data": {
      "text/plain": [
       "[(3, 1, 5, 0),\n",
       " (5, 3, 6, 0),\n",
       " (7, 0, 6, 9),\n",
       " (0, 3, 8, 5),\n",
       " (2, 3, 0, 3),\n",
       " (3, 2, 7, 3),\n",
       " (7, 1, 1, 8),\n",
       " (8, 6, 2, 9),\n",
       " (3, 0, 1, 9),\n",
       " (8, 3, 4, 4),\n",
       " (5, 2, 8, 2),\n",
       " (9, 8, 5, 9),\n",
       " (6, 2, 0, 4),\n",
       " (7, 8, 1, 4),\n",
       " (7, 4, 3, 3),\n",
       " (3, 2, 3, 7),\n",
       " (9, 6, 2, 0),\n",
       " (1, 5, 0, 4),\n",
       " (3, 9, 3, 2),\n",
       " (8, 4, 9, 3),\n",
       " (4, 8, 6, 2),\n",
       " (9, 4, 5, 4),\n",
       " (7, 9, 9, 7),\n",
       " (6, 2, 2, 3),\n",
       " (2, 1, 9, 3),\n",
       " (1, 5, 5, 9),\n",
       " (2, 8, 5, 8),\n",
       " (7, 3, 6, 3),\n",
       " (6, 1, 4, 1),\n",
       " (4, 1, 2, 9),\n",
       " (0, 9, 5, 1),\n",
       " (6, 6, 0, 5),\n",
       " (2, 2, 8, 6),\n",
       " (1, 4, 4, 9),\n",
       " (9, 9, 9, 6),\n",
       " (3, 0, 4, 5),\n",
       " (9, 2, 2, 5),\n",
       " (3, 9, 5, 1),\n",
       " (1, 8, 5, 7),\n",
       " (6, 7, 7, 9),\n",
       " (4, 2, 2, 0),\n",
       " (0, 6, 2, 4),\n",
       " (9, 1, 7, 8),\n",
       " (5, 1, 9, 9),\n",
       " (1, 0, 2, 6),\n",
       " (4, 2, 9, 3),\n",
       " (3, 5, 8, 7),\n",
       " (5, 8, 8, 4),\n",
       " (3, 4, 5, 5),\n",
       " (7, 0, 7, 5),\n",
       " (8, 6, 0, 9),\n",
       " (0, 2, 8, 7),\n",
       " (3, 0, 0, 3),\n",
       " (0, 7, 8, 9),\n",
       " (9, 8, 2, 3),\n",
       " (4, 9, 7, 2),\n",
       " (3, 9, 5, 3),\n",
       " (5, 5, 5, 3),\n",
       " (6, 2, 0, 8),\n",
       " (8, 3, 2, 1),\n",
       " (2, 1, 7, 3),\n",
       " (9, 4, 4, 8),\n",
       " (5, 2, 8, 4),\n",
       " (5, 0, 4, 4),\n",
       " (6, 9, 9, 9),\n",
       " (1, 5, 4, 6),\n",
       " (2, 6, 0, 1),\n",
       " (9, 4, 0, 4),\n",
       " (2, 0, 3, 5),\n",
       " (6, 6, 2, 3),\n",
       " (8, 5, 9, 1),\n",
       " (2, 4, 4, 4),\n",
       " (0, 5, 7, 7),\n",
       " (6, 2, 6, 0),\n",
       " (5, 2, 7, 1),\n",
       " (6, 0, 1, 6),\n",
       " (9, 3, 2, 3),\n",
       " (0, 0, 8, 6),\n",
       " (0, 2, 1, 7),\n",
       " (0, 6, 3, 7),\n",
       " (1, 6, 4, 8),\n",
       " (3, 2, 7, 5),\n",
       " (7, 1, 7, 1),\n",
       " (2, 8, 2, 7),\n",
       " (7, 0, 4, 7),\n",
       " (5, 3, 1, 0),\n",
       " (2, 8, 0, 5),\n",
       " (5, 1, 7, 7),\n",
       " (1, 8, 0, 9),\n",
       " (3, 9, 4, 2),\n",
       " (1, 1, 0, 8),\n",
       " (2, 1, 6, 6),\n",
       " (0, 0, 9, 6),\n",
       " (0, 8, 4, 8),\n",
       " (3, 6, 6, 1),\n",
       " (8, 9, 7, 4),\n",
       " (0, 6, 4, 4),\n",
       " (5, 6, 7, 2),\n",
       " (8, 8, 6, 2),\n",
       " (7, 1, 9, 8),\n",
       " (5, 6, 3, 1),\n",
       " (1, 6, 0, 2),\n",
       " (0, 7, 3, 3),\n",
       " (0, 6, 6, 2),\n",
       " (8, 5, 7, 7),\n",
       " (8, 3, 4, 0),\n",
       " (0, 2, 0, 3),\n",
       " (1, 7, 0, 5),\n",
       " (6, 2, 6, 2),\n",
       " (7, 0, 7, 7),\n",
       " (0, 1, 9, 8),\n",
       " (2, 5, 2, 6),\n",
       " (2, 8, 2, 1),\n",
       " (1, 5, 1, 9),\n",
       " (6, 4, 4, 3),\n",
       " (7, 3, 1, 6),\n",
       " (1, 0, 1, 8),\n",
       " (3, 1, 7, 4),\n",
       " (5, 9, 2, 3),\n",
       " (4, 9, 8, 3),\n",
       " (6, 6, 2, 5),\n",
       " (3, 1, 1, 3),\n",
       " (2, 6, 6, 1),\n",
       " (3, 7, 2, 5),\n",
       " (0, 3, 9, 2),\n",
       " (9, 8, 2, 8),\n",
       " (0, 0, 2, 9),\n",
       " (4, 1, 3, 0),\n",
       " (9, 7, 7, 6),\n",
       " (8, 9, 9, 7),\n",
       " (4, 1, 9, 8),\n",
       " (8, 2, 7, 2),\n",
       " (6, 0, 4, 1),\n",
       " (0, 3, 2, 6),\n",
       " (3, 1, 2, 7),\n",
       " (0, 5, 4, 2),\n",
       " (8, 9, 5, 1),\n",
       " (2, 4, 4, 6),\n",
       " (8, 8, 0, 0),\n",
       " (2, 6, 0, 7),\n",
       " (2, 7, 1, 5),\n",
       " (5, 0, 6, 3),\n",
       " (3, 3, 6, 6),\n",
       " (8, 3, 1, 9),\n",
       " (0, 7, 1, 5),\n",
       " (5, 2, 0, 0),\n",
       " (3, 7, 4, 1),\n",
       " (6, 2, 2, 7),\n",
       " (0, 4, 4, 6),\n",
       " (4, 7, 5, 8),\n",
       " (0, 1, 7, 1),\n",
       " (1, 2, 5, 4),\n",
       " (2, 5, 2, 5),\n",
       " (6, 7, 2, 3),\n",
       " (8, 2, 2, 9),\n",
       " (8, 3, 4, 3),\n",
       " (8, 1, 1, 4),\n",
       " (5, 7, 9, 6),\n",
       " (4, 6, 3, 0),\n",
       " (0, 7, 5, 7),\n",
       " (3, 4, 1, 6),\n",
       " (3, 8, 7, 7),\n",
       " (2, 9, 6, 7),\n",
       " (2, 0, 0, 4),\n",
       " (1, 7, 1, 5),\n",
       " (2, 7, 9, 8),\n",
       " (7, 3, 2, 1),\n",
       " (1, 8, 9, 2),\n",
       " (4, 9, 0, 8),\n",
       " (5, 3, 9, 2),\n",
       " (5, 9, 4, 8),\n",
       " (0, 5, 3, 8),\n",
       " (7, 8, 5, 0),\n",
       " (9, 6, 2, 9),\n",
       " (3, 3, 5, 3),\n",
       " (1, 8, 4, 1),\n",
       " (0, 1, 3, 1),\n",
       " (5, 5, 8, 9),\n",
       " (3, 1, 1, 3),\n",
       " (6, 8, 8, 9),\n",
       " (3, 4, 9, 5),\n",
       " (2, 8, 1, 1),\n",
       " (1, 2, 8, 0),\n",
       " (2, 4, 5, 2),\n",
       " (1, 9, 3, 0),\n",
       " (0, 4, 9, 3),\n",
       " (7, 2, 0, 4),\n",
       " (5, 9, 9, 7),\n",
       " (8, 0, 1, 9),\n",
       " (8, 3, 2, 2),\n",
       " (2, 6, 9, 4),\n",
       " (4, 3, 0, 5),\n",
       " (4, 6, 1, 9),\n",
       " (8, 7, 7, 5),\n",
       " (5, 4, 4, 4),\n",
       " (4, 0, 6, 5),\n",
       " (7, 1, 0, 1),\n",
       " (7, 4, 4, 0),\n",
       " (6, 4, 0, 8),\n",
       " (5, 6, 9, 6)]"
      ]
     },
     "execution_count": 8,
     "metadata": {},
     "output_type": "execute_result"
    }
   ],
   "source": [
    "digits = [determine_digits(p, o) for p, o in puzzle]"
   ]
  },
  {
   "cell_type": "markdown",
   "id": "65063b8a-25c3-4b31-858d-c38bce82ac39",
   "metadata": {
    "papermill": {
     "duration": 0.033937,
     "end_time": "2021-12-08T13:48:32.107421",
     "exception": false,
     "start_time": "2021-12-08T13:48:32.073484",
     "status": "completed"
    },
    "tags": []
   },
   "source": [
    "Let's compute the aggregate frequencies"
   ]
  },
  {
   "cell_type": "code",
   "execution_count": 9,
   "id": "96d29a89-e66a-4310-b9ae-0d348e895500",
   "metadata": {
    "papermill": {
     "duration": 0.042572,
     "end_time": "2021-12-08T13:48:32.183567",
     "exception": false,
     "start_time": "2021-12-08T13:48:32.140995",
     "status": "completed"
    },
    "tags": []
   },
   "outputs": [
    {
     "data": {
      "text/plain": [
       "Counter({3: 84, 1: 84, 5: 74, 0: 86, 6: 74, 7: 75, 9: 77, 8: 74, 2: 95, 4: 77})"
      ]
     },
     "execution_count": 9,
     "metadata": {},
     "output_type": "execute_result"
    }
   ],
   "source": [
    "digit_frequencies = collections.Counter(itertools.chain.from_iterable(digits))"
   ]
  },
  {
   "cell_type": "markdown",
   "id": "095e9c8b-88ec-45d6-b8ab-a9430cf067bc",
   "metadata": {
    "papermill": {
     "duration": 0.036315,
     "end_time": "2021-12-08T13:48:32.254823",
     "exception": false,
     "start_time": "2021-12-08T13:48:32.218508",
     "status": "completed"
    },
    "tags": []
   },
   "source": [
    "We need to convert our digits to integers (in base 10) before we can compute the total output value"
   ]
  },
  {
   "cell_type": "code",
   "execution_count": 10,
   "id": "96467cda-d5c4-4dd6-82c7-c4de4307002e",
   "metadata": {
    "papermill": {
     "duration": 0.039399,
     "end_time": "2021-12-08T13:48:32.327642",
     "exception": false,
     "start_time": "2021-12-08T13:48:32.288243",
     "status": "completed"
    },
    "tags": []
   },
   "outputs": [],
   "source": [
    "def digits_to_int(digits):\n",
    "    return sum((x * 10 ** i for i, x in enumerate(reversed(digits))))"
   ]
  },
  {
   "cell_type": "code",
   "execution_count": 11,
   "id": "034c68d5-bcce-419a-9b24-60ec0ca3ca63",
   "metadata": {
    "papermill": {
     "duration": 0.039016,
     "end_time": "2021-12-08T13:48:32.399525",
     "exception": false,
     "start_time": "2021-12-08T13:48:32.360509",
     "status": "completed"
    },
    "tags": []
   },
   "outputs": [
    {
     "data": {
      "text/plain": [
       "915941"
      ]
     },
     "execution_count": 11,
     "metadata": {},
     "output_type": "execute_result"
    }
   ],
   "source": [
    "output_total = sum([digits_to_int(d) for d in digits])"
   ]
  }
 ],
 "metadata": {
  "kernelspec": {
   "display_name": "Python 3 (ipykernel)",
   "language": "python",
   "name": "python3"
  },
  "language_info": {
   "codemirror_mode": {
    "name": "ipython",
    "version": 3
   },
   "file_extension": ".py",
   "mimetype": "text/x-python",
   "name": "python",
   "nbconvert_exporter": "python",
   "pygments_lexer": "ipython3",
   "version": "3.9.7"
  },
  "papermill": {
   "default_parameters": {},
   "duration": 2.612615,
   "end_time": "2021-12-08T13:48:32.538279",
   "environment_variables": {},
   "exception": null,
   "input_path": "08-segments/02-by-frequency.ipynb",
   "output_path": "08-segments/02-by-frequency.ipynb",
   "parameters": {},
   "start_time": "2021-12-08T13:48:29.925664",
   "version": "2.3.3"
  }
 },
 "nbformat": 4,
 "nbformat_minor": 5
}
