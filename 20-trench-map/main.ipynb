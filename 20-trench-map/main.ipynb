{
 "cells": [
  {
   "cell_type": "markdown",
   "id": "104aab3f-7060-40a9-be94-2d95ecf93311",
   "metadata": {},
   "source": [
    "# Day 20: Scanner\n",
    "The input for this problem is located at https://adventofcode.com/2021/day/20/input"
   ]
  },
  {
   "cell_type": "code",
   "execution_count": null,
   "id": "756033ca-4204-4f3e-b8b5-3ec3271becfa",
   "metadata": {},
   "outputs": [],
   "source": [
    "import re\n",
    "\n",
    "import numpy as np\n",
    "from scipy import ndimage\n",
    "\n",
    "%load_ext numpy_html"
   ]
  },
  {
   "cell_type": "code",
   "execution_count": null,
   "id": "3a3b33c2-20d0-4597-9ab5-ad21afdb599b",
   "metadata": {},
   "outputs": [],
   "source": [
    "with open(\"input.txt\") as f:\n",
    "    enhancement_source, image_source = re.match(\n",
    "        r\"([\\s\\S]*?)^$([\\s\\S]*)\", f.read(), re.M\n",
    "    ).groups()"
   ]
  },
  {
   "cell_type": "code",
   "execution_count": null,
   "id": "33da8f99-4a2c-4a21-97ce-86c0c9be8247",
   "metadata": {},
   "outputs": [],
   "source": [
    "enhancement = (\n",
    "    np.genfromtxt(\n",
    "        [enhancement_source.replace(\"\\n\", \"\")], dtype=\"U1\", delimiter=1, comments=None\n",
    "    )\n",
    "    == \"#\"\n",
    ")\n",
    "image = (\n",
    "    np.genfromtxt(image_source.splitlines(), dtype=\"U1\", delimiter=1, comments=None)\n",
    "    == \"#\"\n",
    ")"
   ]
  },
  {
   "cell_type": "code",
   "execution_count": null,
   "id": "17bf9423-50e0-49a9-bf61-841a628e55be",
   "metadata": {},
   "outputs": [],
   "source": [
    "kernel = 2 ** np.arange(9).reshape(3, 3)"
   ]
  },
  {
   "cell_type": "markdown",
   "id": "e12bfdb5-cb14-48a8-b124-c0c520129657",
   "metadata": {},
   "source": [
    "## Part 1"
   ]
  },
  {
   "cell_type": "code",
   "execution_count": null,
   "id": "03ced1cd-688a-4d32-ba42-ddf35cbf183e",
   "metadata": {},
   "outputs": [],
   "source": [
    "source = np.pad(image, 2)\n",
    "\n",
    "for i in range(2):\n",
    "    index = ndimage.convolve(\n",
    "        source.astype(np.int_),\n",
    "        kernel,\n",
    "    )\n",
    "    source = enhancement[index]"
   ]
  },
  {
   "cell_type": "markdown",
   "id": "7244ccdf-4ff5-4eda-84e4-75f26717da35",
   "metadata": {},
   "source": [
    "## Part 2"
   ]
  },
  {
   "cell_type": "code",
   "execution_count": null,
   "id": "e0a48883-015a-46e5-b05a-4321156584b6",
   "metadata": {},
   "outputs": [],
   "source": [
    "source = np.pad(image, 50)\n",
    "\n",
    "for i in range(50):\n",
    "    index = ndimage.convolve(\n",
    "        source.astype(np.int_),\n",
    "        kernel,\n",
    "    )\n",
    "    source = enhancement[index]"
   ]
  },
  {
   "cell_type": "code",
   "execution_count": null,
   "id": "bbe3358a-9613-4fa8-94dd-f7a43609f4e1",
   "metadata": {},
   "outputs": [],
   "source": [
    "source.sum()"
   ]
  }
 ],
 "metadata": {
  "kernelspec": {
   "display_name": "Python 3 (ipykernel)",
   "language": "python",
   "name": "python3"
  },
  "language_info": {
   "codemirror_mode": {
    "name": "ipython",
    "version": 3
   },
   "file_extension": ".py",
   "mimetype": "text/x-python",
   "name": "python",
   "nbconvert_exporter": "python",
   "pygments_lexer": "ipython3",
   "version": "3.9.7"
  },
  "papermill": {
   "default_parameters": {},
   "duration": 3.067522,
   "end_time": "2021-12-08T13:48:29.482469",
   "environment_variables": {},
   "exception": null,
   "input_path": "08-segments/01-multi-pass.ipynb",
   "output_path": "08-segments/01-multi-pass.ipynb",
   "parameters": {},
   "start_time": "2021-12-08T13:48:26.414947",
   "version": "2.3.3"
  }
 },
 "nbformat": 4,
 "nbformat_minor": 5
}
