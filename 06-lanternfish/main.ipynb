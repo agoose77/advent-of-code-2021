{
 "cells": [
  {
   "cell_type": "code",
   "execution_count": 1,
   "id": "25bca887-e0c1-4467-8ecd-f0f21c528146",
   "metadata": {
    "execution": {
     "iopub.execute_input": "2021-12-08T13:48:22.279400Z",
     "iopub.status.busy": "2021-12-08T13:48:22.279008Z",
     "iopub.status.idle": "2021-12-08T13:48:22.286668Z",
     "shell.execute_reply": "2021-12-08T13:48:22.287001Z"
    },
    "papermill": {
     "duration": 0.033631,
     "end_time": "2021-12-08T13:48:22.287169",
     "exception": false,
     "start_time": "2021-12-08T13:48:22.253538",
     "status": "completed"
    },
    "tags": []
   },
   "outputs": [],
   "source": [
    "%config InteractiveShell.ast_node_interactivity=\"last_expr_or_assign\""
   ]
  },
  {
   "cell_type": "markdown",
   "id": "9e4bbb3d-d581-4950-97f9-2ca2082ec36e",
   "metadata": {
    "papermill": {
     "duration": 0.02242,
     "end_time": "2021-12-08T13:48:22.331145",
     "exception": false,
     "start_time": "2021-12-08T13:48:22.308725",
     "status": "completed"
    },
    "tags": []
   },
   "source": [
    "# Day 6: Definitely Not a Pandemic\n",
    "The input for this problem is located at https://adventofcode.com/2021/day/6/input"
   ]
  },
  {
   "cell_type": "code",
   "execution_count": 2,
   "id": "76ab6930",
   "metadata": {
    "execution": {
     "iopub.execute_input": "2021-12-08T13:48:22.377238Z",
     "iopub.status.busy": "2021-12-08T13:48:22.376610Z",
     "iopub.status.idle": "2021-12-08T13:48:22.526698Z",
     "shell.execute_reply": "2021-12-08T13:48:22.526198Z"
    },
    "papermill": {
     "duration": 0.174276,
     "end_time": "2021-12-08T13:48:22.526799",
     "exception": false,
     "start_time": "2021-12-08T13:48:22.352523",
     "status": "completed"
    },
    "tags": []
   },
   "outputs": [],
   "source": [
    "import numpy as np"
   ]
  },
  {
   "cell_type": "code",
   "execution_count": 3,
   "id": "545cf0c4-8ed4-45af-ad38-98e05545f4f3",
   "metadata": {
    "execution": {
     "iopub.execute_input": "2021-12-08T13:48:22.604504Z",
     "iopub.status.busy": "2021-12-08T13:48:22.603986Z",
     "iopub.status.idle": "2021-12-08T13:48:22.607061Z",
     "shell.execute_reply": "2021-12-08T13:48:22.606660Z"
    },
    "papermill": {
     "duration": 0.054837,
     "end_time": "2021-12-08T13:48:22.607154",
     "exception": false,
     "start_time": "2021-12-08T13:48:22.552317",
     "status": "completed"
    },
    "tags": []
   },
   "outputs": [
    {
     "data": {
      "text/plain": [
       "array([1, 3, 4, 1, 5, 2, 1, 1, 1, 1, 5, 1, 5, 1, 1, 1, 1, 3, 1, 1, 1, 1,\n",
       "       1, 1, 1, 2, 1, 5, 1, 1, 1, 1, 1, 4, 4, 1, 1, 4, 1, 1, 2, 3, 1, 5,\n",
       "       1, 4, 1, 2, 4, 1, 1, 1, 1, 1, 1, 1, 1, 2, 5, 3, 3, 5, 1, 1, 1, 1,\n",
       "       4, 1, 1, 3, 1, 1, 1, 2, 3, 4, 1, 1, 5, 1, 1, 1, 1, 1, 2, 1, 3, 1,\n",
       "       3, 1, 2, 5, 1, 1, 1, 1, 5, 1, 5, 5, 1, 1, 1, 1, 3, 4, 4, 4, 1, 5,\n",
       "       1, 1, 4, 4, 1, 1, 1, 1, 3, 1, 1, 1, 1, 1, 1, 3, 2, 1, 4, 1, 1, 4,\n",
       "       1, 5, 5, 1, 2, 2, 1, 5, 4, 2, 1, 1, 5, 1, 5, 1, 3, 1, 1, 1, 1, 1,\n",
       "       4, 1, 2, 1, 1, 5, 1, 1, 4, 1, 4, 5, 3, 5, 5, 1, 2, 1, 1, 1, 1, 1,\n",
       "       3, 5, 1, 2, 1, 2, 1, 3, 1, 1, 1, 1, 1, 4, 5, 4, 1, 3, 3, 1, 1, 1,\n",
       "       1, 1, 1, 1, 1, 1, 5, 1, 1, 1, 5, 1, 1, 4, 1, 5, 2, 4, 1, 1, 1, 2,\n",
       "       1, 1, 4, 4, 1, 2, 1, 1, 1, 1, 5, 3, 1, 1, 1, 1, 4, 1, 4, 1, 1, 1,\n",
       "       1, 1, 1, 3, 1, 1, 2, 1, 1, 1, 1, 1, 2, 1, 1, 1, 1, 1, 1, 1, 2, 1,\n",
       "       1, 1, 1, 1, 1, 4, 1, 1, 1, 1, 1, 1, 1, 1, 1, 1, 1, 1, 1, 1, 2, 1,\n",
       "       1, 2, 5, 1, 2, 1, 1, 1, 1, 1, 1, 1, 1, 1], dtype=uint64)"
      ]
     },
     "execution_count": 3,
     "metadata": {},
     "output_type": "execute_result"
    }
   ],
   "source": [
    "age = np.loadtxt(\"input.txt\", delimiter=\",\", dtype=np.uint64)"
   ]
  },
  {
   "cell_type": "markdown",
   "id": "30310f5d-1af7-43af-95fa-eab1d8ab89d4",
   "metadata": {
    "papermill": {
     "duration": 0.025998,
     "end_time": "2021-12-08T13:48:22.657786",
     "exception": false,
     "start_time": "2021-12-08T13:48:22.631788",
     "status": "completed"
    },
    "tags": []
   },
   "source": [
    "Build a histogram of the age values"
   ]
  },
  {
   "cell_type": "code",
   "execution_count": 4,
   "id": "e0e84c08-029a-4fac-8a81-98f0c9b6c7bc",
   "metadata": {
    "execution": {
     "iopub.execute_input": "2021-12-08T13:48:22.717178Z",
     "iopub.status.busy": "2021-12-08T13:48:22.716769Z",
     "iopub.status.idle": "2021-12-08T13:48:22.718764Z",
     "shell.execute_reply": "2021-12-08T13:48:22.718422Z"
    },
    "papermill": {
     "duration": 0.029126,
     "end_time": "2021-12-08T13:48:22.718855",
     "exception": false,
     "start_time": "2021-12-08T13:48:22.689729",
     "status": "completed"
    },
    "tags": []
   },
   "outputs": [],
   "source": [
    "age_hist = np.zeros(9, dtype=np.uint64)\n",
    "np.add.at(age_hist, age, 1)"
   ]
  },
  {
   "cell_type": "markdown",
   "id": "8b3a3821-426e-44a7-a736-485a8c80f3d4",
   "metadata": {
    "papermill": {
     "duration": 0.022377,
     "end_time": "2021-12-08T13:48:22.763533",
     "exception": false,
     "start_time": "2021-12-08T13:48:22.741156",
     "status": "completed"
    },
    "tags": []
   },
   "source": [
    "Let's define an in-place evolution function"
   ]
  },
  {
   "cell_type": "code",
   "execution_count": 5,
   "id": "dcf955dc-7e2e-4f66-9015-33ef67d7c5e7",
   "metadata": {
    "execution": {
     "iopub.execute_input": "2021-12-08T13:48:22.813686Z",
     "iopub.status.busy": "2021-12-08T13:48:22.813240Z",
     "iopub.status.idle": "2021-12-08T13:48:22.815451Z",
     "shell.execute_reply": "2021-12-08T13:48:22.815106Z"
    },
    "papermill": {
     "duration": 0.030312,
     "end_time": "2021-12-08T13:48:22.815539",
     "exception": false,
     "start_time": "2021-12-08T13:48:22.785227",
     "status": "completed"
    },
    "tags": []
   },
   "outputs": [],
   "source": [
    "def evolve_state(state):\n",
    "    new = state[0]\n",
    "    state[:-1] = state[1:]\n",
    "    state[6] += new\n",
    "    state[8] = new"
   ]
  },
  {
   "cell_type": "markdown",
   "id": "7340ebd9-216c-42e0-8486-2a2cdeb41a9e",
   "metadata": {
    "papermill": {
     "duration": 0.024047,
     "end_time": "2021-12-08T13:48:22.873256",
     "exception": false,
     "start_time": "2021-12-08T13:48:22.849209",
     "status": "completed"
    },
    "tags": []
   },
   "source": [
    "First we evolve the state through 80 epochs"
   ]
  },
  {
   "cell_type": "code",
   "execution_count": 6,
   "id": "28d70a15-d6b5-4cb5-b545-6d3aef59077d",
   "metadata": {
    "execution": {
     "iopub.execute_input": "2021-12-08T13:48:22.930018Z",
     "iopub.status.busy": "2021-12-08T13:48:22.928917Z",
     "iopub.status.idle": "2021-12-08T13:48:22.932419Z",
     "shell.execute_reply": "2021-12-08T13:48:22.932805Z"
    },
    "papermill": {
     "duration": 0.031813,
     "end_time": "2021-12-08T13:48:22.932925",
     "exception": false,
     "start_time": "2021-12-08T13:48:22.901112",
     "status": "completed"
    },
    "tags": []
   },
   "outputs": [],
   "source": [
    "state = age_hist.copy()\n",
    "for i in range(80):\n",
    "    evolve_state(state)"
   ]
  },
  {
   "cell_type": "markdown",
   "id": "8883883d-d848-4126-a644-f653713107f8",
   "metadata": {
    "papermill": {
     "duration": 0.021607,
     "end_time": "2021-12-08T13:48:22.976973",
     "exception": false,
     "start_time": "2021-12-08T13:48:22.955366",
     "status": "completed"
    },
    "tags": []
   },
   "source": [
    "How many fish do we have?"
   ]
  },
  {
   "cell_type": "code",
   "execution_count": 7,
   "id": "e0b33829-b69f-49ac-97be-029e310703dc",
   "metadata": {
    "execution": {
     "iopub.execute_input": "2021-12-08T13:48:23.024281Z",
     "iopub.status.busy": "2021-12-08T13:48:23.023914Z",
     "iopub.status.idle": "2021-12-08T13:48:23.026053Z",
     "shell.execute_reply": "2021-12-08T13:48:23.025657Z"
    },
    "papermill": {
     "duration": 0.027697,
     "end_time": "2021-12-08T13:48:23.026140",
     "exception": false,
     "start_time": "2021-12-08T13:48:22.998443",
     "status": "completed"
    },
    "tags": []
   },
   "outputs": [
    {
     "data": {
      "text/plain": [
       "386755"
      ]
     },
     "execution_count": 7,
     "metadata": {},
     "output_type": "execute_result"
    }
   ],
   "source": [
    "np.sum(state)"
   ]
  },
  {
   "cell_type": "markdown",
   "id": "1ec528e0-d2c3-480e-b628-6c7fb02c9dd8",
   "metadata": {
    "papermill": {
     "duration": 0.021864,
     "end_time": "2021-12-08T13:48:23.071122",
     "exception": false,
     "start_time": "2021-12-08T13:48:23.049258",
     "status": "completed"
    },
    "tags": []
   },
   "source": [
    "Now we compute $n$ epochs to bring us to 256"
   ]
  },
  {
   "cell_type": "code",
   "execution_count": 8,
   "id": "cb73b9b1-8c5e-4340-9e61-33fd5525c78a",
   "metadata": {
    "execution": {
     "iopub.execute_input": "2021-12-08T13:48:23.118311Z",
     "iopub.status.busy": "2021-12-08T13:48:23.117924Z",
     "iopub.status.idle": "2021-12-08T13:48:23.120199Z",
     "shell.execute_reply": "2021-12-08T13:48:23.119901Z"
    },
    "papermill": {
     "duration": 0.026849,
     "end_time": "2021-12-08T13:48:23.120285",
     "exception": false,
     "start_time": "2021-12-08T13:48:23.093436",
     "status": "completed"
    },
    "tags": []
   },
   "outputs": [],
   "source": [
    "for i in range(256-80):\n",
    "    evolve_state(state)"
   ]
  },
  {
   "cell_type": "code",
   "execution_count": 9,
   "id": "ddd5d5c2-4dcd-4c27-afe8-187e06859143",
   "metadata": {
    "execution": {
     "iopub.execute_input": "2021-12-08T13:48:23.166229Z",
     "iopub.status.busy": "2021-12-08T13:48:23.165866Z",
     "iopub.status.idle": "2021-12-08T13:48:23.167672Z",
     "shell.execute_reply": "2021-12-08T13:48:23.167947Z"
    },
    "papermill": {
     "duration": 0.026977,
     "end_time": "2021-12-08T13:48:23.168049",
     "exception": false,
     "start_time": "2021-12-08T13:48:23.141072",
     "status": "completed"
    },
    "tags": []
   },
   "outputs": [
    {
     "data": {
      "text/plain": [
       "1732731810807"
      ]
     },
     "execution_count": 9,
     "metadata": {},
     "output_type": "execute_result"
    }
   ],
   "source": [
    "np.sum(state)"
   ]
  }
 ],
 "metadata": {
  "jupytext": {
   "cell_metadata_filter": "-all",
   "executable": "/usr/bin/env python3",
   "main_language": "python",
   "notebook_metadata_filter": "-all"
  },
  "kernelspec": {
   "display_name": "Python 3 (ipykernel)",
   "language": "python",
   "name": "python3"
  },
  "language_info": {
   "codemirror_mode": {
    "name": "ipython",
    "version": 3
   },
   "file_extension": ".py",
   "mimetype": "text/x-python",
   "name": "python",
   "nbconvert_exporter": "python",
   "pygments_lexer": "ipython3",
   "version": "3.9.7"
  },
  "papermill": {
   "default_parameters": {},
   "duration": 2.141728,
   "end_time": "2021-12-08T13:48:23.295210",
   "environment_variables": {},
   "exception": null,
   "input_path": "06-lanternfish/main.ipynb",
   "output_path": "06-lanternfish/main.ipynb",
   "parameters": {},
   "start_time": "2021-12-08T13:48:21.153482",
   "version": "2.3.3"
  }
 },
 "nbformat": 4,
 "nbformat_minor": 5
}
