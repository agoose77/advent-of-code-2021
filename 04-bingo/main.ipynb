{
 "cells": [
  {
   "cell_type": "code",
   "execution_count": 1,
   "id": "019d3974-d552-4ef5-bc79-98e02fc848c1",
   "metadata": {
    "execution": {
     "iopub.execute_input": "2021-12-08T13:48:16.778206Z",
     "iopub.status.busy": "2021-12-08T13:48:16.777825Z",
     "iopub.status.idle": "2021-12-08T13:48:16.784700Z",
     "shell.execute_reply": "2021-12-08T13:48:16.784377Z"
    },
    "papermill": {
     "duration": 0.040573,
     "end_time": "2021-12-08T13:48:16.784790",
     "exception": false,
     "start_time": "2021-12-08T13:48:16.744217",
     "status": "completed"
    },
    "tags": []
   },
   "outputs": [],
   "source": [
    "%config InteractiveShell.ast_node_interactivity=\"last_expr_or_assign\""
   ]
  },
  {
   "cell_type": "markdown",
   "id": "467d180b-4f0e-4a19-96b7-540838d0e390",
   "metadata": {
    "papermill": {
     "duration": 0.022885,
     "end_time": "2021-12-08T13:48:16.829747",
     "exception": false,
     "start_time": "2021-12-08T13:48:16.806862",
     "status": "completed"
    },
    "tags": []
   },
   "source": [
    "# Day 4: Squid Game\n",
    "The input for this problem is located at https://adventofcode.com/2021/day/4/input"
   ]
  },
  {
   "cell_type": "code",
   "execution_count": 2,
   "id": "3f9f88be",
   "metadata": {
    "execution": {
     "iopub.execute_input": "2021-12-08T13:48:16.878952Z",
     "iopub.status.busy": "2021-12-08T13:48:16.878482Z",
     "iopub.status.idle": "2021-12-08T13:48:17.070947Z",
     "shell.execute_reply": "2021-12-08T13:48:17.070637Z"
    },
    "papermill": {
     "duration": 0.218325,
     "end_time": "2021-12-08T13:48:17.071036",
     "exception": false,
     "start_time": "2021-12-08T13:48:16.852711",
     "status": "completed"
    },
    "tags": []
   },
   "outputs": [],
   "source": [
    "import awkward as ak\n",
    "import numpy as np"
   ]
  },
  {
   "cell_type": "code",
   "execution_count": 3,
   "id": "2d124733",
   "metadata": {
    "execution": {
     "iopub.execute_input": "2021-12-08T13:48:17.124493Z",
     "iopub.status.busy": "2021-12-08T13:48:17.124113Z",
     "iopub.status.idle": "2021-12-08T13:48:17.125594Z",
     "shell.execute_reply": "2021-12-08T13:48:17.125859Z"
    },
    "papermill": {
     "duration": 0.030757,
     "end_time": "2021-12-08T13:48:17.125972",
     "exception": false,
     "start_time": "2021-12-08T13:48:17.095215",
     "status": "completed"
    },
    "tags": []
   },
   "outputs": [],
   "source": [
    "def make_index(array):\n",
    "    for i in range(array.ndim):\n",
    "        array = ak.from_regular(array, axis=i)\n",
    "    return array"
   ]
  },
  {
   "cell_type": "code",
   "execution_count": 4,
   "id": "e2f05ae9",
   "metadata": {
    "execution": {
     "iopub.execute_input": "2021-12-08T13:48:17.178981Z",
     "iopub.status.busy": "2021-12-08T13:48:17.178614Z",
     "iopub.status.idle": "2021-12-08T13:48:17.180168Z",
     "shell.execute_reply": "2021-12-08T13:48:17.179860Z"
    },
    "papermill": {
     "duration": 0.029316,
     "end_time": "2021-12-08T13:48:17.180248",
     "exception": false,
     "start_time": "2021-12-08T13:48:17.150932",
     "status": "completed"
    },
    "tags": []
   },
   "outputs": [],
   "source": [
    "def as_type(array, dtype):\n",
    "    return ak.values_astype(ak.regularize_numpyarray(array), dtype)"
   ]
  },
  {
   "cell_type": "code",
   "execution_count": 5,
   "id": "4b5935a6-18fe-4e16-a625-69637d5fba09",
   "metadata": {
    "execution": {
     "iopub.execute_input": "2021-12-08T13:48:17.236856Z",
     "iopub.status.busy": "2021-12-08T13:48:17.236490Z",
     "iopub.status.idle": "2021-12-08T13:48:17.238094Z",
     "shell.execute_reply": "2021-12-08T13:48:17.237758Z"
    },
    "papermill": {
     "duration": 0.033223,
     "end_time": "2021-12-08T13:48:17.238171",
     "exception": false,
     "start_time": "2021-12-08T13:48:17.204948",
     "status": "completed"
    },
    "tags": []
   },
   "outputs": [],
   "source": [
    "with open(\"input.txt\") as f:\n",
    "    draw = ak.from_numpy(np.loadtxt(f, dtype=np.uint64, delimiter=\",\", max_rows=1))\n",
    "    board = ak.from_numpy(\n",
    "        np.loadtxt(f, dtype=np.uint64).reshape(-1, 5, 5), regulararray=True\n",
    "    )"
   ]
  },
  {
   "cell_type": "markdown",
   "id": "0eeaf046-1488-4d81-8ab8-a2526e68992d",
   "metadata": {
    "papermill": {
     "duration": 0.024549,
     "end_time": "2021-12-08T13:48:17.286367",
     "exception": false,
     "start_time": "2021-12-08T13:48:17.261818",
     "status": "completed"
    },
    "tags": []
   },
   "source": [
    "Evolve state of board through each draw"
   ]
  },
  {
   "cell_type": "code",
   "execution_count": 6,
   "id": "e0dad41b-893f-4212-96ee-f1fe318c8eed",
   "metadata": {
    "execution": {
     "iopub.execute_input": "2021-12-08T13:48:17.340024Z",
     "iopub.status.busy": "2021-12-08T13:48:17.339421Z",
     "iopub.status.idle": "2021-12-08T13:48:17.350914Z",
     "shell.execute_reply": "2021-12-08T13:48:17.350542Z"
    },
    "papermill": {
     "duration": 0.039676,
     "end_time": "2021-12-08T13:48:17.350997",
     "exception": false,
     "start_time": "2021-12-08T13:48:17.311321",
     "status": "completed"
    },
    "tags": []
   },
   "outputs": [
    {
     "data": {
      "text/plain": [
       "<Array [[[[False, False, ... True, True]]]] type='100 * 100 * 5 * 5 * bool'>"
      ]
     },
     "execution_count": 6,
     "metadata": {},
     "output_type": "execute_result"
    }
   ],
   "source": [
    "match = as_type(\n",
    "    np.cumsum(\n",
    "        draw[:, np.newaxis, np.newaxis, np.newaxis] == board,\n",
    "        axis=0,\n",
    "    ),\n",
    "    np.bool_,\n",
    ")"
   ]
  },
  {
   "cell_type": "markdown",
   "id": "2d34f329-2352-48ac-beae-ab957c7e91d0",
   "metadata": {
    "papermill": {
     "duration": 0.025192,
     "end_time": "2021-12-08T13:48:17.400820",
     "exception": false,
     "start_time": "2021-12-08T13:48:17.375628",
     "status": "completed"
    },
    "tags": []
   },
   "source": [
    "Find unmarked board values"
   ]
  },
  {
   "cell_type": "code",
   "execution_count": 7,
   "id": "4309521b-9dc5-4269-b7e0-bf4764b26ee2",
   "metadata": {
    "execution": {
     "iopub.execute_input": "2021-12-08T13:48:17.462404Z",
     "iopub.status.busy": "2021-12-08T13:48:17.461837Z",
     "iopub.status.idle": "2021-12-08T13:48:17.466180Z",
     "shell.execute_reply": "2021-12-08T13:48:17.465808Z"
    },
    "papermill": {
     "duration": 0.040296,
     "end_time": "2021-12-08T13:48:17.466264",
     "exception": false,
     "start_time": "2021-12-08T13:48:17.425968",
     "status": "completed"
    },
    "tags": []
   },
   "outputs": [
    {
     "data": {
      "text/plain": [
       "<Array [[[[25, 29, 78, 57, 69, ... [], []]]] type='100 * var * var * var * uint64'>"
      ]
     },
     "execution_count": 7,
     "metadata": {},
     "output_type": "execute_result"
    }
   ],
   "source": [
    "match_board, _ = np.broadcast_arrays(board, match)\n",
    "unmarked = match_board[~make_index(match)]"
   ]
  },
  {
   "cell_type": "markdown",
   "id": "035ce4d9-d5b2-433e-ba2b-cfec4d519806",
   "metadata": {
    "papermill": {
     "duration": 0.025532,
     "end_time": "2021-12-08T13:48:17.516904",
     "exception": false,
     "start_time": "2021-12-08T13:48:17.491372",
     "status": "completed"
    },
    "tags": []
   },
   "source": [
    "Sum unmarked values for each draw"
   ]
  },
  {
   "cell_type": "code",
   "execution_count": 8,
   "id": "c1d243e8-faa2-4137-af31-c2833d488a20",
   "metadata": {
    "execution": {
     "iopub.execute_input": "2021-12-08T13:48:17.574782Z",
     "iopub.status.busy": "2021-12-08T13:48:17.574330Z",
     "iopub.status.idle": "2021-12-08T13:48:17.576469Z",
     "shell.execute_reply": "2021-12-08T13:48:17.576795Z"
    },
    "papermill": {
     "duration": 0.033547,
     "end_time": "2021-12-08T13:48:17.576905",
     "exception": false,
     "start_time": "2021-12-08T13:48:17.543358",
     "status": "completed"
    },
    "tags": []
   },
   "outputs": [
    {
     "data": {
      "text/plain": [
       "<Array [[85491, 73332, 55629, ... 0, 0, 0]] type='100 * var * uint64'>"
      ]
     },
     "execution_count": 8,
     "metadata": {},
     "output_type": "execute_result"
    }
   ],
   "source": [
    "score = draw * np.sum(np.sum(unmarked, axis=-1), axis=-1)"
   ]
  },
  {
   "cell_type": "markdown",
   "id": "bba0200a-fd3b-494d-bb78-7d70313fddaa",
   "metadata": {
    "papermill": {
     "duration": 0.026408,
     "end_time": "2021-12-08T13:48:17.629824",
     "exception": false,
     "start_time": "2021-12-08T13:48:17.603416",
     "status": "completed"
    },
    "tags": []
   },
   "source": [
    "Determine which boards have won"
   ]
  },
  {
   "cell_type": "code",
   "execution_count": 9,
   "id": "dd1271c3-67d8-4bea-a859-30b25ae1fa1a",
   "metadata": {
    "execution": {
     "iopub.execute_input": "2021-12-08T13:48:17.692848Z",
     "iopub.status.busy": "2021-12-08T13:48:17.692401Z",
     "iopub.status.idle": "2021-12-08T13:48:17.694878Z",
     "shell.execute_reply": "2021-12-08T13:48:17.694502Z"
    },
    "papermill": {
     "duration": 0.037944,
     "end_time": "2021-12-08T13:48:17.694965",
     "exception": false,
     "start_time": "2021-12-08T13:48:17.657021",
     "status": "completed"
    },
    "tags": []
   },
   "outputs": [
    {
     "data": {
      "text/plain": [
       "<Array [[False, False, False, ... True, True]] type='100 * var * bool'>"
      ]
     },
     "execution_count": 9,
     "metadata": {},
     "output_type": "execute_result"
    }
   ],
   "source": [
    "win_by = np.any(np.all(match, axis=-1), axis=-1) | np.any(\n",
    "    np.all(match, axis=-2), axis=-1\n",
    ")"
   ]
  },
  {
   "cell_type": "markdown",
   "id": "3c970fe1-75a6-4e1d-8edf-8cedd5aa0cde",
   "metadata": {
    "papermill": {
     "duration": 0.027215,
     "end_time": "2021-12-08T13:48:17.749113",
     "exception": false,
     "start_time": "2021-12-08T13:48:17.721898",
     "status": "completed"
    },
    "tags": []
   },
   "source": [
    "Find which boards have won in exactly n moves"
   ]
  },
  {
   "cell_type": "code",
   "execution_count": 10,
   "id": "a97077a2-af9f-47c2-9a07-3b278dacff91",
   "metadata": {
    "execution": {
     "iopub.execute_input": "2021-12-08T13:48:17.809398Z",
     "iopub.status.busy": "2021-12-08T13:48:17.808885Z",
     "iopub.status.idle": "2021-12-08T13:48:17.811898Z",
     "shell.execute_reply": "2021-12-08T13:48:17.811561Z"
    },
    "papermill": {
     "duration": 0.036007,
     "end_time": "2021-12-08T13:48:17.811987",
     "exception": false,
     "start_time": "2021-12-08T13:48:17.775980",
     "status": "completed"
    },
    "tags": []
   },
   "outputs": [
    {
     "data": {
      "text/plain": [
       "<Array [63424, 9720, 9930, ... 7296, 23541] type='100 * uint64'>"
      ]
     },
     "execution_count": 10,
     "metadata": {},
     "output_type": "execute_result"
    }
   ],
   "source": [
    "win_exact = np.concatenate((win_by[:1], win_by[1:] & ~win_by[:-1]))\n",
    "score_win = np.ravel(score[win_exact])"
   ]
  },
  {
   "cell_type": "code",
   "execution_count": 11,
   "id": "984c05b5-0574-48a5-bd14-0ba86d0590c7",
   "metadata": {
    "execution": {
     "iopub.execute_input": "2021-12-08T13:48:17.870755Z",
     "iopub.status.busy": "2021-12-08T13:48:17.870271Z",
     "iopub.status.idle": "2021-12-08T13:48:17.872900Z",
     "shell.execute_reply": "2021-12-08T13:48:17.872584Z"
    },
    "papermill": {
     "duration": 0.033333,
     "end_time": "2021-12-08T13:48:17.872984",
     "exception": false,
     "start_time": "2021-12-08T13:48:17.839651",
     "status": "completed"
    },
    "tags": []
   },
   "outputs": [
    {
     "data": {
      "text/plain": [
       "63424"
      ]
     },
     "execution_count": 11,
     "metadata": {},
     "output_type": "execute_result"
    }
   ],
   "source": [
    "score_win[0]"
   ]
  },
  {
   "cell_type": "code",
   "execution_count": 12,
   "id": "5c40ff5d-7d65-4da1-b901-bf228188485e",
   "metadata": {
    "execution": {
     "iopub.execute_input": "2021-12-08T13:48:17.934317Z",
     "iopub.status.busy": "2021-12-08T13:48:17.933866Z",
     "iopub.status.idle": "2021-12-08T13:48:17.936389Z",
     "shell.execute_reply": "2021-12-08T13:48:17.936058Z"
    },
    "papermill": {
     "duration": 0.03483,
     "end_time": "2021-12-08T13:48:17.936478",
     "exception": false,
     "start_time": "2021-12-08T13:48:17.901648",
     "status": "completed"
    },
    "tags": []
   },
   "outputs": [
    {
     "data": {
      "text/plain": [
       "23541"
      ]
     },
     "execution_count": 12,
     "metadata": {},
     "output_type": "execute_result"
    }
   ],
   "source": [
    "score_win[-1]"
   ]
  }
 ],
 "metadata": {
  "jupytext": {
   "cell_metadata_filter": "-all",
   "executable": "/usr/bin/env python3",
   "main_language": "python",
   "notebook_metadata_filter": "-all"
  },
  "kernelspec": {
   "display_name": "Python 3 (ipykernel)",
   "language": "python",
   "name": "python3"
  },
  "language_info": {
   "codemirror_mode": {
    "name": "ipython",
    "version": 3
   },
   "file_extension": ".py",
   "mimetype": "text/x-python",
   "name": "python",
   "nbconvert_exporter": "python",
   "pygments_lexer": "ipython3",
   "version": "3.9.7"
  },
  "papermill": {
   "default_parameters": {},
   "duration": 2.516317,
   "end_time": "2021-12-08T13:48:18.171305",
   "environment_variables": {},
   "exception": null,
   "input_path": "04-bingo/main.ipynb",
   "output_path": "04-bingo/main.ipynb",
   "parameters": {},
   "start_time": "2021-12-08T13:48:15.654988",
   "version": "2.3.3"
  }
 },
 "nbformat": 4,
 "nbformat_minor": 5
}
