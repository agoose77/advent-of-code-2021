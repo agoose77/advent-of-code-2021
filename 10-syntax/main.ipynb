{
 "cells": [
  {
   "cell_type": "markdown",
   "id": "104aab3f-7060-40a9-be94-2d95ecf93311",
   "metadata": {
    "papermill": {
     "duration": 0.031208,
     "end_time": "2021-12-08T13:48:27.629778",
     "exception": false,
     "start_time": "2021-12-08T13:48:27.598570",
     "status": "completed"
    },
    "tags": []
   },
   "source": [
    "# Day 10: Syntax Scoring\n",
    "The input for this problem is located at https://adventofcode.com/2021/day/10/input"
   ]
  },
  {
   "cell_type": "markdown",
   "id": "f31ef713-05ba-4867-83e1-e6a531069035",
   "metadata": {
    "papermill": {
     "duration": 0.033761,
     "end_time": "2021-12-08T13:48:27.771840",
     "exception": false,
     "start_time": "2021-12-08T13:48:27.738079",
     "status": "completed"
    },
    "tags": []
   },
   "source": [
    "Load the problem"
   ]
  },
  {
   "cell_type": "code",
   "execution_count": 1,
   "id": "8de4c6dd-1444-46d8-9bf1-22f49a35468d",
   "metadata": {},
   "outputs": [],
   "source": [
    "with open(\"input.txt\") as f:\n",
    "    lines = [l.rstrip() for l in f]"
   ]
  },
  {
   "cell_type": "markdown",
   "id": "b96b9d42-ab22-4429-9c68-c0a556787352",
   "metadata": {},
   "source": [
    "## Finding Illegal Characters"
   ]
  },
  {
   "cell_type": "markdown",
   "id": "b85a80d9-107b-4b7f-a4a1-332176627624",
   "metadata": {},
   "source": [
    "Let's identify the illegal character in each line"
   ]
  },
  {
   "cell_type": "code",
   "execution_count": 2,
   "id": "ab258106-f06f-45e0-9f24-0658ce43399a",
   "metadata": {},
   "outputs": [],
   "source": [
    "OPEN_TO_CLOSES = {\"(\": \")\", \"[\": \"]\", \"{\": \"}\", \"<\": \">\"}\n",
    "\n",
    "\n",
    "def find_illegal_char(line):\n",
    "    stack = []\n",
    "    for char in line:\n",
    "        if char in OPEN_TO_CLOSES:\n",
    "            stack.append(OPEN_TO_CLOSES[char])\n",
    "        elif char == stack[-1]:\n",
    "            stack.pop()\n",
    "        else:\n",
    "            return char"
   ]
  },
  {
   "cell_type": "code",
   "execution_count": 3,
   "id": "e7075f02-4631-4d7e-bc09-c3cce093ab4f",
   "metadata": {
    "scrolled": true,
    "tags": []
   },
   "outputs": [],
   "source": [
    "chars_illegal = [find_illegal_char(l) for l in lines]"
   ]
  },
  {
   "cell_type": "markdown",
   "id": "463774ff-a70c-479a-8201-a154c7968244",
   "metadata": {},
   "source": [
    "Now we can compute the scores from these illegal characters"
   ]
  },
  {
   "cell_type": "code",
   "execution_count": 4,
   "id": "20db7814-5bdd-4d24-80c7-d5772f92a10e",
   "metadata": {},
   "outputs": [
    {
     "data": {
      "text/plain": [
       "345441"
      ]
     },
     "execution_count": 4,
     "metadata": {},
     "output_type": "execute_result"
    }
   ],
   "source": [
    "SCORES_ILLEGAL = {\")\": 3, \"]\": 57, \"}\": 1197, \">\": 25137}\n",
    "\n",
    "sum((SCORES_ILLEGAL.get(x, 0) for x in chars_illegal))"
   ]
  },
  {
   "cell_type": "markdown",
   "id": "a633954f-62d5-4331-95ce-b418b9b94df1",
   "metadata": {},
   "source": [
    "## Repairing Incomplete Lines"
   ]
  },
  {
   "cell_type": "markdown",
   "id": "c855de5a-da7b-47c0-ad3c-db3239a37ad2",
   "metadata": {},
   "source": [
    "Lines without any illega characters are just incomplete"
   ]
  },
  {
   "cell_type": "code",
   "execution_count": 5,
   "id": "08f92eaf-6aec-4f81-b677-fdb0f51b854a",
   "metadata": {
    "scrolled": true,
    "tags": []
   },
   "outputs": [],
   "source": [
    "lines_incomplete = [l for l, c in zip(lines, chars_illegal) if c is None]"
   ]
  },
  {
   "cell_type": "markdown",
   "id": "33065ad7-7a1c-4656-ba37-d01155a0e1be",
   "metadata": {},
   "source": [
    "We can complete these lines by keeping track of the expected closing characters"
   ]
  },
  {
   "cell_type": "code",
   "execution_count": 6,
   "id": "0778fea1-7cf9-4315-a6c9-0eeeccf34910",
   "metadata": {},
   "outputs": [],
   "source": [
    "def complete_line(line):\n",
    "    stack = []\n",
    "    for char in line:\n",
    "        if char in OPEN_TO_CLOSES:\n",
    "            stack.append(OPEN_TO_CLOSES[char])\n",
    "        else:\n",
    "            stack.pop()\n",
    "    return stack[::-1]"
   ]
  },
  {
   "cell_type": "code",
   "execution_count": 7,
   "id": "2b2f06c2-9eb6-431f-8310-be27c335f50c",
   "metadata": {
    "scrolled": true,
    "tags": []
   },
   "outputs": [],
   "source": [
    "chars_completed = [complete_line(l) for l in lines_incomplete]"
   ]
  },
  {
   "cell_type": "markdown",
   "id": "cf912aaa-3f3c-499d-8378-0b44c7b7e0b2",
   "metadata": {},
   "source": [
    "The scores for the completer are a little more complex, requiring a function:    "
   ]
  },
  {
   "cell_type": "code",
   "execution_count": 8,
   "id": "550e347a-69bb-4e9e-8f4e-f884ec6df697",
   "metadata": {},
   "outputs": [],
   "source": [
    "SCORES_COMPLETED = {\")\": 1, \"]\": 2, \"}\": 3, \">\": 4}\n",
    "\n",
    "\n",
    "def score_completion(completion):\n",
    "    score = 0\n",
    "    for c in completion:\n",
    "        score *= 5\n",
    "        score += SCORES_COMPLETED[c]\n",
    "    return score"
   ]
  },
  {
   "cell_type": "code",
   "execution_count": 9,
   "id": "0a60d161-f70a-4a69-8985-fc421b059228",
   "metadata": {
    "scrolled": true,
    "tags": []
   },
   "outputs": [],
   "source": [
    "scores_completed = [score_completion(c) for c in chars_completed]"
   ]
  },
  {
   "cell_type": "code",
   "execution_count": 10,
   "id": "d7c08ed3-1869-480b-b212-03fa3e947f51",
   "metadata": {},
   "outputs": [
    {
     "data": {
      "text/plain": [
       "3235371166"
      ]
     },
     "execution_count": 10,
     "metadata": {},
     "output_type": "execute_result"
    }
   ],
   "source": [
    "scores_completed.sort()\n",
    "scores_completed[len(scores_completed) // 2]"
   ]
  }
 ],
 "metadata": {
  "kernelspec": {
   "display_name": "Python 3 (ipykernel)",
   "language": "python",
   "name": "python3"
  },
  "language_info": {
   "codemirror_mode": {
    "name": "ipython",
    "version": 3
   },
   "file_extension": ".py",
   "mimetype": "text/x-python",
   "name": "python",
   "nbconvert_exporter": "python",
   "pygments_lexer": "ipython3",
   "version": "3.9.7"
  },
  "papermill": {
   "default_parameters": {},
   "duration": 3.067522,
   "end_time": "2021-12-08T13:48:29.482469",
   "environment_variables": {},
   "exception": null,
   "input_path": "08-segments/01-multi-pass.ipynb",
   "output_path": "08-segments/01-multi-pass.ipynb",
   "parameters": {},
   "start_time": "2021-12-08T13:48:26.414947",
   "version": "2.3.3"
  }
 },
 "nbformat": 4,
 "nbformat_minor": 5
}
