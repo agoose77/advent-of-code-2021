{
 "cells": [
  {
   "cell_type": "code",
   "execution_count": 1,
   "id": "cdb4b43a-ad06-48d4-9301-f69b592e42c5",
   "metadata": {
    "execution": {
     "iopub.execute_input": "2021-12-08T13:48:12.488129Z",
     "iopub.status.busy": "2021-12-08T13:48:12.487757Z",
     "iopub.status.idle": "2021-12-08T13:48:12.494521Z",
     "shell.execute_reply": "2021-12-08T13:48:12.494075Z"
    },
    "papermill": {
     "duration": 0.029907,
     "end_time": "2021-12-08T13:48:12.494623",
     "exception": false,
     "start_time": "2021-12-08T13:48:12.464716",
     "status": "completed"
    },
    "tags": []
   },
   "outputs": [],
   "source": [
    "%config InteractiveShell.ast_node_interactivity=\"last_expr_or_assign\""
   ]
  },
  {
   "cell_type": "markdown",
   "id": "c5c36a27-576a-4e71-9da6-83238f0b3b54",
   "metadata": {
    "papermill": {
     "duration": 0.027285,
     "end_time": "2021-12-08T13:48:12.550425",
     "exception": false,
     "start_time": "2021-12-08T13:48:12.523140",
     "status": "completed"
    },
    "tags": []
   },
   "source": [
    "# Day 2: Dive, Dive!\n",
    "The input for this problem is located at https://adventofcode.com/2021/day/2/input"
   ]
  },
  {
   "cell_type": "code",
   "execution_count": 2,
   "id": "7dee6b68",
   "metadata": {
    "execution": {
     "iopub.execute_input": "2021-12-08T13:48:12.585949Z",
     "iopub.status.busy": "2021-12-08T13:48:12.585630Z",
     "iopub.status.idle": "2021-12-08T13:48:12.587022Z",
     "shell.execute_reply": "2021-12-08T13:48:12.587259Z"
    },
    "papermill": {
     "duration": 0.0206,
     "end_time": "2021-12-08T13:48:12.587352",
     "exception": false,
     "start_time": "2021-12-08T13:48:12.566752",
     "status": "completed"
    },
    "tags": []
   },
   "outputs": [],
   "source": [
    "import argparse\n",
    "import dataclasses\n",
    "import sys"
   ]
  },
  {
   "cell_type": "code",
   "execution_count": 3,
   "id": "12c8d07a",
   "metadata": {
    "execution": {
     "iopub.execute_input": "2021-12-08T13:48:12.626527Z",
     "iopub.status.busy": "2021-12-08T13:48:12.624686Z",
     "iopub.status.idle": "2021-12-08T13:48:12.628587Z",
     "shell.execute_reply": "2021-12-08T13:48:12.628183Z"
    },
    "papermill": {
     "duration": 0.023876,
     "end_time": "2021-12-08T13:48:12.628670",
     "exception": false,
     "start_time": "2021-12-08T13:48:12.604794",
     "status": "completed"
    },
    "tags": []
   },
   "outputs": [],
   "source": [
    "@dataclasses.dataclass\n",
    "class Command:\n",
    "    instruction: str\n",
    "    operand: int\n",
    "\n",
    "    @classmethod\n",
    "    def from_string(cls, string):\n",
    "        instruction, arg = string.strip().split(\" \")\n",
    "        return cls(instruction=instruction, operand=int(arg))"
   ]
  },
  {
   "cell_type": "code",
   "execution_count": 4,
   "id": "a9b64bcb",
   "metadata": {
    "execution": {
     "iopub.execute_input": "2021-12-08T13:48:12.669335Z",
     "iopub.status.busy": "2021-12-08T13:48:12.668993Z",
     "iopub.status.idle": "2021-12-08T13:48:12.670570Z",
     "shell.execute_reply": "2021-12-08T13:48:12.670291Z"
    },
    "papermill": {
     "duration": 0.02374,
     "end_time": "2021-12-08T13:48:12.670651",
     "exception": false,
     "start_time": "2021-12-08T13:48:12.646911",
     "status": "completed"
    },
    "tags": []
   },
   "outputs": [],
   "source": [
    "@dataclasses.dataclass\n",
    "class StateA:\n",
    "    depth: int\n",
    "    position: int\n",
    "\n",
    "    def evolve(self, **kwargs):\n",
    "        return dataclasses.replace(self, **kwargs)"
   ]
  },
  {
   "cell_type": "code",
   "execution_count": 5,
   "id": "15bff2fc",
   "metadata": {
    "execution": {
     "iopub.execute_input": "2021-12-08T13:48:12.712129Z",
     "iopub.status.busy": "2021-12-08T13:48:12.711731Z",
     "iopub.status.idle": "2021-12-08T13:48:12.713319Z",
     "shell.execute_reply": "2021-12-08T13:48:12.713611Z"
    },
    "papermill": {
     "duration": 0.024425,
     "end_time": "2021-12-08T13:48:12.713709",
     "exception": false,
     "start_time": "2021-12-08T13:48:12.689284",
     "status": "completed"
    },
    "tags": []
   },
   "outputs": [],
   "source": [
    "def process_command_a(command, state):\n",
    "    if command.instruction == \"forward\":\n",
    "        return state.evolve(position=state.position + command.operand)\n",
    "    elif command.instruction == \"down\":\n",
    "        return state.evolve(depth=state.depth + command.operand)\n",
    "    elif command.instruction == \"up\":\n",
    "        return state.evolve(depth=state.depth - command.operand)"
   ]
  },
  {
   "cell_type": "code",
   "execution_count": 6,
   "id": "9134c837",
   "metadata": {
    "execution": {
     "iopub.execute_input": "2021-12-08T13:48:12.755159Z",
     "iopub.status.busy": "2021-12-08T13:48:12.754823Z",
     "iopub.status.idle": "2021-12-08T13:48:12.756454Z",
     "shell.execute_reply": "2021-12-08T13:48:12.756161Z"
    },
    "papermill": {
     "duration": 0.023948,
     "end_time": "2021-12-08T13:48:12.756534",
     "exception": false,
     "start_time": "2021-12-08T13:48:12.732586",
     "status": "completed"
    },
    "tags": []
   },
   "outputs": [],
   "source": [
    "@dataclasses.dataclass\n",
    "class StateB(StateA):\n",
    "    aim: int"
   ]
  },
  {
   "cell_type": "code",
   "execution_count": 7,
   "id": "1d35afec",
   "metadata": {
    "execution": {
     "iopub.execute_input": "2021-12-08T13:48:12.799828Z",
     "iopub.status.busy": "2021-12-08T13:48:12.799480Z",
     "iopub.status.idle": "2021-12-08T13:48:12.801109Z",
     "shell.execute_reply": "2021-12-08T13:48:12.800834Z"
    },
    "papermill": {
     "duration": 0.025907,
     "end_time": "2021-12-08T13:48:12.801192",
     "exception": false,
     "start_time": "2021-12-08T13:48:12.775285",
     "status": "completed"
    },
    "tags": []
   },
   "outputs": [],
   "source": [
    "def process_command_b(command, state):\n",
    "    if command.instruction == \"forward\":\n",
    "        return state.evolve(\n",
    "            depth=state.depth + state.aim * command.operand,\n",
    "            position=state.position + command.operand,\n",
    "        )\n",
    "    elif command.instruction == \"down\":\n",
    "        return state.evolve(aim=state.aim + command.operand)\n",
    "\n",
    "    elif command.instruction == \"up\":\n",
    "        return state.evolve(aim=state.aim - command.operand)"
   ]
  },
  {
   "cell_type": "markdown",
   "id": "1ae871b8-c97e-4b5d-a00a-a4b3f2ca7f9c",
   "metadata": {
    "papermill": {
     "duration": 0.019136,
     "end_time": "2021-12-08T13:48:12.838933",
     "exception": false,
     "start_time": "2021-12-08T13:48:12.819797",
     "status": "completed"
    },
    "tags": []
   },
   "source": [
    "Load the puzzle input"
   ]
  },
  {
   "cell_type": "code",
   "execution_count": 8,
   "id": "cad03dda-d38a-49b6-a00c-1e21364a4afc",
   "metadata": {
    "execution": {
     "iopub.execute_input": "2021-12-08T13:48:12.882683Z",
     "iopub.status.busy": "2021-12-08T13:48:12.882352Z",
     "iopub.status.idle": "2021-12-08T13:48:12.884063Z",
     "shell.execute_reply": "2021-12-08T13:48:12.883790Z"
    },
    "papermill": {
     "duration": 0.026098,
     "end_time": "2021-12-08T13:48:12.884144",
     "exception": false,
     "start_time": "2021-12-08T13:48:12.858046",
     "status": "completed"
    },
    "tags": []
   },
   "outputs": [],
   "source": [
    "with open(\"input.txt\") as f:\n",
    "    commands = [Command.from_string(c) for c in f.readlines()]"
   ]
  },
  {
   "cell_type": "code",
   "execution_count": 9,
   "id": "6ea4c7e9-2f12-4433-94b1-c95de9dbbde3",
   "metadata": {
    "execution": {
     "iopub.execute_input": "2021-12-08T13:48:12.929546Z",
     "iopub.status.busy": "2021-12-08T13:48:12.929190Z",
     "iopub.status.idle": "2021-12-08T13:48:12.930747Z",
     "shell.execute_reply": "2021-12-08T13:48:12.930486Z"
    },
    "papermill": {
     "duration": 0.027792,
     "end_time": "2021-12-08T13:48:12.930826",
     "exception": false,
     "start_time": "2021-12-08T13:48:12.903034",
     "status": "completed"
    },
    "tags": []
   },
   "outputs": [],
   "source": [
    "state_a = StateA(0, 0)\n",
    "state_b = StateB(0, 0, 0)\n",
    "\n",
    "for command in commands:\n",
    "    state_a = process_command_a(command, state_a)\n",
    "    state_b = process_command_b(command, state_b)"
   ]
  },
  {
   "cell_type": "code",
   "execution_count": 10,
   "id": "9faead7f-148c-4556-a5c0-139f69b98ed4",
   "metadata": {
    "execution": {
     "iopub.execute_input": "2021-12-08T13:48:12.975344Z",
     "iopub.status.busy": "2021-12-08T13:48:12.975001Z",
     "iopub.status.idle": "2021-12-08T13:48:12.977453Z",
     "shell.execute_reply": "2021-12-08T13:48:12.976944Z"
    },
    "papermill": {
     "duration": 0.028261,
     "end_time": "2021-12-08T13:48:12.977607",
     "exception": false,
     "start_time": "2021-12-08T13:48:12.949346",
     "status": "completed"
    },
    "tags": []
   },
   "outputs": [
    {
     "data": {
      "text/plain": [
       "1746616"
      ]
     },
     "execution_count": 10,
     "metadata": {},
     "output_type": "execute_result"
    }
   ],
   "source": [
    "state_a.depth * state_a.position"
   ]
  },
  {
   "cell_type": "code",
   "execution_count": 11,
   "id": "1af005f4-8116-4d3e-a261-39866385b6da",
   "metadata": {
    "execution": {
     "iopub.execute_input": "2021-12-08T13:48:13.021525Z",
     "iopub.status.busy": "2021-12-08T13:48:13.021192Z",
     "iopub.status.idle": "2021-12-08T13:48:13.022956Z",
     "shell.execute_reply": "2021-12-08T13:48:13.023212Z"
    },
    "papermill": {
     "duration": 0.025469,
     "end_time": "2021-12-08T13:48:13.023308",
     "exception": false,
     "start_time": "2021-12-08T13:48:12.997839",
     "status": "completed"
    },
    "tags": []
   },
   "outputs": [
    {
     "data": {
      "text/plain": [
       "1741971043"
      ]
     },
     "execution_count": 11,
     "metadata": {},
     "output_type": "execute_result"
    }
   ],
   "source": [
    "state_b.depth * state_b.position"
   ]
  }
 ],
 "metadata": {
  "jupytext": {
   "cell_metadata_filter": "-all",
   "executable": "/usr/bin/env python3",
   "main_language": "python",
   "notebook_metadata_filter": "-all"
  },
  "kernelspec": {
   "display_name": "Python 3 (ipykernel)",
   "language": "python",
   "name": "python3"
  },
  "language_info": {
   "codemirror_mode": {
    "name": "ipython",
    "version": 3
   },
   "file_extension": ".py",
   "mimetype": "text/x-python",
   "name": "python",
   "nbconvert_exporter": "python",
   "pygments_lexer": "ipython3",
   "version": "3.9.7"
  },
  "papermill": {
   "default_parameters": {},
   "duration": 1.568288,
   "end_time": "2021-12-08T13:48:13.149518",
   "environment_variables": {},
   "exception": null,
   "input_path": "02-dive/main.ipynb",
   "output_path": "02-dive/main.ipynb",
   "parameters": {},
   "start_time": "2021-12-08T13:48:11.581230",
   "version": "2.3.3"
  }
 },
 "nbformat": 4,
 "nbformat_minor": 5
}
