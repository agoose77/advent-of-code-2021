{
 "cells": [
  {
   "cell_type": "markdown",
   "id": "104aab3f-7060-40a9-be94-2d95ecf93311",
   "metadata": {
    "papermill": {
     "duration": 0.031208,
     "end_time": "2021-12-08T13:48:27.629778",
     "exception": false,
     "start_time": "2021-12-08T13:48:27.598570",
     "status": "completed"
    },
    "tags": []
   },
   "source": [
    "# Day 15: Chiton\n",
    "The input for this problem is located at https://adventofcode.com/2021/day/15/input"
   ]
  },
  {
   "cell_type": "code",
   "execution_count": 1,
   "id": "ad6c8678-677b-437d-beae-d76423411138",
   "metadata": {
    "lines_to_next_cell": 1,
    "papermill": {
     "duration": 0.035933,
     "end_time": "2021-12-08T13:48:27.700199",
     "exception": false,
     "start_time": "2021-12-08T13:48:27.664266",
     "status": "completed"
    },
    "tags": []
   },
   "outputs": [],
   "source": [
    "import collections\n",
    "import heapq\n",
    "\n",
    "import numpy as np\n",
    "\n",
    "%load_ext numpy_html"
   ]
  },
  {
   "cell_type": "markdown",
   "id": "f31ef713-05ba-4867-83e1-e6a531069035",
   "metadata": {
    "papermill": {
     "duration": 0.033761,
     "end_time": "2021-12-08T13:48:27.771840",
     "exception": false,
     "start_time": "2021-12-08T13:48:27.738079",
     "status": "completed"
    },
    "tags": []
   },
   "source": [
    "Load the problem."
   ]
  },
  {
   "cell_type": "code",
   "execution_count": 2,
   "id": "6f13700f-3d65-461f-9385-e28678bf738d",
   "metadata": {},
   "outputs": [
    {
     "data": {
      "text/html": [
       "<table style='border-style:solid;border-width:1px;'>\n",
       "<tr>\n",
       "<td style=\"font-family:monospace;white-space: pre;\" title=\"(0, 0)\"><center>4</center></td>\n",
       "<td style=\"font-family:monospace;white-space: pre;\" title=\"(0, 1)\"><center>5</center></td>\n",
       "<td style=\"font-family:monospace;white-space: pre;\" title=\"(0, 2)\"><center>5</center></td>\n",
       "<td style=\"font-family:monospace;white-space: pre;\" title=\"element(s) elided\"><center>…</center></td>\n",
       "<td style=\"font-family:monospace;white-space: pre;\" title=\"(0, 97)\"><center>1</center></td>\n",
       "<td style=\"font-family:monospace;white-space: pre;\" title=\"(0, 98)\"><center>7</center></td>\n",
       "<td style=\"font-family:monospace;white-space: pre;\" title=\"(0, 99)\"><center>5</center></td>\n",
       "</tr>\n",
       "<tr>\n",
       "<td style=\"font-family:monospace;white-space: pre;\" title=\"(1, 0)\"><center>8</center></td>\n",
       "<td style=\"font-family:monospace;white-space: pre;\" title=\"(1, 1)\"><center>3</center></td>\n",
       "<td style=\"font-family:monospace;white-space: pre;\" title=\"(1, 2)\"><center>1</center></td>\n",
       "<td style=\"font-family:monospace;white-space: pre;\" title=\"element(s) elided\"><center>…</center></td>\n",
       "<td style=\"font-family:monospace;white-space: pre;\" title=\"(1, 97)\"><center>8</center></td>\n",
       "<td style=\"font-family:monospace;white-space: pre;\" title=\"(1, 98)\"><center>4</center></td>\n",
       "<td style=\"font-family:monospace;white-space: pre;\" title=\"(1, 99)\"><center>3</center></td>\n",
       "</tr>\n",
       "<tr>\n",
       "<td style=\"font-family:monospace;white-space: pre;\" title=\"(2, 0)\"><center>3</center></td>\n",
       "<td style=\"font-family:monospace;white-space: pre;\" title=\"(2, 1)\"><center>1</center></td>\n",
       "<td style=\"font-family:monospace;white-space: pre;\" title=\"(2, 2)\"><center>3</center></td>\n",
       "<td style=\"font-family:monospace;white-space: pre;\" title=\"element(s) elided\"><center>…</center></td>\n",
       "<td style=\"font-family:monospace;white-space: pre;\" title=\"(2, 97)\"><center>3</center></td>\n",
       "<td style=\"font-family:monospace;white-space: pre;\" title=\"(2, 98)\"><center>9</center></td>\n",
       "<td style=\"font-family:monospace;white-space: pre;\" title=\"(2, 99)\"><center>8</center></td>\n",
       "</tr>\n",
       "<tr>\n",
       "<td style=\"font-family:monospace;white-space: pre;\" title=\"element(s) elided\"><center>⋮</center></td>\n",
       "<td style=\"font-family:monospace;white-space: pre;\" title=\"element(s) elided\"><center>⋮</center></td>\n",
       "<td style=\"font-family:monospace;white-space: pre;\" title=\"element(s) elided\"><center>⋮</center></td>\n",
       "<td style=\"font-family:monospace;white-space: pre;\" title=\"element(s) elided\"><center>⋱</center></td>\n",
       "<td style=\"font-family:monospace;white-space: pre;\" title=\"element(s) elided\"><center>⋮</center></td>\n",
       "<td style=\"font-family:monospace;white-space: pre;\" title=\"element(s) elided\"><center>⋮</center></td>\n",
       "<td style=\"font-family:monospace;white-space: pre;\" title=\"element(s) elided\"><center>⋮</center></td>\n",
       "</tr>\n",
       "<tr>\n",
       "<td style=\"font-family:monospace;white-space: pre;\" title=\"(97, 0)\"><center>5</center></td>\n",
       "<td style=\"font-family:monospace;white-space: pre;\" title=\"(97, 1)\"><center>5</center></td>\n",
       "<td style=\"font-family:monospace;white-space: pre;\" title=\"(97, 2)\"><center>2</center></td>\n",
       "<td style=\"font-family:monospace;white-space: pre;\" title=\"element(s) elided\"><center>…</center></td>\n",
       "<td style=\"font-family:monospace;white-space: pre;\" title=\"(97, 97)\"><center>3</center></td>\n",
       "<td style=\"font-family:monospace;white-space: pre;\" title=\"(97, 98)\"><center>6</center></td>\n",
       "<td style=\"font-family:monospace;white-space: pre;\" title=\"(97, 99)\"><center>9</center></td>\n",
       "</tr>\n",
       "<tr>\n",
       "<td style=\"font-family:monospace;white-space: pre;\" title=\"(98, 0)\"><center>3</center></td>\n",
       "<td style=\"font-family:monospace;white-space: pre;\" title=\"(98, 1)\"><center>7</center></td>\n",
       "<td style=\"font-family:monospace;white-space: pre;\" title=\"(98, 2)\"><center>4</center></td>\n",
       "<td style=\"font-family:monospace;white-space: pre;\" title=\"element(s) elided\"><center>…</center></td>\n",
       "<td style=\"font-family:monospace;white-space: pre;\" title=\"(98, 97)\"><center>1</center></td>\n",
       "<td style=\"font-family:monospace;white-space: pre;\" title=\"(98, 98)\"><center>1</center></td>\n",
       "<td style=\"font-family:monospace;white-space: pre;\" title=\"(98, 99)\"><center>5</center></td>\n",
       "</tr>\n",
       "<tr>\n",
       "<td style=\"font-family:monospace;white-space: pre;\" title=\"(99, 0)\"><center>2</center></td>\n",
       "<td style=\"font-family:monospace;white-space: pre;\" title=\"(99, 1)\"><center>7</center></td>\n",
       "<td style=\"font-family:monospace;white-space: pre;\" title=\"(99, 2)\"><center>1</center></td>\n",
       "<td style=\"font-family:monospace;white-space: pre;\" title=\"element(s) elided\"><center>…</center></td>\n",
       "<td style=\"font-family:monospace;white-space: pre;\" title=\"(99, 97)\"><center>1</center></td>\n",
       "<td style=\"font-family:monospace;white-space: pre;\" title=\"(99, 98)\"><center>7</center></td>\n",
       "<td style=\"font-family:monospace;white-space: pre;\" title=\"(99, 99)\"><center>2</center></td>\n",
       "</tr>\n",
       "</table>"
      ],
      "text/plain": [
       "array([[4, 5, 5, ..., 1, 7, 5],\n",
       "       [8, 3, 1, ..., 8, 4, 3],\n",
       "       [3, 1, 3, ..., 3, 9, 8],\n",
       "       ...,\n",
       "       [5, 5, 2, ..., 3, 6, 9],\n",
       "       [3, 7, 4, ..., 1, 1, 5],\n",
       "       [2, 7, 1, ..., 1, 7, 2]], dtype=uint8)"
      ]
     },
     "execution_count": 2,
     "metadata": {},
     "output_type": "execute_result"
    }
   ],
   "source": [
    "grid = np.genfromtxt(\"input.txt\", delimiter=1, dtype=np.uint8)\n",
    "grid"
   ]
  },
  {
   "cell_type": "code",
   "execution_count": 3,
   "id": "853b3a1e-f45f-45fc-943f-aa4fb2552094",
   "metadata": {},
   "outputs": [],
   "source": [
    "GRID_NEIGHBOURS = np.array([(-1, 0), (0, 1), (1, 0), (0, -1)])\n",
    "\n",
    "\n",
    "def get_neighbours(grid, node):\n",
    "    i, j = node\n",
    "    for (u, v) in GRID_NEIGHBOURS + [i, j]:\n",
    "        if not (0 <= u < grid.shape[0] and 0 <= v < grid.shape[1]):\n",
    "            continue\n",
    "        yield u, v"
   ]
  },
  {
   "cell_type": "code",
   "execution_count": 4,
   "id": "d9b353bb-e373-47ba-84bc-8748948290af",
   "metadata": {},
   "outputs": [],
   "source": [
    "def reconstruct_path(relation, node):\n",
    "    path = [node]\n",
    "    while node := relation.get(node):\n",
    "        path.append(node)\n",
    "    return path[::-1]"
   ]
  },
  {
   "cell_type": "code",
   "execution_count": 5,
   "id": "996f27a1-274b-4578-a7eb-c43825016af0",
   "metadata": {},
   "outputs": [],
   "source": [
    "def find_path(grid, start, end):\n",
    "    cost = collections.defaultdict(lambda: np.inf)\n",
    "    cost[start] = 0\n",
    "\n",
    "    open_ = []\n",
    "    heapq.heappush(open_, (cost[start], start))\n",
    "\n",
    "    visited = set()\n",
    "    path = {}\n",
    "\n",
    "    while open:\n",
    "        c, node = heapq.heappop(open_)\n",
    "\n",
    "        if node in visited:\n",
    "            continue\n",
    "        visited.add(node)\n",
    "\n",
    "        if node == end:\n",
    "            return c, reconstruct_path(path, node)\n",
    "\n",
    "        for neighbour in get_neighbours(grid, node):\n",
    "            tentative_cost = c + grid[neighbour]\n",
    "            if tentative_cost >= cost[neighbour]:\n",
    "                continue\n",
    "\n",
    "            path[neighbour] = node\n",
    "            cost[neighbour] = tentative_cost\n",
    "\n",
    "            heapq.heappush(open_, (cost[neighbour], neighbour))"
   ]
  },
  {
   "cell_type": "markdown",
   "id": "ec007254-f93d-41ff-bc3c-45c404685f02",
   "metadata": {},
   "source": [
    "## Part 1"
   ]
  },
  {
   "cell_type": "code",
   "execution_count": 6,
   "id": "f37d36c4-e7ef-493a-aec1-cc46bb927e5a",
   "metadata": {},
   "outputs": [
    {
     "data": {
      "text/plain": [
       "403"
      ]
     },
     "execution_count": 6,
     "metadata": {},
     "output_type": "execute_result"
    }
   ],
   "source": [
    "cost, path = find_path(grid, (0, 0), (grid.shape[0] - 1, grid.shape[1] - 1))\n",
    "cost"
   ]
  },
  {
   "cell_type": "markdown",
   "id": "79f31e8b-d05c-4399-a6b0-9f09717309f2",
   "metadata": {},
   "source": [
    "## Part 2"
   ]
  },
  {
   "cell_type": "code",
   "execution_count": 7,
   "id": "0253cc5e-ceba-4aa7-ac3a-7bbd9dbe65f2",
   "metadata": {},
   "outputs": [
    {
     "data": {
      "text/html": [
       "<table style='border-style:solid;border-width:1px;'>\n",
       "<tr>\n",
       "<td style=\"font-family:monospace;white-space: pre;\" title=\"(0, 0)\"><center>0</center></td>\n",
       "<td style=\"font-family:monospace;white-space: pre;\" title=\"(0, 1)\"><center>1</center></td>\n",
       "<td style=\"font-family:monospace;white-space: pre;\" title=\"(0, 2)\"><center>2</center></td>\n",
       "<td style=\"font-family:monospace;white-space: pre;\" title=\"(0, 3)\"><center>3</center></td>\n",
       "<td style=\"font-family:monospace;white-space: pre;\" title=\"(0, 4)\"><center>4</center></td>\n",
       "</tr>\n",
       "<tr>\n",
       "<td style=\"font-family:monospace;white-space: pre;\" title=\"(1, 0)\"><center>1</center></td>\n",
       "<td style=\"font-family:monospace;white-space: pre;\" title=\"(1, 1)\"><center>2</center></td>\n",
       "<td style=\"font-family:monospace;white-space: pre;\" title=\"(1, 2)\"><center>3</center></td>\n",
       "<td style=\"font-family:monospace;white-space: pre;\" title=\"(1, 3)\"><center>4</center></td>\n",
       "<td style=\"font-family:monospace;white-space: pre;\" title=\"(1, 4)\"><center>5</center></td>\n",
       "</tr>\n",
       "<tr>\n",
       "<td style=\"font-family:monospace;white-space: pre;\" title=\"(2, 0)\"><center>2</center></td>\n",
       "<td style=\"font-family:monospace;white-space: pre;\" title=\"(2, 1)\"><center>3</center></td>\n",
       "<td style=\"font-family:monospace;white-space: pre;\" title=\"(2, 2)\"><center>4</center></td>\n",
       "<td style=\"font-family:monospace;white-space: pre;\" title=\"(2, 3)\"><center>5</center></td>\n",
       "<td style=\"font-family:monospace;white-space: pre;\" title=\"(2, 4)\"><center>6</center></td>\n",
       "</tr>\n",
       "<tr>\n",
       "<td style=\"font-family:monospace;white-space: pre;\" title=\"(3, 0)\"><center>3</center></td>\n",
       "<td style=\"font-family:monospace;white-space: pre;\" title=\"(3, 1)\"><center>4</center></td>\n",
       "<td style=\"font-family:monospace;white-space: pre;\" title=\"(3, 2)\"><center>5</center></td>\n",
       "<td style=\"font-family:monospace;white-space: pre;\" title=\"(3, 3)\"><center>6</center></td>\n",
       "<td style=\"font-family:monospace;white-space: pre;\" title=\"(3, 4)\"><center>7</center></td>\n",
       "</tr>\n",
       "<tr>\n",
       "<td style=\"font-family:monospace;white-space: pre;\" title=\"(4, 0)\"><center>4</center></td>\n",
       "<td style=\"font-family:monospace;white-space: pre;\" title=\"(4, 1)\"><center>5</center></td>\n",
       "<td style=\"font-family:monospace;white-space: pre;\" title=\"(4, 2)\"><center>6</center></td>\n",
       "<td style=\"font-family:monospace;white-space: pre;\" title=\"(4, 3)\"><center>7</center></td>\n",
       "<td style=\"font-family:monospace;white-space: pre;\" title=\"(4, 4)\"><center>8</center></td>\n",
       "</tr>\n",
       "</table>"
      ],
      "text/plain": [
       "array([[0, 1, 2, 3, 4],\n",
       "       [1, 2, 3, 4, 5],\n",
       "       [2, 3, 4, 5, 6],\n",
       "       [3, 4, 5, 6, 7],\n",
       "       [4, 5, 6, 7, 8]])"
      ]
     },
     "execution_count": 7,
     "metadata": {},
     "output_type": "execute_result"
    }
   ],
   "source": [
    "tile_risk = np.indices((5, 5)).sum(axis=0)\n",
    "tile_risk"
   ]
  },
  {
   "cell_type": "code",
   "execution_count": 8,
   "id": "c7dd23a2-5bd4-4174-a94d-d19275789add",
   "metadata": {},
   "outputs": [],
   "source": [
    "tile_grid = (\n",
    "    grid[np.newaxis, :, np.newaxis] + tile_risk[:, np.newaxis, :, np.newaxis] - 1\n",
    ") % 9 + 1"
   ]
  },
  {
   "cell_type": "code",
   "execution_count": 9,
   "id": "3fdfa4b8-c9f7-4da8-8ed2-63f3c5b7c1a1",
   "metadata": {},
   "outputs": [],
   "source": [
    "large_grid_shape = grid.shape[0] * 5, grid.shape[1] * 5\n",
    "large_grid = tile_grid.reshape(large_grid_shape)"
   ]
  },
  {
   "cell_type": "code",
   "execution_count": null,
   "id": "dd9a588a-34a9-4978-a5fc-777e47b814a8",
   "metadata": {},
   "outputs": [],
   "source": [
    "cost, path = find_path(\n",
    "    large_grid, (0, 0), (large_grid_shape[0] - 1, large_grid_shape[1] - 1)\n",
    ")"
   ]
  },
  {
   "cell_type": "code",
   "execution_count": null,
   "id": "0b1ec593-a3d8-4ed0-bf1c-c3550e609618",
   "metadata": {},
   "outputs": [],
   "source": [
    "cost"
   ]
  }
 ],
 "metadata": {
  "kernelspec": {
   "display_name": "Python 3 (ipykernel)",
   "language": "python",
   "name": "python3"
  },
  "language_info": {
   "codemirror_mode": {
    "name": "ipython",
    "version": 3
   },
   "file_extension": ".py",
   "mimetype": "text/x-python",
   "name": "python",
   "nbconvert_exporter": "python",
   "pygments_lexer": "ipython3",
   "version": "3.9.7"
  },
  "papermill": {
   "default_parameters": {},
   "duration": 3.067522,
   "end_time": "2021-12-08T13:48:29.482469",
   "environment_variables": {},
   "exception": null,
   "input_path": "08-segments/01-multi-pass.ipynb",
   "output_path": "08-segments/01-multi-pass.ipynb",
   "parameters": {},
   "start_time": "2021-12-08T13:48:26.414947",
   "version": "2.3.3"
  }
 },
 "nbformat": 4,
 "nbformat_minor": 5
}
