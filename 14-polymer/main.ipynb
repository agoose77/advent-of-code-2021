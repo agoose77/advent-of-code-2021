{
 "cells": [
  {
   "cell_type": "markdown",
   "id": "104aab3f-7060-40a9-be94-2d95ecf93311",
   "metadata": {
    "papermill": {
     "duration": 0.031208,
     "end_time": "2021-12-08T13:48:27.629778",
     "exception": false,
     "start_time": "2021-12-08T13:48:27.598570",
     "status": "completed"
    },
    "tags": []
   },
   "source": [
    "# Day 14: Origami\n",
    "The input for this problem is located at https://adventofcode.com/2021/day/14/input"
   ]
  },
  {
   "cell_type": "code",
   "execution_count": 1,
   "id": "ad6c8678-677b-437d-beae-d76423411138",
   "metadata": {
    "lines_to_next_cell": 1,
    "papermill": {
     "duration": 0.035933,
     "end_time": "2021-12-08T13:48:27.700199",
     "exception": false,
     "start_time": "2021-12-08T13:48:27.664266",
     "status": "completed"
    },
    "tags": []
   },
   "outputs": [],
   "source": [
    "import collections\n",
    "import itertools\n",
    "import re"
   ]
  },
  {
   "cell_type": "markdown",
   "id": "f31ef713-05ba-4867-83e1-e6a531069035",
   "metadata": {
    "papermill": {
     "duration": 0.033761,
     "end_time": "2021-12-08T13:48:27.771840",
     "exception": false,
     "start_time": "2021-12-08T13:48:27.738079",
     "status": "completed"
    },
    "tags": []
   },
   "source": [
    "Load the problem."
   ]
  },
  {
   "cell_type": "code",
   "execution_count": 2,
   "id": "15087aa7-b4d4-4c5a-b9ae-b79330a32546",
   "metadata": {},
   "outputs": [],
   "source": [
    "with open(\"input.txt\") as f:\n",
    "    template = list(f.readline().strip())\n",
    "    rules = re.findall(r\"(\\w)(\\w) -> (\\w)\", f.read())"
   ]
  },
  {
   "cell_type": "markdown",
   "id": "3623b4d2-a111-4e97-8cd5-406aafc166bf",
   "metadata": {},
   "source": [
    "Let's determine the initial character frequency. We want to copy our counters between iterations (for immutability reasons), so rolling our own with `defaultdict` is best here."
   ]
  },
  {
   "cell_type": "code",
   "execution_count": 3,
   "id": "6a096fe0-32b6-4af3-b2e8-0d9127734561",
   "metadata": {},
   "outputs": [],
   "source": [
    "def counter(items):\n",
    "    count = collections.defaultdict(int)\n",
    "    for item in items:\n",
    "        count[item] += 1\n",
    "    return count"
   ]
  },
  {
   "cell_type": "code",
   "execution_count": 4,
   "id": "731de87c-1bf7-435d-9845-eef211338b9a",
   "metadata": {},
   "outputs": [],
   "source": [
    "counts = counter(template)"
   ]
  },
  {
   "cell_type": "markdown",
   "id": "18365feb-076e-460c-b517-88c39ea2c78b",
   "metadata": {},
   "source": [
    "Now we want to contruct a counter for the adjacent pairs in the template. We'll need a `pairwise` function, like in `collections` for `python >= 3.10`:"
   ]
  },
  {
   "cell_type": "code",
   "execution_count": 5,
   "id": "7bc3be48-b45d-4d57-b67a-4354519f2ed0",
   "metadata": {},
   "outputs": [],
   "source": [
    "def pairwise(iterable):\n",
    "    this, that = itertools.tee(iterable)\n",
    "    next(that)\n",
    "    return zip(this, that)"
   ]
  },
  {
   "cell_type": "code",
   "execution_count": 6,
   "id": "c7860c41-904a-4cb0-9bab-c468b3caf8bc",
   "metadata": {},
   "outputs": [],
   "source": [
    "pairs = counter(pairwise(template))"
   ]
  },
  {
   "cell_type": "markdown",
   "id": "1c1e54f4-ff58-4586-8589-e859b36621e1",
   "metadata": {},
   "source": [
    "To expand the matches, we simply replace the matching pair with our two new pairs `(x [value) y]`:"
   ]
  },
  {
   "cell_type": "code",
   "execution_count": 7,
   "id": "d688e3b1-dff0-4e73-a181-dd75645af0bd",
   "metadata": {},
   "outputs": [],
   "source": [
    "def expand(pairs, counts):\n",
    "    next_pairs = pairs.copy()\n",
    "    next_counts = counts.copy()\n",
    "\n",
    "    for left, right, value in rules:\n",
    "        pair = (left, right)\n",
    "        # How many of these pairs do we currently have\n",
    "        n_pair = pairs[pair]\n",
    "\n",
    "        if not n_pair:\n",
    "            continue\n",
    "\n",
    "        # Remove old pair\n",
    "        next_pairs[pair] -= n_pair\n",
    "\n",
    "        # Add new pairs from insertion\n",
    "        next_pairs[left, value] += n_pair\n",
    "        next_pairs[value, right] += n_pair\n",
    "\n",
    "        # Track added characters\n",
    "        next_counts[value] += n_pair\n",
    "\n",
    "    return next_pairs, next_counts"
   ]
  },
  {
   "cell_type": "markdown",
   "id": "b51daa9c-49ba-4884-9335-0bd2379de65f",
   "metadata": {},
   "source": [
    "Expand 10 times"
   ]
  },
  {
   "cell_type": "code",
   "execution_count": 8,
   "id": "2c3b73b8-5481-4d99-9385-6876f3fbf099",
   "metadata": {},
   "outputs": [],
   "source": [
    "arg = pairs, counts\n",
    "\n",
    "for i in range(10):\n",
    "    arg = expand(*arg)"
   ]
  },
  {
   "cell_type": "code",
   "execution_count": 9,
   "id": "e70d98a1-622a-43e8-b5b0-2b31abafb54d",
   "metadata": {},
   "outputs": [
    {
     "data": {
      "text/plain": [
       "2703"
      ]
     },
     "execution_count": 9,
     "metadata": {},
     "output_type": "execute_result"
    }
   ],
   "source": [
    "scores = sorted(arg[1].values())\n",
    "scores[-1] - scores[0]"
   ]
  },
  {
   "cell_type": "markdown",
   "id": "561d01e2-8880-48b5-8a63-67576f4bdeac",
   "metadata": {},
   "source": [
    "Expand 40 times"
   ]
  },
  {
   "cell_type": "code",
   "execution_count": 10,
   "id": "7a27d738-c6d2-4adc-85fe-2d1147affd56",
   "metadata": {},
   "outputs": [],
   "source": [
    "for i in range(40 - 10):\n",
    "    arg = expand(*arg)"
   ]
  },
  {
   "cell_type": "code",
   "execution_count": 11,
   "id": "f56faf21-dfde-440e-b880-c75b4f97e0fd",
   "metadata": {},
   "outputs": [
    {
     "data": {
      "text/plain": [
       "2984946368465"
      ]
     },
     "execution_count": 11,
     "metadata": {},
     "output_type": "execute_result"
    }
   ],
   "source": [
    "scores = sorted(arg[1].values())\n",
    "scores[-1] - scores[0]"
   ]
  }
 ],
 "metadata": {
  "kernelspec": {
   "display_name": "Python 3 (ipykernel)",
   "language": "python",
   "name": "python3"
  },
  "language_info": {
   "codemirror_mode": {
    "name": "ipython",
    "version": 3
   },
   "file_extension": ".py",
   "mimetype": "text/x-python",
   "name": "python",
   "nbconvert_exporter": "python",
   "pygments_lexer": "ipython3",
   "version": "3.9.7"
  },
  "papermill": {
   "default_parameters": {},
   "duration": 3.067522,
   "end_time": "2021-12-08T13:48:29.482469",
   "environment_variables": {},
   "exception": null,
   "input_path": "08-segments/01-multi-pass.ipynb",
   "output_path": "08-segments/01-multi-pass.ipynb",
   "parameters": {},
   "start_time": "2021-12-08T13:48:26.414947",
   "version": "2.3.3"
  }
 },
 "nbformat": 4,
 "nbformat_minor": 5
}
