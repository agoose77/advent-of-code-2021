{
 "cells": [
  {
   "cell_type": "code",
   "execution_count": 1,
   "id": "40dde47f-49dc-4438-9e92-dc8e73f50005",
   "metadata": {
    "execution": {
     "iopub.execute_input": "2021-12-08T13:48:19.730749Z",
     "iopub.status.busy": "2021-12-08T13:48:19.730250Z",
     "iopub.status.idle": "2021-12-08T13:48:19.738226Z",
     "shell.execute_reply": "2021-12-08T13:48:19.737843Z"
    },
    "papermill": {
     "duration": 0.058814,
     "end_time": "2021-12-08T13:48:19.738315",
     "exception": false,
     "start_time": "2021-12-08T13:48:19.679501",
     "status": "completed"
    },
    "tags": []
   },
   "outputs": [],
   "source": [
    "%config InteractiveShell.ast_node_interactivity=\"last_expr_or_assign\""
   ]
  },
  {
   "cell_type": "markdown",
   "id": "8bfbba42-574b-454c-ad7b-8bf66f1c6b7d",
   "metadata": {
    "papermill": {
     "duration": 0.029281,
     "end_time": "2021-12-08T13:48:19.784901",
     "exception": false,
     "start_time": "2021-12-08T13:48:19.755620",
     "status": "completed"
    },
    "tags": []
   },
   "source": [
    "# Day 5: Among Us\n",
    "The input for this problem is located at https://adventofcode.com/2021/day/5/input"
   ]
  },
  {
   "cell_type": "code",
   "execution_count": 2,
   "id": "413b531a-86b2-4d79-9918-4184c46c48d9",
   "metadata": {
    "execution": {
     "iopub.execute_input": "2021-12-08T13:48:19.841380Z",
     "iopub.status.busy": "2021-12-08T13:48:19.840777Z",
     "iopub.status.idle": "2021-12-08T13:48:19.843025Z",
     "shell.execute_reply": "2021-12-08T13:48:19.843857Z"
    },
    "papermill": {
     "duration": 0.031172,
     "end_time": "2021-12-08T13:48:19.844132",
     "exception": false,
     "start_time": "2021-12-08T13:48:19.812960",
     "status": "completed"
    },
    "tags": []
   },
   "outputs": [],
   "source": [
    "import collections\n",
    "import typing"
   ]
  },
  {
   "cell_type": "code",
   "execution_count": 3,
   "id": "904ba2e6",
   "metadata": {
    "execution": {
     "iopub.execute_input": "2021-12-08T13:48:19.890953Z",
     "iopub.status.busy": "2021-12-08T13:48:19.890525Z",
     "iopub.status.idle": "2021-12-08T13:48:19.892475Z",
     "shell.execute_reply": "2021-12-08T13:48:19.892940Z"
    },
    "papermill": {
     "duration": 0.027371,
     "end_time": "2021-12-08T13:48:19.893165",
     "exception": false,
     "start_time": "2021-12-08T13:48:19.865794",
     "status": "completed"
    },
    "tags": []
   },
   "outputs": [],
   "source": [
    "def sign(x, y):\n",
    "    if y > x:\n",
    "        return 1\n",
    "    if y == x:\n",
    "        return 0\n",
    "    return -1"
   ]
  },
  {
   "cell_type": "code",
   "execution_count": 4,
   "id": "4545b828",
   "metadata": {
    "execution": {
     "iopub.execute_input": "2021-12-08T13:48:19.937212Z",
     "iopub.status.busy": "2021-12-08T13:48:19.936799Z",
     "iopub.status.idle": "2021-12-08T13:48:19.938527Z",
     "shell.execute_reply": "2021-12-08T13:48:19.938823Z"
    },
    "papermill": {
     "duration": 0.026043,
     "end_time": "2021-12-08T13:48:19.938935",
     "exception": false,
     "start_time": "2021-12-08T13:48:19.912892",
     "status": "completed"
    },
    "tags": []
   },
   "outputs": [],
   "source": [
    "class Coord(typing.NamedTuple):\n",
    "    x: int\n",
    "    y: int\n",
    "\n",
    "    def interval(self, other):\n",
    "        sx = sign(self.x, other.x)\n",
    "        sy = sign(self.y, other.y)\n",
    "\n",
    "        p = self\n",
    "\n",
    "        points = [p]\n",
    "\n",
    "        while p != other:\n",
    "            p = Coord(p.x + sx, p.y + sy)\n",
    "            points.append(p)\n",
    "\n",
    "        return points"
   ]
  },
  {
   "cell_type": "code",
   "execution_count": 5,
   "id": "c96f8f2f",
   "metadata": {
    "execution": {
     "iopub.execute_input": "2021-12-08T13:48:19.989204Z",
     "iopub.status.busy": "2021-12-08T13:48:19.988763Z",
     "iopub.status.idle": "2021-12-08T13:48:19.991255Z",
     "shell.execute_reply": "2021-12-08T13:48:19.990758Z"
    },
    "papermill": {
     "duration": 0.033329,
     "end_time": "2021-12-08T13:48:19.991360",
     "exception": false,
     "start_time": "2021-12-08T13:48:19.958031",
     "status": "completed"
    },
    "tags": []
   },
   "outputs": [],
   "source": [
    "def parse_coord(string):\n",
    "    x, y = string.split(\",\")\n",
    "    return Coord(int(x), int(y))"
   ]
  },
  {
   "cell_type": "code",
   "execution_count": 6,
   "id": "5703aa4b",
   "metadata": {
    "execution": {
     "iopub.execute_input": "2021-12-08T13:48:20.035897Z",
     "iopub.status.busy": "2021-12-08T13:48:20.035499Z",
     "iopub.status.idle": "2021-12-08T13:48:20.037488Z",
     "shell.execute_reply": "2021-12-08T13:48:20.037161Z"
    },
    "papermill": {
     "duration": 0.027179,
     "end_time": "2021-12-08T13:48:20.037587",
     "exception": false,
     "start_time": "2021-12-08T13:48:20.010408",
     "status": "completed"
    },
    "tags": []
   },
   "outputs": [],
   "source": [
    "def parse_line(row):\n",
    "    return [parse_coord(x) for x in row.split(\"->\")]"
   ]
  },
  {
   "cell_type": "code",
   "execution_count": 7,
   "id": "375be905-f661-4ce0-8a03-bd9e3dec7ffc",
   "metadata": {
    "execution": {
     "iopub.execute_input": "2021-12-08T13:48:20.102768Z",
     "iopub.status.busy": "2021-12-08T13:48:20.086699Z",
     "iopub.status.idle": "2021-12-08T13:48:20.318508Z",
     "shell.execute_reply": "2021-12-08T13:48:20.318860Z"
    },
    "papermill": {
     "duration": 0.255685,
     "end_time": "2021-12-08T13:48:20.318987",
     "exception": false,
     "start_time": "2021-12-08T13:48:20.063302",
     "status": "completed"
    },
    "tags": []
   },
   "outputs": [],
   "source": [
    "occupancy_2 = collections.Counter()\n",
    "occupancy_4 = collections.Counter()\n",
    "\n",
    "with open(\"input.txt\") as f:\n",
    "    for row in f:\n",
    "        src, dst = parse_line(row)\n",
    "        points = src.interval(dst)\n",
    "\n",
    "        if src.x == dst.x or src.y == dst.y:\n",
    "            occupancy_2.update(points)\n",
    "\n",
    "        occupancy_4.update(points)"
   ]
  },
  {
   "cell_type": "code",
   "execution_count": 8,
   "id": "12cfc097-3d08-4c28-a45e-d15899858874",
   "metadata": {
    "execution": {
     "iopub.execute_input": "2021-12-08T13:48:20.359463Z",
     "iopub.status.busy": "2021-12-08T13:48:20.358886Z",
     "iopub.status.idle": "2021-12-08T13:48:20.360646Z",
     "shell.execute_reply": "2021-12-08T13:48:20.361097Z"
    },
    "papermill": {
     "duration": 0.023604,
     "end_time": "2021-12-08T13:48:20.361243",
     "exception": false,
     "start_time": "2021-12-08T13:48:20.337639",
     "status": "completed"
    },
    "tags": []
   },
   "outputs": [],
   "source": [
    "def count_overlaps(occupancy):\n",
    "    n = 0\n",
    "    for k, v in occupancy.items():\n",
    "        if v > 1:\n",
    "            n += 1\n",
    "    return n"
   ]
  },
  {
   "cell_type": "code",
   "execution_count": 9,
   "id": "d9a015f9-04fa-4b07-839f-378088f90eb0",
   "metadata": {
    "execution": {
     "iopub.execute_input": "2021-12-08T13:48:20.410133Z",
     "iopub.status.busy": "2021-12-08T13:48:20.409595Z",
     "iopub.status.idle": "2021-12-08T13:48:20.417134Z",
     "shell.execute_reply": "2021-12-08T13:48:20.417424Z"
    },
    "papermill": {
     "duration": 0.03586,
     "end_time": "2021-12-08T13:48:20.417527",
     "exception": false,
     "start_time": "2021-12-08T13:48:20.381667",
     "status": "completed"
    },
    "tags": []
   },
   "outputs": [
    {
     "data": {
      "text/plain": [
       "4873"
      ]
     },
     "execution_count": 9,
     "metadata": {},
     "output_type": "execute_result"
    }
   ],
   "source": [
    "count_overlaps(occupancy_2)"
   ]
  },
  {
   "cell_type": "code",
   "execution_count": 10,
   "id": "74ed8ba2-9cc6-420e-af79-46bc4a69c630",
   "metadata": {
    "execution": {
     "iopub.execute_input": "2021-12-08T13:48:20.462293Z",
     "iopub.status.busy": "2021-12-08T13:48:20.453528Z",
     "iopub.status.idle": "2021-12-08T13:48:20.464558Z",
     "shell.execute_reply": "2021-12-08T13:48:20.464141Z"
    },
    "papermill": {
     "duration": 0.030735,
     "end_time": "2021-12-08T13:48:20.464654",
     "exception": false,
     "start_time": "2021-12-08T13:48:20.433919",
     "status": "completed"
    },
    "tags": []
   },
   "outputs": [
    {
     "data": {
      "text/plain": [
       "19472"
      ]
     },
     "execution_count": 10,
     "metadata": {},
     "output_type": "execute_result"
    }
   ],
   "source": [
    "count_overlaps(occupancy_4)"
   ]
  }
 ],
 "metadata": {
  "jupytext": {
   "cell_metadata_filter": "-all",
   "executable": "/usr/bin/env python3",
   "main_language": "python",
   "notebook_metadata_filter": "-all"
  },
  "kernelspec": {
   "display_name": "Python 3 (ipykernel)",
   "language": "python",
   "name": "python3"
  },
  "language_info": {
   "codemirror_mode": {
    "name": "ipython",
    "version": 3
   },
   "file_extension": ".py",
   "mimetype": "text/x-python",
   "name": "python",
   "nbconvert_exporter": "python",
   "pygments_lexer": "ipython3",
   "version": "3.9.7"
  },
  "papermill": {
   "default_parameters": {},
   "duration": 2.114822,
   "end_time": "2021-12-08T13:48:20.690058",
   "environment_variables": {},
   "exception": null,
   "input_path": "05-vents/main.ipynb",
   "output_path": "05-vents/main.ipynb",
   "parameters": {},
   "start_time": "2021-12-08T13:48:18.575236",
   "version": "2.3.3"
  }
 },
 "nbformat": 4,
 "nbformat_minor": 5
}
