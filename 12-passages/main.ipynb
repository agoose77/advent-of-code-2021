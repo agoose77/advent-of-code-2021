{
 "cells": [
  {
   "cell_type": "markdown",
   "id": "104aab3f-7060-40a9-be94-2d95ecf93311",
   "metadata": {
    "papermill": {
     "duration": 0.031208,
     "end_time": "2021-12-08T13:48:27.629778",
     "exception": false,
     "start_time": "2021-12-08T13:48:27.598570",
     "status": "completed"
    },
    "tags": []
   },
   "source": [
    "# Day 12: Passages\n",
    "The input for this problem is located at https://adventofcode.com/2021/day/12/input"
   ]
  },
  {
   "cell_type": "code",
   "execution_count": 1,
   "id": "ad6c8678-677b-437d-beae-d76423411138",
   "metadata": {
    "lines_to_next_cell": 1,
    "papermill": {
     "duration": 0.035933,
     "end_time": "2021-12-08T13:48:27.700199",
     "exception": false,
     "start_time": "2021-12-08T13:48:27.664266",
     "status": "completed"
    },
    "tags": []
   },
   "outputs": [],
   "source": [
    "from collections import defaultdict"
   ]
  },
  {
   "cell_type": "markdown",
   "id": "f31ef713-05ba-4867-83e1-e6a531069035",
   "metadata": {
    "papermill": {
     "duration": 0.033761,
     "end_time": "2021-12-08T13:48:27.771840",
     "exception": false,
     "start_time": "2021-12-08T13:48:27.738079",
     "status": "completed"
    },
    "tags": []
   },
   "source": [
    "Load the problem"
   ]
  },
  {
   "cell_type": "code",
   "execution_count": 2,
   "id": "f9dd758b-ad09-43aa-b24c-818c1ce8d9bf",
   "metadata": {},
   "outputs": [],
   "source": [
    "with open(\"input.txt\") as f:\n",
    "    pairs = [l.strip().split(\"-\") for l in f]"
   ]
  },
  {
   "cell_type": "code",
   "execution_count": 3,
   "id": "913e1684-4293-42df-8649-56e6c7e8fbab",
   "metadata": {},
   "outputs": [],
   "source": [
    "graph = defaultdict(list)\n",
    "\n",
    "for x, y in pairs:\n",
    "    graph[x].append(y)\n",
    "    if x == \"start\":\n",
    "        continue\n",
    "    graph[y].append(x)"
   ]
  },
  {
   "cell_type": "code",
   "execution_count": 4,
   "id": "ff3faeb6-3297-4e48-b2e9-eed3be4b0b49",
   "metadata": {},
   "outputs": [],
   "source": [
    "def find_path(graph, node, end, path=()):\n",
    "    for n in graph[node]:\n",
    "        if n == end:\n",
    "            yield path + (n,)\n",
    "        elif not (n.islower() and n in path):\n",
    "            yield from find_path(graph, n, end, path + (node,))"
   ]
  },
  {
   "cell_type": "code",
   "execution_count": 5,
   "id": "dbe10663-f478-4f87-a83a-5df7fb21544c",
   "metadata": {},
   "outputs": [
    {
     "data": {
      "text/plain": [
       "3510"
      ]
     },
     "execution_count": 5,
     "metadata": {},
     "output_type": "execute_result"
    }
   ],
   "source": [
    "sum(1 for _ in find_path(graph, \"start\", \"end\", ()))"
   ]
  },
  {
   "cell_type": "code",
   "execution_count": 6,
   "id": "e39495d9-fadc-4fdd-8536-327623ae9604",
   "metadata": {},
   "outputs": [],
   "source": [
    "def find_path_many(\n",
    "    graph, node, end, path=(), visited_small=None, can_revisit_small=True\n",
    "):\n",
    "    if visited_small is None:\n",
    "        visited_small = set()\n",
    "\n",
    "    path = path + (node,)\n",
    "    if node == end:\n",
    "        yield path\n",
    "        return\n",
    "\n",
    "    for n in graph[node]:\n",
    "        if n.isupper():\n",
    "            yield from find_path_many(\n",
    "                graph,\n",
    "                n,\n",
    "                end,\n",
    "                path,\n",
    "                visited_small.copy(),\n",
    "                can_revisit_small=can_revisit_small,\n",
    "            )\n",
    "        elif n not in visited_small:\n",
    "            yield from find_path_many(\n",
    "                graph,\n",
    "                n,\n",
    "                end,\n",
    "                path,\n",
    "                visited_small | {n},\n",
    "                can_revisit_small=can_revisit_small,\n",
    "            )\n",
    "        elif can_revisit_small:\n",
    "            yield from find_path_many(\n",
    "                graph,\n",
    "                n,\n",
    "                end,\n",
    "                path,\n",
    "                visited_small | {n},\n",
    "                can_revisit_small=False,\n",
    "            )"
   ]
  },
  {
   "cell_type": "code",
   "execution_count": 7,
   "id": "6213d96d-75b1-4003-89dd-88ab1cc08852",
   "metadata": {},
   "outputs": [
    {
     "data": {
      "text/plain": [
       "3510"
      ]
     },
     "execution_count": 7,
     "metadata": {},
     "output_type": "execute_result"
    }
   ],
   "source": [
    "sum(1 for _ in find_path(graph, \"start\", \"end\", ()))"
   ]
  }
 ],
 "metadata": {
  "kernelspec": {
   "display_name": "Python 3 (ipykernel)",
   "language": "python",
   "name": "python3"
  },
  "language_info": {
   "codemirror_mode": {
    "name": "ipython",
    "version": 3
   },
   "file_extension": ".py",
   "mimetype": "text/x-python",
   "name": "python",
   "nbconvert_exporter": "python",
   "pygments_lexer": "ipython3",
   "version": "3.9.7"
  },
  "papermill": {
   "default_parameters": {},
   "duration": 3.067522,
   "end_time": "2021-12-08T13:48:29.482469",
   "environment_variables": {},
   "exception": null,
   "input_path": "08-segments/01-multi-pass.ipynb",
   "output_path": "08-segments/01-multi-pass.ipynb",
   "parameters": {},
   "start_time": "2021-12-08T13:48:26.414947",
   "version": "2.3.3"
  }
 },
 "nbformat": 4,
 "nbformat_minor": 5
}
