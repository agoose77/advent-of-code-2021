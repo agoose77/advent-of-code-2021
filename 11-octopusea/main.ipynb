{
 "cells": [
  {
   "cell_type": "markdown",
   "id": "104aab3f-7060-40a9-be94-2d95ecf93311",
   "metadata": {
    "papermill": {
     "duration": 0.031208,
     "end_time": "2021-12-08T13:48:27.629778",
     "exception": false,
     "start_time": "2021-12-08T13:48:27.598570",
     "status": "completed"
    },
    "tags": []
   },
   "source": [
    "# Day 11: Octopusea\n",
    "The input for this problem is located at https://adventofcode.com/2021/day/11/input"
   ]
  },
  {
   "cell_type": "code",
   "execution_count": 1,
   "id": "ad6c8678-677b-437d-beae-d76423411138",
   "metadata": {
    "lines_to_next_cell": 1,
    "papermill": {
     "duration": 0.035933,
     "end_time": "2021-12-08T13:48:27.700199",
     "exception": false,
     "start_time": "2021-12-08T13:48:27.664266",
     "status": "completed"
    },
    "tags": []
   },
   "outputs": [],
   "source": [
    "from itertools import count\n",
    "\n",
    "import matplotlib.pyplot as plt\n",
    "import numpy as np"
   ]
  },
  {
   "cell_type": "markdown",
   "id": "f31ef713-05ba-4867-83e1-e6a531069035",
   "metadata": {
    "papermill": {
     "duration": 0.033761,
     "end_time": "2021-12-08T13:48:27.771840",
     "exception": false,
     "start_time": "2021-12-08T13:48:27.738079",
     "status": "completed"
    },
    "tags": []
   },
   "source": [
    "Load the problem"
   ]
  },
  {
   "cell_type": "code",
   "execution_count": 2,
   "id": "8de4c6dd-1444-46d8-9bf1-22f49a35468d",
   "metadata": {},
   "outputs": [],
   "source": [
    "energy = np.genfromtxt(\"input.txt\", delimiter=1, dtype=np.uint64)"
   ]
  },
  {
   "cell_type": "code",
   "execution_count": 3,
   "id": "63cd8a3d-73ae-4eb0-9921-474cdb1c1a5b",
   "metadata": {},
   "outputs": [
    {
     "data": {
      "image/png": "[encoded data removed]",
      "text/plain": [
       "<Figure size 432x288 with 1 Axes>"
      ]
     },
     "metadata": {
      "needs_background": "light"
     },
     "output_type": "display_data"
    }
   ],
   "source": [
    "plt.imshow(energy);"
   ]
  },
  {
   "cell_type": "markdown",
   "id": "b577bab4-69e8-40ad-88cd-f0ca2cd30354",
   "metadata": {},
   "source": [
    "## Part 1"
   ]
  },
  {
   "cell_type": "code",
   "execution_count": 4,
   "id": "99ee2a20-dd73-48d7-96af-5bfd5d57eb88",
   "metadata": {},
   "outputs": [],
   "source": [
    "GRID_NEIGHBOURS = np.array(\n",
    "    [(-1, -1), (-1, 0), (-1, 1), (0, 1), (1, 1), (1, 0), (1, -1), (0, -1)]\n",
    ")\n",
    "\n",
    "\n",
    "def neighbours(i, j, grid):\n",
    "    for (u, v) in GRID_NEIGHBOURS + [i, j]:\n",
    "        if not (0 <= u < grid.shape[0] and 0 <= v < grid.shape[1]):\n",
    "            continue\n",
    "        yield u, v"
   ]
  },
  {
   "cell_type": "code",
   "execution_count": 5,
   "id": "fb2ce6e7-712a-4505-a04b-e34f1a6c983d",
   "metadata": {},
   "outputs": [],
   "source": [
    "def step(energy):\n",
    "    # Increment Energy\n",
    "    energy += 1\n",
    "\n",
    "    # Determine the number of flashes\n",
    "    flashes = np.where(energy > 9)\n",
    "\n",
    "    # Add seeds to open set\n",
    "    open = set()\n",
    "    open.update(zip(*flashes))\n",
    "\n",
    "    # Use closed grid\n",
    "    closed = np.zeros(energy.shape, dtype=np.bool_)\n",
    "\n",
    "    while open:\n",
    "        ix = open.pop()\n",
    "        if closed[ix]:\n",
    "            continue\n",
    "\n",
    "        closed[ix] = True\n",
    "\n",
    "        for jx in neighbours(ix[0], ix[1], energy):\n",
    "            energy[jx] += 1\n",
    "            if energy[jx] > 9:\n",
    "                open.add(jx)\n",
    "\n",
    "    energy[closed] = 0\n",
    "\n",
    "    return closed.sum()"
   ]
  },
  {
   "cell_type": "code",
   "execution_count": 6,
   "id": "be73727d-7417-4044-ab90-b19ae4b0be22",
   "metadata": {},
   "outputs": [
    {
     "data": {
      "text/plain": [
       "1741"
      ]
     },
     "execution_count": 6,
     "metadata": {},
     "output_type": "execute_result"
    }
   ],
   "source": [
    "flashes_per_step = [step(energy) for _ in range(100)]\n",
    "sum(flashes_per_step)"
   ]
  },
  {
   "cell_type": "markdown",
   "id": "f81ee2f6-add9-4279-bb21-ec9f28226b41",
   "metadata": {},
   "source": [
    "## Part 2"
   ]
  },
  {
   "cell_type": "code",
   "execution_count": 7,
   "id": "d54a57de-f530-4873-bafd-84ce9d453d59",
   "metadata": {},
   "outputs": [
    {
     "data": {
      "text/plain": [
       "440"
      ]
     },
     "execution_count": 7,
     "metadata": {},
     "output_type": "execute_result"
    }
   ],
   "source": [
    "for i in count():\n",
    "    n_flashes = step(energy)\n",
    "    if n_flashes == energy.size:\n",
    "        break\n",
    "len(flashes_per_step) + i + 1"
   ]
  }
 ],
 "metadata": {
  "kernelspec": {
   "display_name": "Python 3 (ipykernel)",
   "language": "python",
   "name": "python3"
  },
  "language_info": {
   "codemirror_mode": {
    "name": "ipython",
    "version": 3
   },
   "file_extension": ".py",
   "mimetype": "text/x-python",
   "name": "python",
   "nbconvert_exporter": "python",
   "pygments_lexer": "ipython3",
   "version": "3.9.7"
  },
  "papermill": {
   "default_parameters": {},
   "duration": 3.067522,
   "end_time": "2021-12-08T13:48:29.482469",
   "environment_variables": {},
   "exception": null,
   "input_path": "08-segments/01-multi-pass.ipynb",
   "output_path": "08-segments/01-multi-pass.ipynb",
   "parameters": {},
   "start_time": "2021-12-08T13:48:26.414947",
   "version": "2.3.3"
  }
 },
 "nbformat": 4,
 "nbformat_minor": 5
}
